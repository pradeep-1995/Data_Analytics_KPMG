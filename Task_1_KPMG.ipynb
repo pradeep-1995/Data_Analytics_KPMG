{
  "cells": [
    {
      "cell_type": "markdown",
      "metadata": {
        "id": "MqZ2HhptcJIU"
      },
      "source": [
        "## **KPMG - Virtual Experience Program**\n",
        "****\n",
        "### Task-1 Data Quality Assesment\n",
        "📑 Objective :\n",
        "\n",
        "\n",
        "*   Preliminary data exploration and identify ways to improve the quality of Sprocket Central Pty Ltd’s data.\n",
        "*   The 3 datasets attached from Sprocket Central Pty Ltd:\n",
        "    *  Customer Demographic\n",
        "    *  Customer Addresses\n",
        "    *  Transaction data in the past three months\n",
        "\n"
      ]
    },
    {
      "cell_type": "code",
      "execution_count": null,
      "metadata": {
        "id": "jDPb9Z4NcEaL"
      },
      "outputs": [],
      "source": [
        "import numpy as np\n",
        "import pandas as pd\n",
        "import matplotlib.pyplot as plt\n",
        "import seaborn as sns\n",
        "\n",
        "import warnings\n",
        "warnings.filterwarnings(\"ignore\")"
      ]
    },
    {
      "cell_type": "markdown",
      "metadata": {
        "id": "2gpfOAIMgxuW"
      },
      "source": [
        "**Load Dataset :**"
      ]
    },
    {
      "cell_type": "code",
      "execution_count": null,
      "metadata": {
        "colab": {
          "base_uri": "https://localhost:8080/"
        },
        "id": "dSsXVEjlgpJ6",
        "outputId": "b0bce19c-eff0-4452-bc7d-ff401d728bb8"
      },
      "outputs": [
        {
          "output_type": "stream",
          "name": "stdout",
          "text": [
            "Sheet Name: Title Sheet\n",
            "Sheet Name: Transactions\n",
            "Sheet Name: NewCustomerList\n",
            "Sheet Name: CustomerDemographic\n",
            "Sheet Name: CustomerAddress\n"
          ]
        }
      ],
      "source": [
        "# Specify the path to your Excel file\n",
        "excel_file = \"/content/KPMG_VI_New_raw_data_update_final.xlsx\"\n",
        "\n",
        "# Read the Excel file into a dictionary of data frames, where each key represents a sheet name\n",
        "dfs = pd.read_excel(excel_file, sheet_name=None)\n",
        "\n",
        "# Access each data frame by sheet name\n",
        "for sheet_name, df in dfs.items():\n",
        "    print(f\"Sheet Name: {sheet_name}\")\n",
        "    #print(df)  # Do whatever operations you need with the data frame\n",
        "    #print(\"-----------\")\n",
        "    if sheet_name == \"Transactions\":\n",
        "      df_tran = df\n",
        "    elif sheet_name == \"CustomerDemographic\":\n",
        "      df_demo = df\n",
        "    elif sheet_name == \"CustomerAddress\":\n",
        "      df_addr = df"
      ]
    },
    {
      "cell_type": "markdown",
      "metadata": {
        "id": "FkGYeb1jj8km"
      },
      "source": [
        "## **Customer Demographic**\n",
        "***\n",
        "### **1. Exploratory Data Analysis**\n",
        "**1.1 Checking Data Type and Unique Values**"
      ]
    },
    {
      "cell_type": "code",
      "execution_count": null,
      "metadata": {
        "colab": {
          "base_uri": "https://localhost:8080/",
          "height": 294
        },
        "id": "8WhWLCMviGu3",
        "outputId": "35f6339b-82a6-4a90-8943-3e043ba9d1b2"
      },
      "outputs": [
        {
          "output_type": "execute_result",
          "data": {
            "text/plain": [
              "      customer_id first_name last_name  gender  \\\n",
              "2547         2548   Kristien  Robberts  Female   \n",
              "3050         3051        Edi    Lugton  Female   \n",
              "2282         2283     Gaspar   Janaway    Male   \n",
              "\n",
              "      past_3_years_bike_related_purchases        DOB              job_title  \\\n",
              "2547                                   11 1971-07-30  Chief Design Engineer   \n",
              "3050                                   81 1973-06-06                    NaN   \n",
              "2282                                   44 1954-02-08    Software Consultant   \n",
              "\n",
              "     job_industry_category     wealth_segment deceased_indicator  \\\n",
              "2547                   NaN      Mass Customer                  N   \n",
              "3050         Manufacturing  Affluent Customer                  N   \n",
              "2282                   NaN     High Net Worth                  N   \n",
              "\n",
              "                                                default owns_car  tenure  \n",
              "2547                                                  1       No    13.0  \n",
              "3050                                   ð¾ ð ð ð ð ð ð ð      Yes     7.0  \n",
              "2282  () { _; } >_[$($())] { touch /tmp/blns.shellsh...       No    16.0  "
            ],
            "text/html": [
              "\n",
              "  <div id=\"df-7f88ca59-c15d-43e9-80cb-8cd25912d2cd\">\n",
              "    <div class=\"colab-df-container\">\n",
              "      <div>\n",
              "<style scoped>\n",
              "    .dataframe tbody tr th:only-of-type {\n",
              "        vertical-align: middle;\n",
              "    }\n",
              "\n",
              "    .dataframe tbody tr th {\n",
              "        vertical-align: top;\n",
              "    }\n",
              "\n",
              "    .dataframe thead th {\n",
              "        text-align: right;\n",
              "    }\n",
              "</style>\n",
              "<table border=\"1\" class=\"dataframe\">\n",
              "  <thead>\n",
              "    <tr style=\"text-align: right;\">\n",
              "      <th></th>\n",
              "      <th>customer_id</th>\n",
              "      <th>first_name</th>\n",
              "      <th>last_name</th>\n",
              "      <th>gender</th>\n",
              "      <th>past_3_years_bike_related_purchases</th>\n",
              "      <th>DOB</th>\n",
              "      <th>job_title</th>\n",
              "      <th>job_industry_category</th>\n",
              "      <th>wealth_segment</th>\n",
              "      <th>deceased_indicator</th>\n",
              "      <th>default</th>\n",
              "      <th>owns_car</th>\n",
              "      <th>tenure</th>\n",
              "    </tr>\n",
              "  </thead>\n",
              "  <tbody>\n",
              "    <tr>\n",
              "      <th>2547</th>\n",
              "      <td>2548</td>\n",
              "      <td>Kristien</td>\n",
              "      <td>Robberts</td>\n",
              "      <td>Female</td>\n",
              "      <td>11</td>\n",
              "      <td>1971-07-30</td>\n",
              "      <td>Chief Design Engineer</td>\n",
              "      <td>NaN</td>\n",
              "      <td>Mass Customer</td>\n",
              "      <td>N</td>\n",
              "      <td>1</td>\n",
              "      <td>No</td>\n",
              "      <td>13.0</td>\n",
              "    </tr>\n",
              "    <tr>\n",
              "      <th>3050</th>\n",
              "      <td>3051</td>\n",
              "      <td>Edi</td>\n",
              "      <td>Lugton</td>\n",
              "      <td>Female</td>\n",
              "      <td>81</td>\n",
              "      <td>1973-06-06</td>\n",
              "      <td>NaN</td>\n",
              "      <td>Manufacturing</td>\n",
              "      <td>Affluent Customer</td>\n",
              "      <td>N</td>\n",
              "      <td>ð¾ ð ð ð ð ð ð ð</td>\n",
              "      <td>Yes</td>\n",
              "      <td>7.0</td>\n",
              "    </tr>\n",
              "    <tr>\n",
              "      <th>2282</th>\n",
              "      <td>2283</td>\n",
              "      <td>Gaspar</td>\n",
              "      <td>Janaway</td>\n",
              "      <td>Male</td>\n",
              "      <td>44</td>\n",
              "      <td>1954-02-08</td>\n",
              "      <td>Software Consultant</td>\n",
              "      <td>NaN</td>\n",
              "      <td>High Net Worth</td>\n",
              "      <td>N</td>\n",
              "      <td>() { _; } &gt;_[$($())] { touch /tmp/blns.shellsh...</td>\n",
              "      <td>No</td>\n",
              "      <td>16.0</td>\n",
              "    </tr>\n",
              "  </tbody>\n",
              "</table>\n",
              "</div>\n",
              "      <button class=\"colab-df-convert\" onclick=\"convertToInteractive('df-7f88ca59-c15d-43e9-80cb-8cd25912d2cd')\"\n",
              "              title=\"Convert this dataframe to an interactive table.\"\n",
              "              style=\"display:none;\">\n",
              "        \n",
              "  <svg xmlns=\"http://www.w3.org/2000/svg\" height=\"24px\"viewBox=\"0 0 24 24\"\n",
              "       width=\"24px\">\n",
              "    <path d=\"M0 0h24v24H0V0z\" fill=\"none\"/>\n",
              "    <path d=\"M18.56 5.44l.94 2.06.94-2.06 2.06-.94-2.06-.94-.94-2.06-.94 2.06-2.06.94zm-11 1L8.5 8.5l.94-2.06 2.06-.94-2.06-.94L8.5 2.5l-.94 2.06-2.06.94zm10 10l.94 2.06.94-2.06 2.06-.94-2.06-.94-.94-2.06-.94 2.06-2.06.94z\"/><path d=\"M17.41 7.96l-1.37-1.37c-.4-.4-.92-.59-1.43-.59-.52 0-1.04.2-1.43.59L10.3 9.45l-7.72 7.72c-.78.78-.78 2.05 0 2.83L4 21.41c.39.39.9.59 1.41.59.51 0 1.02-.2 1.41-.59l7.78-7.78 2.81-2.81c.8-.78.8-2.07 0-2.86zM5.41 20L4 18.59l7.72-7.72 1.47 1.35L5.41 20z\"/>\n",
              "  </svg>\n",
              "      </button>\n",
              "      \n",
              "  <style>\n",
              "    .colab-df-container {\n",
              "      display:flex;\n",
              "      flex-wrap:wrap;\n",
              "      gap: 12px;\n",
              "    }\n",
              "\n",
              "    .colab-df-convert {\n",
              "      background-color: #E8F0FE;\n",
              "      border: none;\n",
              "      border-radius: 50%;\n",
              "      cursor: pointer;\n",
              "      display: none;\n",
              "      fill: #1967D2;\n",
              "      height: 32px;\n",
              "      padding: 0 0 0 0;\n",
              "      width: 32px;\n",
              "    }\n",
              "\n",
              "    .colab-df-convert:hover {\n",
              "      background-color: #E2EBFA;\n",
              "      box-shadow: 0px 1px 2px rgba(60, 64, 67, 0.3), 0px 1px 3px 1px rgba(60, 64, 67, 0.15);\n",
              "      fill: #174EA6;\n",
              "    }\n",
              "\n",
              "    [theme=dark] .colab-df-convert {\n",
              "      background-color: #3B4455;\n",
              "      fill: #D2E3FC;\n",
              "    }\n",
              "\n",
              "    [theme=dark] .colab-df-convert:hover {\n",
              "      background-color: #434B5C;\n",
              "      box-shadow: 0px 1px 3px 1px rgba(0, 0, 0, 0.15);\n",
              "      filter: drop-shadow(0px 1px 2px rgba(0, 0, 0, 0.3));\n",
              "      fill: #FFFFFF;\n",
              "    }\n",
              "  </style>\n",
              "\n",
              "      <script>\n",
              "        const buttonEl =\n",
              "          document.querySelector('#df-7f88ca59-c15d-43e9-80cb-8cd25912d2cd button.colab-df-convert');\n",
              "        buttonEl.style.display =\n",
              "          google.colab.kernel.accessAllowed ? 'block' : 'none';\n",
              "\n",
              "        async function convertToInteractive(key) {\n",
              "          const element = document.querySelector('#df-7f88ca59-c15d-43e9-80cb-8cd25912d2cd');\n",
              "          const dataTable =\n",
              "            await google.colab.kernel.invokeFunction('convertToInteractive',\n",
              "                                                     [key], {});\n",
              "          if (!dataTable) return;\n",
              "\n",
              "          const docLinkHtml = 'Like what you see? Visit the ' +\n",
              "            '<a target=\"_blank\" href=https://colab.research.google.com/notebooks/data_table.ipynb>data table notebook</a>'\n",
              "            + ' to learn more about interactive tables.';\n",
              "          element.innerHTML = '';\n",
              "          dataTable['output_type'] = 'display_data';\n",
              "          await google.colab.output.renderOutput(dataTable, element);\n",
              "          const docLink = document.createElement('div');\n",
              "          docLink.innerHTML = docLinkHtml;\n",
              "          element.appendChild(docLink);\n",
              "        }\n",
              "      </script>\n",
              "    </div>\n",
              "  </div>\n",
              "  "
            ]
          },
          "metadata": {},
          "execution_count": 3
        }
      ],
      "source": [
        "df_demo.sample(3)"
      ]
    },
    {
      "cell_type": "code",
      "execution_count": null,
      "metadata": {
        "colab": {
          "base_uri": "https://localhost:8080/"
        },
        "id": "tYUas2fBloy9",
        "outputId": "128ca416-5751-4548-9a3e-74575f999fbf"
      },
      "outputs": [
        {
          "output_type": "execute_result",
          "data": {
            "text/plain": [
              "(4000, 13)"
            ]
          },
          "metadata": {},
          "execution_count": 4
        }
      ],
      "source": [
        "# Checking Shape\n",
        "df_demo.shape"
      ]
    },
    {
      "cell_type": "code",
      "execution_count": null,
      "metadata": {
        "colab": {
          "base_uri": "https://localhost:8080/"
        },
        "id": "Ye2o8MAQvcB-",
        "outputId": "c6cd16e6-3d7d-4f2a-f734-3eb3bc115961"
      },
      "outputs": [
        {
          "output_type": "stream",
          "name": "stdout",
          "text": [
            "<class 'pandas.core.frame.DataFrame'>\n",
            "RangeIndex: 4000 entries, 0 to 3999\n",
            "Data columns (total 13 columns):\n",
            " #   Column                               Non-Null Count  Dtype         \n",
            "---  ------                               --------------  -----         \n",
            " 0   customer_id                          4000 non-null   int64         \n",
            " 1   first_name                           4000 non-null   object        \n",
            " 2   last_name                            3875 non-null   object        \n",
            " 3   gender                               4000 non-null   object        \n",
            " 4   past_3_years_bike_related_purchases  4000 non-null   int64         \n",
            " 5   DOB                                  3913 non-null   datetime64[ns]\n",
            " 6   job_title                            3494 non-null   object        \n",
            " 7   job_industry_category                3344 non-null   object        \n",
            " 8   wealth_segment                       4000 non-null   object        \n",
            " 9   deceased_indicator                   4000 non-null   object        \n",
            " 10  default                              3698 non-null   object        \n",
            " 11  owns_car                             4000 non-null   object        \n",
            " 12  tenure                               3913 non-null   float64       \n",
            "dtypes: datetime64[ns](1), float64(1), int64(2), object(9)\n",
            "memory usage: 406.4+ KB\n"
          ]
        }
      ],
      "source": [
        "# Checking Dataset Info\n",
        "df_demo.info()"
      ]
    },
    {
      "cell_type": "code",
      "execution_count": null,
      "metadata": {
        "colab": {
          "base_uri": "https://localhost:8080/"
        },
        "id": "Hm_-92lKv2XR",
        "outputId": "856076d2-6d0f-4ee6-8fd1-06c717ddfe0f"
      },
      "outputs": [
        {
          "output_type": "stream",
          "name": "stdout",
          "text": [
            "customer_id have 4000 unique values and data type :int64\n",
            "customer_id values: [   1    2    3 ... 3998 3999 4000]\n",
            "-----------\n",
            " \n",
            "first_name have 3139 unique values and data type :object\n",
            "first_name values: ['Laraine' 'Eli' 'Arlin' ... 'Stephie' 'Rusty' 'Sarene']\n",
            "-----------\n",
            " \n",
            "last_name have 3725 unique values and data type :object\n",
            "last_name values: ['Medendorp' 'Bockman' 'Dearle' ... 'Halgarth' 'Woolley' 'Oldland']\n",
            "-----------\n",
            " \n",
            "gender have 6 unique values and data type :object\n",
            "gender values: ['F' 'Male' 'Female' 'U' 'Femal' 'M']\n",
            "-----------\n",
            " \n",
            "past_3_years_bike_related_purchases have 100 unique values and data type :int64\n",
            "past_3_years_bike_related_purchases values: [93 81 61 33 56 35  6 31 97 49 99 58 38 85 91 57 79 76 72 74 43 55 12 37\n",
            "  5 62 18  3 17 44 59 40 46 64 24 63 98 51 68 22  2 48 87 26 60 47 73 21\n",
            " 67 16 78 30 94 28 20 11  1 75 41 69 19 80 83 25 54  4 23 65 88 10 77  9\n",
            " 82 27 53 32 34 71 36 90 95  8 39  7 42 13 45 50 14 89 84 96 70 66  0 15\n",
            " 86 92 29 52]\n",
            "-----------\n",
            " \n",
            "DOB have 3448 unique values and data type :datetime64[ns]\n",
            "job_title have 195 unique values and data type :object\n",
            "job_title values: ['Executive Secretary' 'Administrative Officer' 'Recruiting Manager' nan\n",
            " 'Senior Editor' 'Media Manager I' 'Business Systems Development Analyst'\n",
            " 'Senior Quality Engineer' 'Nuclear Power Engineer' 'Developer I'\n",
            " 'Account Executive' 'Junior Executive' 'Media Manager IV'\n",
            " 'Sales Associate' 'Professor' 'Geological Engineer' 'Project Manager'\n",
            " 'Safety Technician I' 'Research Assistant I' 'Accounting Assistant III'\n",
            " 'Editor' 'Research Nurse' 'Safety Technician III' 'Staff Accountant III'\n",
            " 'Legal Assistant' 'Product Engineer' 'Information Systems Manager'\n",
            " 'VP Quality Control' 'Social Worker' 'Senior Cost Accountant'\n",
            " 'Assistant Media Planner' 'Payment Adjustment Coordinator' 'Food Chemist'\n",
            " 'Accountant III' 'Director of Sales' 'Senior Financial Analyst'\n",
            " 'Registered Nurse' 'Biostatistician II' 'Computer Systems Analyst II'\n",
            " 'Software Test Engineer II' 'Paralegal' 'VP Sales'\n",
            " 'Chief Design Engineer' 'Office Assistant III'\n",
            " 'Physical Therapy Assistant' 'Help Desk Operator' 'Web Developer II'\n",
            " 'Research Associate' 'Teacher' 'VP Product Management' 'Statistician II'\n",
            " 'Automation Specialist IV' 'Data Coordiator' 'Software Test Engineer III'\n",
            " 'Internal Auditor' 'Analyst Programmer' 'Occupational Therapist'\n",
            " 'Speech Pathologist' 'Quality Control Specialist' 'Civil Engineer'\n",
            " 'Software Engineer III' 'Community Outreach Specialist'\n",
            " 'Safety Technician IV' 'VP Accounting' 'General Manager'\n",
            " 'Nurse Practicioner' 'Automation Specialist II' 'Marketing Assistant'\n",
            " 'Marketing Manager' 'Staff Scientist' 'Assistant Professor'\n",
            " 'Budget/Accounting Analyst IV' 'Associate Professor' 'Graphic Designer'\n",
            " 'Administrative Assistant II' 'Compensation Analyst'\n",
            " 'Systems Administrator III' 'Financial Advisor' 'Chemical Engineer'\n",
            " 'Web Designer I' 'Senior Developer' 'Office Assistant II' 'Recruiter'\n",
            " 'Operator' 'Programmer Analyst III' 'Quality Engineer'\n",
            " 'Environmental Tech' 'Analog Circuit Design manager' 'Cost Accountant'\n",
            " 'Librarian' 'Structural Analysis Engineer' 'Pharmacist'\n",
            " 'Assistant Manager' 'Accountant I' 'Web Designer III' 'Geologist III'\n",
            " 'Software Test Engineer I' 'Structural Engineer' 'Safety Technician II'\n",
            " 'Web Developer III' 'Programmer Analyst II' 'Design Engineer'\n",
            " 'Statistician I' 'VP Marketing' 'Desktop Support Technician' 'Actuary'\n",
            " 'Database Administrator III' 'Electrical Engineer' 'Tax Accountant'\n",
            " 'Clinical Specialist' 'Database Administrator IV'\n",
            " 'Systems Administrator II' 'Account Coordinator' 'Programmer III'\n",
            " 'Administrative Assistant III' 'Nurse' 'Technical Writer'\n",
            " 'Staff Accountant II' 'Dental Hygienist' 'Sales Representative'\n",
            " 'Budget/Accounting Analyst III' 'Computer Systems Analyst IV'\n",
            " 'Geologist I' 'Financial Analyst' 'Accounting Assistant II'\n",
            " 'Senior Sales Associate' 'Database Administrator II' 'Engineer I'\n",
            " 'Budget/Accounting Analyst I' 'Developer IV' 'Database Administrator I'\n",
            " 'Environmental Specialist' 'Computer Systems Analyst I'\n",
            " 'Account Representative IV' 'Statistician IV' 'Human Resources Manager'\n",
            " 'GIS Technical Architect' 'Programmer IV' 'Accounting Assistant IV'\n",
            " 'Software Engineer IV' 'Programmer II' 'Engineer III'\n",
            " 'Software Consultant' 'Biostatistician IV' 'Help Desk Technician'\n",
            " 'Automation Specialist I' 'Developer III' 'Human Resources Assistant I'\n",
            " 'Geologist IV' 'Media Manager II' 'Statistician III' 'Engineer II'\n",
            " 'Health Coach II' 'Developer II' 'Systems Administrator I'\n",
            " 'Web Developer I' 'Software Engineer II' 'Accounting Assistant I'\n",
            " 'Research Assistant II' 'Programmer Analyst IV' 'Health Coach I'\n",
            " 'Accountant II' 'Automation Specialist III' 'Administrative Assistant I'\n",
            " 'Health Coach IV' 'Media Manager III' 'Account Representative III'\n",
            " 'Web Designer IV' 'Budget/Accounting Analyst II' 'Web Developer IV'\n",
            " 'Programmer I' 'Biostatistician III' 'Software Test Engineer IV'\n",
            " 'Research Assistant IV' 'Account Representative I' 'Accountant IV'\n",
            " 'Biostatistician I' 'Human Resources Assistant IV'\n",
            " 'Administrative Assistant IV' 'Office Assistant I'\n",
            " 'Human Resources Assistant II' 'Mechanical Systems Engineer'\n",
            " 'Engineer IV' 'Health Coach III' 'Office Assistant IV'\n",
            " 'Software Engineer I' 'Human Resources Assistant III'\n",
            " 'Staff Accountant I' 'Computer Systems Analyst III' 'Geologist II'\n",
            " 'Web Designer II' 'Staff Accountant IV' 'Account Representative II'\n",
            " 'Programmer Analyst I' 'Systems Administrator IV'\n",
            " 'Research Assistant III']\n",
            "-----------\n",
            " \n",
            "job_industry_category have 9 unique values and data type :object\n",
            "job_industry_category values: ['Health' 'Financial Services' 'Property' 'IT' nan 'Retail' 'Argiculture'\n",
            " 'Manufacturing' 'Telecommunications' 'Entertainment']\n",
            "-----------\n",
            " \n",
            "wealth_segment have 3 unique values and data type :object\n",
            "wealth_segment values: ['Mass Customer' 'Affluent Customer' 'High Net Worth']\n",
            "-----------\n",
            " \n",
            "deceased_indicator have 2 unique values and data type :object\n",
            "deceased_indicator values: ['N' 'Y']\n",
            "-----------\n",
            " \n",
            "default have 90 unique values and data type :object\n",
            "default values: ['\"\\'' \"<script>alert('hi')</script>\" datetime.datetime(2018, 2, 1, 0, 0)\n",
            " '() { _; } >_[$($())] { touch /tmp/blns.shellshock2.fail; }' 'NIL'\n",
            " 'ðµ ð ð ð' 'â°â´âµâââ' '(â¯Â°â¡Â°ï¼â¯ï¸µ â»ââ»)' '0/0' 'ð©ð½'\n",
            " 'ÅâÂ´Â®â\\xa0Â¥Â¨ËÃ¸Ïââ' 'nil' -100 'â°â´âµ' 'ð'\n",
            " 1000000000000000049861653971908893017010268485438462151574892930611988399099305815384459015356416\n",
            " 'ï¾ï½¥â¿ã¾â²(ï½¡ââ¿âï½¡)â±â¿ï½¥ï¾' 'Î©âÃ§ââ«ËÂµâ¤â¥Ã·' 'ÅâÂ´â°ËÃÂ¨ËÃâââ'\n",
            " 'ï¼ï¼ï¼' '../../../../../../../../../../../etc/hosts'\n",
            " '×Ö¸×Ö°×ªÖ¸×testØ§ÙØµÙØ\\xadØ§Øª Ø§ÙØªÙØ\\xadÙÙ' '<>?:\"{}|_+' '\\'\\'\\'\\'\"'\n",
            " \",./;'[]\\\\-=\" '() { 0; }; touch /tmp/blns.shellshock1.fail;'\n",
            " 'ì¬íê³¼íì ì´íì°êµ¬ì' 'testâ\\xa0testâ«'\n",
            " '0ï¸â£ 1ï¸â£ 2ï¸â£ 3ï¸â£ 4ï¸â£ 5ï¸â£ 6ï¸â£ 7ï¸â£ 8ï¸â£ 9ï¸â£ ð' nan\n",
            " '!@#$%^&*()' \"'\"\n",
            " 'Ì¦HÍÌ¬Ì¤ÌÌ¤eÍ ÍÌÌ¥ÌÌ»ÍÌwÌhÌÌ¯ÍoÌÍÌÍÌ±Ì® ÒÌºÌÌÌÍWÌ·Ì¼Ì\\xadaÌºÌªÍiÌ¨ÍÍÌ\\xadÍÌ¯ÌtÌ¶Ì¼Ì®sÌÌÍÍ Ì\\xa0Ì«Ì\\xa0BÌ»ÍÍÍÍÌ³eÌµhÌµÌ¬ÍÌ«ÍiÌÌ¹ÍÌ³Ì³Ì®ÍÌ«nÍdÌ´ÌªÌÌ ÍÌ°ÍÌ©ÍÍÍÌ²TÍ¢ÍÌ¼ÍÌªhÍÍÌ®Ì»eÌ¬ÌÍÌ Ì¤Ì¹ÌWÍÍÍÌÌÍÍaÍÍÍÌ¹Ì¼'\n",
            " '../../../../../../../../../../../etc/passwd%00' 'åè£½æ¼¢èª'\n",
            " '`ââ¬â¹âºï¬ï¬â¡Â°Â·ââÂ±' 'ãã¼ãã£ã¼ã¸è¡ããªãã' 1 -0.5\n",
            " 'ZÌ®ÌÍÌ\\xa0ÍÍAÌ¥ÌÌÍÌ»ÌLÌ£ÍÍÌ¯Ì¹ÌÍGÌ»OÌ\\xadÌÌ®' 'ã' 100\n",
            " '1;DROP TABLE users' -1 'á' '(ï¾à²¥çà²¥ï¼ï¾ï»¿ â»ââ»' '00ËÆ$-' '1/0'\n",
            " 'ï½ï½¨(Â´âï½â©' \"<svg><script>0<1>alert('XSS')</script>\" 'âââ'\n",
            " 'ã»(ï¿£âï¿£)ã»:*:' ',ãã»:*:ã»ãâ( â» Ï â» )ãã»:*:ã»ãâ' 'â¢'\n",
            " 'ç°ä¸\\xadããã«ããã¦ä¸ãã' '__ï¾(,_,*)' 'Ù¡Ù¢Ù£'\n",
            " 'Ø«Ù ÙÙØ³ Ø³ÙØ·Øª ÙØ¨Ø§ÙØªØ\\xadØ¯ÙØ¯Ø, Ø¬Ø²ÙØ±ØªÙ Ø¨Ø§Ø³ØªØ®Ø¯Ø§Ù Ø£Ù Ø¯ÙÙ. Ø¥Ø° ÙÙØ§Ø Ø§ÙØ³ØªØ§Ø± ÙØªÙØµÙØ¨ ÙØ§Ù. Ø£ÙÙÙ Ø§ÙØ·Ø§ÙÙØ§Ø Ø¨Ø±ÙØ·Ø§ÙÙØ§-ÙØ±ÙØ³Ø§ ÙØ¯ Ø£Ø®Ø°. Ø³ÙÙÙØ§ÙØ Ø¥ØªÙØ§ÙÙØ© Ø¨ÙÙ ÙØ§, ÙØ°ÙØ± Ø'\n",
            " 'ð¾ ð ð ð ð ð ð ð§' \"<img src=x onerror=alert('hi') />\"\n",
            " 'ã½à¼¼àºÙÍàºà¼½ï¾ ã½à¼¼àºÙÍàºà¼½ï¾' 'âð¿ ðªð¿ ðð¿ ðð¿ ðð¿ ðð¿'\n",
            " 'TÌÌ\\xadÌºÌºoÍ Ì·iÌ²Ì¬ÍÌªÍnÌÌÍvÍÌÌÌÌ¦oÌ¶ÌÌ°Ì\\xa0keÍÍÌ®ÌºÌªÌ¹Ì±Ì¤ ÌtÍÌÍÌ³Ì£Ì»ÌªhÌ¼ÍÌ²Ì¦Ì³ÌÌ²eÍÌ£Ì°Ì¦Ì¬Í Ì¢Ì¼Ì»Ì±ÌhÍÍÍÍÌÌ£Ì²iÌ¦Ì²Ì£Ì°Ì¤vÌ»ÍeÌºÌ\\xadÌ³ÌªÌ°-mÌ¢iÍnÌÌºÌÌ²Ì¯Ì°dÌµÌ¼ÌÍÌ©Ì¼ÌÌ³ ÌÌ¥Ì±Ì³Ì\\xadrÌÌÌeÍpÍ\\xa0rÌ¼ÌÌ»Ì\\xadÌeÍÌºÌ\\xa0Ì£sÌ'\n",
            " 'ÃÃÃÃËÃÃï£¿ÃÃÃâ' '(ï½¡â â âï½¡)' 'é¨è½æ\\xa0¼'\n",
            " \"ËÉnbá´lÉ ÉuÆÉÉ¯ ÇÉ¹olop ÊÇ ÇÉ¹oqÉl Ên Êunpá´pá´Éuá´ É¹odÉ¯ÇÊ poÉ¯sná´Ç op pÇs 'Êá´lÇ Æuá´Ésá´dá´pÉ É¹nÊÇÊÉÇsuoÉ 'ÊÇÉ¯É Êá´s É¹olop É¯nsdá´ É¯ÇÉ¹oË¥\"\n",
            " 'á\\xa0'\n",
            " '×Ö¼Ö°×¨Öµ××©×Ö´××ª, ×Ö¼Ö¸×¨Ö¸× ×Ö±×Ö¹×Ö´××, ×Öµ×ª ×Ö·×©Ö¼×Ö¸×Ö·×Ö´×, ×Ö°×Öµ×ª ×Ö¸×Ö¸×¨Ö¶×¥'\n",
            " 'Â¡â¢Â£Â¢âÂ§Â¶â¢ÂªÂºââ\\xa0' '/dev/null; touch /tmp/blns.fail ; echo'\n",
            " \"1'; DROP TABLE users--\" 'ð¾ ð ð ð ð ð ð ð'\n",
            " 'Ì¡ÍÍÌIÍÌÌÌ¦nÍÍÍvÌ®Ì«okÌ²Ì«ÌÍiÌÍÌ\\xadÌ¹Ì\\xa0ÌnÌ¡Ì»Ì®Ì£ÌºgÌ²ÍÍÌ\\xadÍÌ¬Í Ì°tÍÌ¦hÌÌ²eÌ¢Ì¤ ÍÌ¬Ì²ÍfÌ´ÌÍÌ£eÍÍeÌ£Ì¥Ì©lÍÍÍiÍ\\xa0ÍÍÌ¦nÍÍÌÍÌ³Ì®gÍ Ì¨oÍ¡ÍÌªfÌÌ£Ì¬ ÌÌÍÌÍÌ®cÒÍÌ«ÍÍÍÍÍhÌµÌ¤Ì£ÍÍaÍÌÌ¼ÍÍoÌ¼Ì£Ì¥sÍ¢Ì±ÍÌºÌÌ¦Ì».ÌÌ'\n",
            " 'â' 'Â¸ËÃâÄ±ËÃÂ¯ËÂ¿' 'ì¸ëë°í\\xa0ë¥´'\n",
            " 'ÌÌºÍÌ¹Ì¯ÍTÌ±Ì¤ÍÌ¥ÍÍhÍÌ²eÍÍÌ¼ÌÌÌ¼Ì£Í ÍÌÌ±Ì\\xa0ÍÍÍNÍ\\xa0ÍeÌÌ±zÌÌÌÌºÍpÌ¤ÌºÌ¹ÍÌ¯ÍeÍÌ\\xa0Ì»Ì\\xa0rÌ¨Ì¤ÍÌºÌÍÌÌdÍÌ\\xa0ÌÌ\\xadÌ¬ÌiÌ¦ÍÌ©ÍÍÌ¤aÌ\\xa0ÌÌ¬ÍÌnÍÍ Ì»ÌÌ°ÍÍhÌµÍiÌ³ÌvÌ¢ÍeÍÌ\\xadÍ-ÒÌ\\xadÌ©Ì¼ÍmÌ¤Ì\\xadÌ«iÍÍÌÌ¦nÌÍdÌ£Ì ÍÌ¯Ì²ÍoÌ¨ÌÌ¯Ì°Ì²'\n",
            " 0 'â©testâ©' 'â£' 'Ã¥ÃâÆÂ©ËâËÂ¬â¦Ã¦' 'ç¤¾æç§å\\xad¸é¢èªå\\xad¸ç\\xa0ç©¶æ'\n",
            " 'âªâªtestâª' 'ï»¿' 'â¤ï¸ ð ð ð ð ð ð ð ð ð ð ð ð ð ð' 'â«testâ«'\n",
            " 'â¦testâ§' '\\'\"\\'\\'\\'\\'\"' 'â¡'\n",
            " 'ð\\xa0ð\\xa0±ð\\xa0¹ð\\xa0±ð\\xa0±¸ð\\xa0²ð\\xa0³']\n",
            "-----------\n",
            " \n",
            "owns_car have 2 unique values and data type :object\n",
            "owns_car values: ['Yes' 'No']\n",
            "-----------\n",
            " \n",
            "tenure have 22 unique values and data type :float64\n",
            "tenure values: [11. 16. 15.  7.  8. 13. 20.  9.  6.  1. 18. 21. 12. 19. 14.  4. 22.  5.\n",
            " 17.  2.  3. 10. nan]\n",
            "-----------\n",
            " \n"
          ]
        }
      ],
      "source": [
        "# Checking unique value of each columns\n",
        "for col in df_demo.columns:\n",
        "  print(\"{} have {} unique values and data type :{}\".format(col,df_demo[col].nunique(),df_demo[col].dtypes))\n",
        "  if df_demo[col].dtypes == 'int64' or df_demo[col].dtypes == 'float' or df_demo[col].dtypes == 'object':\n",
        "    print(\"{} values: {}\".format(col,df_demo[col].unique()))\n",
        "    print(\"-----------\") \n",
        "    print(\" \")"
      ]
    },
    {
      "cell_type": "code",
      "execution_count": null,
      "metadata": {
        "id": "ernPglm92ef8",
        "colab": {
          "base_uri": "https://localhost:8080/"
        },
        "outputId": "fa107d86-ed12-4045-ef4a-d6c6705911c0"
      },
      "outputs": [
        {
          "output_type": "stream",
          "name": "stdout",
          "text": [
            "['customer_id', 'past_3_years_bike_related_purchases', 'tenure']\n",
            "Counts : 3\n"
          ]
        }
      ],
      "source": [
        "# Total Numerical Column\n",
        "nums = df_demo.loc[: , (df_demo.dtypes == int)|(df_demo.dtypes == float)].columns.tolist()\n",
        "print(nums)\n",
        "print('Counts :',len(nums))"
      ]
    },
    {
      "cell_type": "code",
      "execution_count": null,
      "metadata": {
        "colab": {
          "base_uri": "https://localhost:8080/"
        },
        "id": "jKZpAkng2fC_",
        "outputId": "a2c68558-de61-4cb9-a81a-2bba0714f388"
      },
      "outputs": [
        {
          "output_type": "stream",
          "name": "stdout",
          "text": [
            "['first_name', 'last_name', 'gender', 'DOB', 'job_title', 'job_industry_category', 'wealth_segment', 'deceased_indicator', 'default', 'owns_car']\n",
            "Counts : 10\n"
          ]
        }
      ],
      "source": [
        "# Total Categorical and DateTime Column\n",
        "cats = df_demo.loc[:, (df_demo.dtypes == object)|(df_demo.dtypes == 'datetime64[ns]')].columns.tolist() \n",
        "print(cats)\n",
        "print('Counts :', len(cats))"
      ]
    },
    {
      "cell_type": "markdown",
      "metadata": {
        "id": "GMXTgxd1fHR7"
      },
      "source": [
        "####   **Observation :**\n",
        "\n",
        "*   The dataset consists of **4000** records and 26 columns, with **3 numerical** , 9 categorical columns and 1 Datetime columns.\n",
        "*   Need to convert **DOB** column to age/age_class so that it can be more insightful.\n",
        "*   **tenure** column should be integer.\n",
        "*   There are irrevelant column must be drop,**default** column.\n",
        "*   Inconsistant values in **gender** column.\n",
        "*   **deceased_indicator** and **owns_car** values column are suggested be Boolean. \n",
        "*   In **deceased_indicator** the value 'Y' are not current customers and recomended to deleted these records because we want only live customers.\n",
        "****\n",
        "**1.2 Checking Missing Values**\n",
        "\n",
        "\n"
      ]
    },
    {
      "cell_type": "code",
      "execution_count": null,
      "metadata": {
        "id": "vcIcVSNmfG1m",
        "colab": {
          "base_uri": "https://localhost:8080/"
        },
        "outputId": "7a7e44ba-cba8-4db1-e404-bbec53d8221e"
      },
      "outputs": [
        {
          "output_type": "stream",
          "name": "stdout",
          "text": [
            "Percentages missing value of dataset : 34.25 %\n"
          ]
        }
      ],
      "source": [
        "nan_df = df_demo[df_demo.isna().any(axis=1)]\n",
        "nan_percent = len(nan_df)/len(df_demo)*100\n",
        "print('Percentages missing value of dataset :', nan_percent, '%')"
      ]
    },
    {
      "cell_type": "code",
      "execution_count": null,
      "metadata": {
        "id": "2uumk4Qte8ZF",
        "colab": {
          "base_uri": "https://localhost:8080/",
          "height": 457
        },
        "outputId": "62dce612-d059-4db8-b8b4-0a72b4b229b3"
      },
      "outputs": [
        {
          "output_type": "execute_result",
          "data": {
            "text/plain": [
              "                                     missing value counts      %\n",
              "job_industry_category                                 656  16.40\n",
              "job_title                                             506  12.65\n",
              "default                                               302   7.55\n",
              "last_name                                             125   3.12\n",
              "DOB                                                    87   2.17\n",
              "tenure                                                 87   2.17\n",
              "customer_id                                             0   0.00\n",
              "first_name                                              0   0.00\n",
              "gender                                                  0   0.00\n",
              "past_3_years_bike_related_purchases                     0   0.00\n",
              "wealth_segment                                          0   0.00\n",
              "deceased_indicator                                      0   0.00\n",
              "owns_car                                                0   0.00"
            ],
            "text/html": [
              "\n",
              "  <div id=\"df-62178d50-4dd0-4342-a0fe-1dad5f3a5702\">\n",
              "    <div class=\"colab-df-container\">\n",
              "      <div>\n",
              "<style scoped>\n",
              "    .dataframe tbody tr th:only-of-type {\n",
              "        vertical-align: middle;\n",
              "    }\n",
              "\n",
              "    .dataframe tbody tr th {\n",
              "        vertical-align: top;\n",
              "    }\n",
              "\n",
              "    .dataframe thead th {\n",
              "        text-align: right;\n",
              "    }\n",
              "</style>\n",
              "<table border=\"1\" class=\"dataframe\">\n",
              "  <thead>\n",
              "    <tr style=\"text-align: right;\">\n",
              "      <th></th>\n",
              "      <th>missing value counts</th>\n",
              "      <th>%</th>\n",
              "    </tr>\n",
              "  </thead>\n",
              "  <tbody>\n",
              "    <tr>\n",
              "      <th>job_industry_category</th>\n",
              "      <td>656</td>\n",
              "      <td>16.40</td>\n",
              "    </tr>\n",
              "    <tr>\n",
              "      <th>job_title</th>\n",
              "      <td>506</td>\n",
              "      <td>12.65</td>\n",
              "    </tr>\n",
              "    <tr>\n",
              "      <th>default</th>\n",
              "      <td>302</td>\n",
              "      <td>7.55</td>\n",
              "    </tr>\n",
              "    <tr>\n",
              "      <th>last_name</th>\n",
              "      <td>125</td>\n",
              "      <td>3.12</td>\n",
              "    </tr>\n",
              "    <tr>\n",
              "      <th>DOB</th>\n",
              "      <td>87</td>\n",
              "      <td>2.17</td>\n",
              "    </tr>\n",
              "    <tr>\n",
              "      <th>tenure</th>\n",
              "      <td>87</td>\n",
              "      <td>2.17</td>\n",
              "    </tr>\n",
              "    <tr>\n",
              "      <th>customer_id</th>\n",
              "      <td>0</td>\n",
              "      <td>0.00</td>\n",
              "    </tr>\n",
              "    <tr>\n",
              "      <th>first_name</th>\n",
              "      <td>0</td>\n",
              "      <td>0.00</td>\n",
              "    </tr>\n",
              "    <tr>\n",
              "      <th>gender</th>\n",
              "      <td>0</td>\n",
              "      <td>0.00</td>\n",
              "    </tr>\n",
              "    <tr>\n",
              "      <th>past_3_years_bike_related_purchases</th>\n",
              "      <td>0</td>\n",
              "      <td>0.00</td>\n",
              "    </tr>\n",
              "    <tr>\n",
              "      <th>wealth_segment</th>\n",
              "      <td>0</td>\n",
              "      <td>0.00</td>\n",
              "    </tr>\n",
              "    <tr>\n",
              "      <th>deceased_indicator</th>\n",
              "      <td>0</td>\n",
              "      <td>0.00</td>\n",
              "    </tr>\n",
              "    <tr>\n",
              "      <th>owns_car</th>\n",
              "      <td>0</td>\n",
              "      <td>0.00</td>\n",
              "    </tr>\n",
              "  </tbody>\n",
              "</table>\n",
              "</div>\n",
              "      <button class=\"colab-df-convert\" onclick=\"convertToInteractive('df-62178d50-4dd0-4342-a0fe-1dad5f3a5702')\"\n",
              "              title=\"Convert this dataframe to an interactive table.\"\n",
              "              style=\"display:none;\">\n",
              "        \n",
              "  <svg xmlns=\"http://www.w3.org/2000/svg\" height=\"24px\"viewBox=\"0 0 24 24\"\n",
              "       width=\"24px\">\n",
              "    <path d=\"M0 0h24v24H0V0z\" fill=\"none\"/>\n",
              "    <path d=\"M18.56 5.44l.94 2.06.94-2.06 2.06-.94-2.06-.94-.94-2.06-.94 2.06-2.06.94zm-11 1L8.5 8.5l.94-2.06 2.06-.94-2.06-.94L8.5 2.5l-.94 2.06-2.06.94zm10 10l.94 2.06.94-2.06 2.06-.94-2.06-.94-.94-2.06-.94 2.06-2.06.94z\"/><path d=\"M17.41 7.96l-1.37-1.37c-.4-.4-.92-.59-1.43-.59-.52 0-1.04.2-1.43.59L10.3 9.45l-7.72 7.72c-.78.78-.78 2.05 0 2.83L4 21.41c.39.39.9.59 1.41.59.51 0 1.02-.2 1.41-.59l7.78-7.78 2.81-2.81c.8-.78.8-2.07 0-2.86zM5.41 20L4 18.59l7.72-7.72 1.47 1.35L5.41 20z\"/>\n",
              "  </svg>\n",
              "      </button>\n",
              "      \n",
              "  <style>\n",
              "    .colab-df-container {\n",
              "      display:flex;\n",
              "      flex-wrap:wrap;\n",
              "      gap: 12px;\n",
              "    }\n",
              "\n",
              "    .colab-df-convert {\n",
              "      background-color: #E8F0FE;\n",
              "      border: none;\n",
              "      border-radius: 50%;\n",
              "      cursor: pointer;\n",
              "      display: none;\n",
              "      fill: #1967D2;\n",
              "      height: 32px;\n",
              "      padding: 0 0 0 0;\n",
              "      width: 32px;\n",
              "    }\n",
              "\n",
              "    .colab-df-convert:hover {\n",
              "      background-color: #E2EBFA;\n",
              "      box-shadow: 0px 1px 2px rgba(60, 64, 67, 0.3), 0px 1px 3px 1px rgba(60, 64, 67, 0.15);\n",
              "      fill: #174EA6;\n",
              "    }\n",
              "\n",
              "    [theme=dark] .colab-df-convert {\n",
              "      background-color: #3B4455;\n",
              "      fill: #D2E3FC;\n",
              "    }\n",
              "\n",
              "    [theme=dark] .colab-df-convert:hover {\n",
              "      background-color: #434B5C;\n",
              "      box-shadow: 0px 1px 3px 1px rgba(0, 0, 0, 0.15);\n",
              "      filter: drop-shadow(0px 1px 2px rgba(0, 0, 0, 0.3));\n",
              "      fill: #FFFFFF;\n",
              "    }\n",
              "  </style>\n",
              "\n",
              "      <script>\n",
              "        const buttonEl =\n",
              "          document.querySelector('#df-62178d50-4dd0-4342-a0fe-1dad5f3a5702 button.colab-df-convert');\n",
              "        buttonEl.style.display =\n",
              "          google.colab.kernel.accessAllowed ? 'block' : 'none';\n",
              "\n",
              "        async function convertToInteractive(key) {\n",
              "          const element = document.querySelector('#df-62178d50-4dd0-4342-a0fe-1dad5f3a5702');\n",
              "          const dataTable =\n",
              "            await google.colab.kernel.invokeFunction('convertToInteractive',\n",
              "                                                     [key], {});\n",
              "          if (!dataTable) return;\n",
              "\n",
              "          const docLinkHtml = 'Like what you see? Visit the ' +\n",
              "            '<a target=\"_blank\" href=https://colab.research.google.com/notebooks/data_table.ipynb>data table notebook</a>'\n",
              "            + ' to learn more about interactive tables.';\n",
              "          element.innerHTML = '';\n",
              "          dataTable['output_type'] = 'display_data';\n",
              "          await google.colab.output.renderOutput(dataTable, element);\n",
              "          const docLink = document.createElement('div');\n",
              "          docLink.innerHTML = docLinkHtml;\n",
              "          element.appendChild(docLink);\n",
              "        }\n",
              "      </script>\n",
              "    </div>\n",
              "  </div>\n",
              "  "
            ]
          },
          "metadata": {},
          "execution_count": 10
        }
      ],
      "source": [
        "# Checking Missing value in each column\n",
        "count = df_demo.isna().sum().sort_values(ascending=False)\n",
        "\n",
        "# Percentage of missing values\n",
        "percent = round(df_demo.isna().mean()*100,2).sort_values(ascending=False)\n",
        "\n",
        "# create dataframe of missing value\n",
        "df_demo_nan = pd.concat([count,percent], axis=1, keys=['missing value counts', '%'])\n",
        "df_demo_nan"
      ]
    },
    {
      "cell_type": "markdown",
      "source": [
        " #### **Observation :** There are many missing values in the dataset (more than 10%).job_industry_category and job_title are the columns that contain the most missing values.\n",
        " ****\n",
        " **1.3. Checking Duplicate Records**"
      ],
      "metadata": {
        "id": "CbzBj9HErTVl"
      }
    },
    {
      "cell_type": "code",
      "source": [
        "# Checking Duplicate Data\n",
        "df_demo.duplicated().any()"
      ],
      "metadata": {
        "id": "2ftP_DHM1RWC",
        "colab": {
          "base_uri": "https://localhost:8080/"
        },
        "outputId": "f19a6aad-dd42-48ae-9d87-4c5da6fc5224"
      },
      "execution_count": null,
      "outputs": [
        {
          "output_type": "execute_result",
          "data": {
            "text/plain": [
              "False"
            ]
          },
          "metadata": {},
          "execution_count": 11
        }
      ]
    },
    {
      "cell_type": "markdown",
      "source": [
        "#### **Observation :** There is no duplicate data.\n",
        "****\n",
        "**1.4. Statistical Summary**"
      ],
      "metadata": {
        "id": "BSELMWlFtsI7"
      }
    },
    {
      "cell_type": "code",
      "source": [
        "# Numerical\n",
        "df_demo[nums].describe().T"
      ],
      "metadata": {
        "colab": {
          "base_uri": "https://localhost:8080/",
          "height": 143
        },
        "id": "z5hIH7YptcLr",
        "outputId": "1c547065-2cba-4612-a6f3-c64d6dd2bcdb"
      },
      "execution_count": null,
      "outputs": [
        {
          "output_type": "execute_result",
          "data": {
            "text/plain": [
              "                                      count         mean          std  min  \\\n",
              "customer_id                          4000.0  2000.500000  1154.844867  1.0   \n",
              "past_3_years_bike_related_purchases  4000.0    48.890000    28.715005  0.0   \n",
              "tenure                               3913.0    10.657041     5.660146  1.0   \n",
              "\n",
              "                                         25%     50%      75%     max  \n",
              "customer_id                          1000.75  2000.5  3000.25  4000.0  \n",
              "past_3_years_bike_related_purchases    24.00    48.0    73.00    99.0  \n",
              "tenure                                  6.00    11.0    15.00    22.0  "
            ],
            "text/html": [
              "\n",
              "  <div id=\"df-ac48a074-b92b-4597-9f4e-4debcd440bf0\">\n",
              "    <div class=\"colab-df-container\">\n",
              "      <div>\n",
              "<style scoped>\n",
              "    .dataframe tbody tr th:only-of-type {\n",
              "        vertical-align: middle;\n",
              "    }\n",
              "\n",
              "    .dataframe tbody tr th {\n",
              "        vertical-align: top;\n",
              "    }\n",
              "\n",
              "    .dataframe thead th {\n",
              "        text-align: right;\n",
              "    }\n",
              "</style>\n",
              "<table border=\"1\" class=\"dataframe\">\n",
              "  <thead>\n",
              "    <tr style=\"text-align: right;\">\n",
              "      <th></th>\n",
              "      <th>count</th>\n",
              "      <th>mean</th>\n",
              "      <th>std</th>\n",
              "      <th>min</th>\n",
              "      <th>25%</th>\n",
              "      <th>50%</th>\n",
              "      <th>75%</th>\n",
              "      <th>max</th>\n",
              "    </tr>\n",
              "  </thead>\n",
              "  <tbody>\n",
              "    <tr>\n",
              "      <th>customer_id</th>\n",
              "      <td>4000.0</td>\n",
              "      <td>2000.500000</td>\n",
              "      <td>1154.844867</td>\n",
              "      <td>1.0</td>\n",
              "      <td>1000.75</td>\n",
              "      <td>2000.5</td>\n",
              "      <td>3000.25</td>\n",
              "      <td>4000.0</td>\n",
              "    </tr>\n",
              "    <tr>\n",
              "      <th>past_3_years_bike_related_purchases</th>\n",
              "      <td>4000.0</td>\n",
              "      <td>48.890000</td>\n",
              "      <td>28.715005</td>\n",
              "      <td>0.0</td>\n",
              "      <td>24.00</td>\n",
              "      <td>48.0</td>\n",
              "      <td>73.00</td>\n",
              "      <td>99.0</td>\n",
              "    </tr>\n",
              "    <tr>\n",
              "      <th>tenure</th>\n",
              "      <td>3913.0</td>\n",
              "      <td>10.657041</td>\n",
              "      <td>5.660146</td>\n",
              "      <td>1.0</td>\n",
              "      <td>6.00</td>\n",
              "      <td>11.0</td>\n",
              "      <td>15.00</td>\n",
              "      <td>22.0</td>\n",
              "    </tr>\n",
              "  </tbody>\n",
              "</table>\n",
              "</div>\n",
              "      <button class=\"colab-df-convert\" onclick=\"convertToInteractive('df-ac48a074-b92b-4597-9f4e-4debcd440bf0')\"\n",
              "              title=\"Convert this dataframe to an interactive table.\"\n",
              "              style=\"display:none;\">\n",
              "        \n",
              "  <svg xmlns=\"http://www.w3.org/2000/svg\" height=\"24px\"viewBox=\"0 0 24 24\"\n",
              "       width=\"24px\">\n",
              "    <path d=\"M0 0h24v24H0V0z\" fill=\"none\"/>\n",
              "    <path d=\"M18.56 5.44l.94 2.06.94-2.06 2.06-.94-2.06-.94-.94-2.06-.94 2.06-2.06.94zm-11 1L8.5 8.5l.94-2.06 2.06-.94-2.06-.94L8.5 2.5l-.94 2.06-2.06.94zm10 10l.94 2.06.94-2.06 2.06-.94-2.06-.94-.94-2.06-.94 2.06-2.06.94z\"/><path d=\"M17.41 7.96l-1.37-1.37c-.4-.4-.92-.59-1.43-.59-.52 0-1.04.2-1.43.59L10.3 9.45l-7.72 7.72c-.78.78-.78 2.05 0 2.83L4 21.41c.39.39.9.59 1.41.59.51 0 1.02-.2 1.41-.59l7.78-7.78 2.81-2.81c.8-.78.8-2.07 0-2.86zM5.41 20L4 18.59l7.72-7.72 1.47 1.35L5.41 20z\"/>\n",
              "  </svg>\n",
              "      </button>\n",
              "      \n",
              "  <style>\n",
              "    .colab-df-container {\n",
              "      display:flex;\n",
              "      flex-wrap:wrap;\n",
              "      gap: 12px;\n",
              "    }\n",
              "\n",
              "    .colab-df-convert {\n",
              "      background-color: #E8F0FE;\n",
              "      border: none;\n",
              "      border-radius: 50%;\n",
              "      cursor: pointer;\n",
              "      display: none;\n",
              "      fill: #1967D2;\n",
              "      height: 32px;\n",
              "      padding: 0 0 0 0;\n",
              "      width: 32px;\n",
              "    }\n",
              "\n",
              "    .colab-df-convert:hover {\n",
              "      background-color: #E2EBFA;\n",
              "      box-shadow: 0px 1px 2px rgba(60, 64, 67, 0.3), 0px 1px 3px 1px rgba(60, 64, 67, 0.15);\n",
              "      fill: #174EA6;\n",
              "    }\n",
              "\n",
              "    [theme=dark] .colab-df-convert {\n",
              "      background-color: #3B4455;\n",
              "      fill: #D2E3FC;\n",
              "    }\n",
              "\n",
              "    [theme=dark] .colab-df-convert:hover {\n",
              "      background-color: #434B5C;\n",
              "      box-shadow: 0px 1px 3px 1px rgba(0, 0, 0, 0.15);\n",
              "      filter: drop-shadow(0px 1px 2px rgba(0, 0, 0, 0.3));\n",
              "      fill: #FFFFFF;\n",
              "    }\n",
              "  </style>\n",
              "\n",
              "      <script>\n",
              "        const buttonEl =\n",
              "          document.querySelector('#df-ac48a074-b92b-4597-9f4e-4debcd440bf0 button.colab-df-convert');\n",
              "        buttonEl.style.display =\n",
              "          google.colab.kernel.accessAllowed ? 'block' : 'none';\n",
              "\n",
              "        async function convertToInteractive(key) {\n",
              "          const element = document.querySelector('#df-ac48a074-b92b-4597-9f4e-4debcd440bf0');\n",
              "          const dataTable =\n",
              "            await google.colab.kernel.invokeFunction('convertToInteractive',\n",
              "                                                     [key], {});\n",
              "          if (!dataTable) return;\n",
              "\n",
              "          const docLinkHtml = 'Like what you see? Visit the ' +\n",
              "            '<a target=\"_blank\" href=https://colab.research.google.com/notebooks/data_table.ipynb>data table notebook</a>'\n",
              "            + ' to learn more about interactive tables.';\n",
              "          element.innerHTML = '';\n",
              "          dataTable['output_type'] = 'display_data';\n",
              "          await google.colab.output.renderOutput(dataTable, element);\n",
              "          const docLink = document.createElement('div');\n",
              "          docLink.innerHTML = docLinkHtml;\n",
              "          element.appendChild(docLink);\n",
              "        }\n",
              "      </script>\n",
              "    </div>\n",
              "  </div>\n",
              "  "
            ]
          },
          "metadata": {},
          "execution_count": 12
        }
      ]
    },
    {
      "cell_type": "code",
      "source": [
        "# Categorical\n",
        "df_demo[cats].describe().T"
      ],
      "metadata": {
        "colab": {
          "base_uri": "https://localhost:8080/",
          "height": 363
        },
        "id": "4qFASgRmx_2G",
        "outputId": "bcba9196-8e56-4b74-fcf0-8ad9910d7c77"
      },
      "execution_count": null,
      "outputs": [
        {
          "output_type": "execute_result",
          "data": {
            "text/plain": [
              "                        count unique                                   top  \\\n",
              "first_name               4000   3139                                   Max   \n",
              "last_name                3875   3725                              Pristnor   \n",
              "gender                   4000      6                                Female   \n",
              "DOB                      3913   3448                   1978-01-30 00:00:00   \n",
              "job_title                3494    195  Business Systems Development Analyst   \n",
              "job_industry_category    3344      9                         Manufacturing   \n",
              "wealth_segment           4000      3                         Mass Customer   \n",
              "deceased_indicator       4000      2                                     N   \n",
              "default                3698.0   90.0                                 100.0   \n",
              "owns_car                 4000      2                                   Yes   \n",
              "\n",
              "                        freq      first       last  \n",
              "first_name                 5        NaT        NaT  \n",
              "last_name                  3        NaT        NaT  \n",
              "gender                  2037        NaT        NaT  \n",
              "DOB                        7 1843-12-21 2002-03-11  \n",
              "job_title                 45        NaT        NaT  \n",
              "job_industry_category    799        NaT        NaT  \n",
              "wealth_segment          2000        NaT        NaT  \n",
              "deceased_indicator      3998        NaT        NaT  \n",
              "default                113.0        NaT        NaT  \n",
              "owns_car                2024        NaT        NaT  "
            ],
            "text/html": [
              "\n",
              "  <div id=\"df-62b7c99f-3ce3-4760-92f2-bdc26a855f21\">\n",
              "    <div class=\"colab-df-container\">\n",
              "      <div>\n",
              "<style scoped>\n",
              "    .dataframe tbody tr th:only-of-type {\n",
              "        vertical-align: middle;\n",
              "    }\n",
              "\n",
              "    .dataframe tbody tr th {\n",
              "        vertical-align: top;\n",
              "    }\n",
              "\n",
              "    .dataframe thead th {\n",
              "        text-align: right;\n",
              "    }\n",
              "</style>\n",
              "<table border=\"1\" class=\"dataframe\">\n",
              "  <thead>\n",
              "    <tr style=\"text-align: right;\">\n",
              "      <th></th>\n",
              "      <th>count</th>\n",
              "      <th>unique</th>\n",
              "      <th>top</th>\n",
              "      <th>freq</th>\n",
              "      <th>first</th>\n",
              "      <th>last</th>\n",
              "    </tr>\n",
              "  </thead>\n",
              "  <tbody>\n",
              "    <tr>\n",
              "      <th>first_name</th>\n",
              "      <td>4000</td>\n",
              "      <td>3139</td>\n",
              "      <td>Max</td>\n",
              "      <td>5</td>\n",
              "      <td>NaT</td>\n",
              "      <td>NaT</td>\n",
              "    </tr>\n",
              "    <tr>\n",
              "      <th>last_name</th>\n",
              "      <td>3875</td>\n",
              "      <td>3725</td>\n",
              "      <td>Pristnor</td>\n",
              "      <td>3</td>\n",
              "      <td>NaT</td>\n",
              "      <td>NaT</td>\n",
              "    </tr>\n",
              "    <tr>\n",
              "      <th>gender</th>\n",
              "      <td>4000</td>\n",
              "      <td>6</td>\n",
              "      <td>Female</td>\n",
              "      <td>2037</td>\n",
              "      <td>NaT</td>\n",
              "      <td>NaT</td>\n",
              "    </tr>\n",
              "    <tr>\n",
              "      <th>DOB</th>\n",
              "      <td>3913</td>\n",
              "      <td>3448</td>\n",
              "      <td>1978-01-30 00:00:00</td>\n",
              "      <td>7</td>\n",
              "      <td>1843-12-21</td>\n",
              "      <td>2002-03-11</td>\n",
              "    </tr>\n",
              "    <tr>\n",
              "      <th>job_title</th>\n",
              "      <td>3494</td>\n",
              "      <td>195</td>\n",
              "      <td>Business Systems Development Analyst</td>\n",
              "      <td>45</td>\n",
              "      <td>NaT</td>\n",
              "      <td>NaT</td>\n",
              "    </tr>\n",
              "    <tr>\n",
              "      <th>job_industry_category</th>\n",
              "      <td>3344</td>\n",
              "      <td>9</td>\n",
              "      <td>Manufacturing</td>\n",
              "      <td>799</td>\n",
              "      <td>NaT</td>\n",
              "      <td>NaT</td>\n",
              "    </tr>\n",
              "    <tr>\n",
              "      <th>wealth_segment</th>\n",
              "      <td>4000</td>\n",
              "      <td>3</td>\n",
              "      <td>Mass Customer</td>\n",
              "      <td>2000</td>\n",
              "      <td>NaT</td>\n",
              "      <td>NaT</td>\n",
              "    </tr>\n",
              "    <tr>\n",
              "      <th>deceased_indicator</th>\n",
              "      <td>4000</td>\n",
              "      <td>2</td>\n",
              "      <td>N</td>\n",
              "      <td>3998</td>\n",
              "      <td>NaT</td>\n",
              "      <td>NaT</td>\n",
              "    </tr>\n",
              "    <tr>\n",
              "      <th>default</th>\n",
              "      <td>3698.0</td>\n",
              "      <td>90.0</td>\n",
              "      <td>100.0</td>\n",
              "      <td>113.0</td>\n",
              "      <td>NaT</td>\n",
              "      <td>NaT</td>\n",
              "    </tr>\n",
              "    <tr>\n",
              "      <th>owns_car</th>\n",
              "      <td>4000</td>\n",
              "      <td>2</td>\n",
              "      <td>Yes</td>\n",
              "      <td>2024</td>\n",
              "      <td>NaT</td>\n",
              "      <td>NaT</td>\n",
              "    </tr>\n",
              "  </tbody>\n",
              "</table>\n",
              "</div>\n",
              "      <button class=\"colab-df-convert\" onclick=\"convertToInteractive('df-62b7c99f-3ce3-4760-92f2-bdc26a855f21')\"\n",
              "              title=\"Convert this dataframe to an interactive table.\"\n",
              "              style=\"display:none;\">\n",
              "        \n",
              "  <svg xmlns=\"http://www.w3.org/2000/svg\" height=\"24px\"viewBox=\"0 0 24 24\"\n",
              "       width=\"24px\">\n",
              "    <path d=\"M0 0h24v24H0V0z\" fill=\"none\"/>\n",
              "    <path d=\"M18.56 5.44l.94 2.06.94-2.06 2.06-.94-2.06-.94-.94-2.06-.94 2.06-2.06.94zm-11 1L8.5 8.5l.94-2.06 2.06-.94-2.06-.94L8.5 2.5l-.94 2.06-2.06.94zm10 10l.94 2.06.94-2.06 2.06-.94-2.06-.94-.94-2.06-.94 2.06-2.06.94z\"/><path d=\"M17.41 7.96l-1.37-1.37c-.4-.4-.92-.59-1.43-.59-.52 0-1.04.2-1.43.59L10.3 9.45l-7.72 7.72c-.78.78-.78 2.05 0 2.83L4 21.41c.39.39.9.59 1.41.59.51 0 1.02-.2 1.41-.59l7.78-7.78 2.81-2.81c.8-.78.8-2.07 0-2.86zM5.41 20L4 18.59l7.72-7.72 1.47 1.35L5.41 20z\"/>\n",
              "  </svg>\n",
              "      </button>\n",
              "      \n",
              "  <style>\n",
              "    .colab-df-container {\n",
              "      display:flex;\n",
              "      flex-wrap:wrap;\n",
              "      gap: 12px;\n",
              "    }\n",
              "\n",
              "    .colab-df-convert {\n",
              "      background-color: #E8F0FE;\n",
              "      border: none;\n",
              "      border-radius: 50%;\n",
              "      cursor: pointer;\n",
              "      display: none;\n",
              "      fill: #1967D2;\n",
              "      height: 32px;\n",
              "      padding: 0 0 0 0;\n",
              "      width: 32px;\n",
              "    }\n",
              "\n",
              "    .colab-df-convert:hover {\n",
              "      background-color: #E2EBFA;\n",
              "      box-shadow: 0px 1px 2px rgba(60, 64, 67, 0.3), 0px 1px 3px 1px rgba(60, 64, 67, 0.15);\n",
              "      fill: #174EA6;\n",
              "    }\n",
              "\n",
              "    [theme=dark] .colab-df-convert {\n",
              "      background-color: #3B4455;\n",
              "      fill: #D2E3FC;\n",
              "    }\n",
              "\n",
              "    [theme=dark] .colab-df-convert:hover {\n",
              "      background-color: #434B5C;\n",
              "      box-shadow: 0px 1px 3px 1px rgba(0, 0, 0, 0.15);\n",
              "      filter: drop-shadow(0px 1px 2px rgba(0, 0, 0, 0.3));\n",
              "      fill: #FFFFFF;\n",
              "    }\n",
              "  </style>\n",
              "\n",
              "      <script>\n",
              "        const buttonEl =\n",
              "          document.querySelector('#df-62b7c99f-3ce3-4760-92f2-bdc26a855f21 button.colab-df-convert');\n",
              "        buttonEl.style.display =\n",
              "          google.colab.kernel.accessAllowed ? 'block' : 'none';\n",
              "\n",
              "        async function convertToInteractive(key) {\n",
              "          const element = document.querySelector('#df-62b7c99f-3ce3-4760-92f2-bdc26a855f21');\n",
              "          const dataTable =\n",
              "            await google.colab.kernel.invokeFunction('convertToInteractive',\n",
              "                                                     [key], {});\n",
              "          if (!dataTable) return;\n",
              "\n",
              "          const docLinkHtml = 'Like what you see? Visit the ' +\n",
              "            '<a target=\"_blank\" href=https://colab.research.google.com/notebooks/data_table.ipynb>data table notebook</a>'\n",
              "            + ' to learn more about interactive tables.';\n",
              "          element.innerHTML = '';\n",
              "          dataTable['output_type'] = 'display_data';\n",
              "          await google.colab.output.renderOutput(dataTable, element);\n",
              "          const docLink = document.createElement('div');\n",
              "          docLink.innerHTML = docLinkHtml;\n",
              "          element.appendChild(docLink);\n",
              "        }\n",
              "      </script>\n",
              "    </div>\n",
              "  </div>\n",
              "  "
            ]
          },
          "metadata": {},
          "execution_count": 13
        }
      ]
    },
    {
      "cell_type": "markdown",
      "source": [
        "**1.5 Checking Distribution**"
      ],
      "metadata": {
        "id": "mbPZV4640lkt"
      }
    },
    {
      "cell_type": "code",
      "source": [
        "# Numerical distribution\n",
        "plt.figure(figsize=(8,2))\n",
        "for i in range(0,len(nums)):\n",
        "  plt.subplot(1, len(nums),i+1)\n",
        "  sns.distplot(df_demo[nums[i]])\n",
        "  plt.tight_layout()"
      ],
      "metadata": {
        "colab": {
          "base_uri": "https://localhost:8080/",
          "height": 207
        },
        "id": "iV_1TcALy6nW",
        "outputId": "3e07c460-ef0a-47dc-8cd9-662c0f922e72"
      },
      "execution_count": null,
      "outputs": [
        {
          "output_type": "display_data",
          "data": {
            "text/plain": [
              "<Figure size 800x200 with 3 Axes>"
            ],
            "image/png": "[encoded data removed]"
          },
          "metadata": {}
        }
      ]
    },
    {
      "cell_type": "code",
      "source": [
        "# Distribution of numerical data and check outlier\n",
        "plt.figure(figsize=(6,2))\n",
        "for i in range(0,len(nums)):\n",
        "  plt.subplot(1,len(nums),i+1)\n",
        "  sns.boxplot(y=df_demo[nums[i]],color='yellowgreen', orient='v')\n",
        "  plt.tight_layout()"
      ],
      "metadata": {
        "id": "X1nQyM0r04yP",
        "colab": {
          "base_uri": "https://localhost:8080/",
          "height": 207
        },
        "outputId": "48beb489-e569-49cb-8e38-e08f3c67fdca"
      },
      "execution_count": null,
      "outputs": [
        {
          "output_type": "display_data",
          "data": {
            "text/plain": [
              "<Figure size 600x200 with 3 Axes>"
            ],
            "image/png": "[encoded data removed]"
          },
          "metadata": {}
        }
      ]
    },
    {
      "cell_type": "code",
      "source": [
        "# Visualization of categorical Data\n",
        "cats = ['gender','DOB','job_title','job_industry_category','wealth_segment','deceased_indicator','owns_car']\n",
        "plt.figure(figsize=(14, 14))\n",
        "for i in range(0, len(cats)):\n",
        "    plt.subplot(4, 2, i+1)\n",
        "    sns.countplot(x=df_demo[cats[i]])\n",
        "    #plt.xticks(rotation='vertical')\n",
        "    plt.tight_layout()"
      ],
      "metadata": {
        "colab": {
          "base_uri": "https://localhost:8080/",
          "height": 1000
        },
        "id": "b53ihuhvxgye",
        "outputId": "405423ad-be1e-4b1a-e361-12e72a430bed"
      },
      "execution_count": null,
      "outputs": [
        {
          "output_type": "display_data",
          "data": {
            "text/plain": [
              "<Figure size 1400x1400 with 7 Axes>"
            ],
            "image/png": "[encoded data removed]"
          },
          "metadata": {}
        }
      ]
    },
    {
      "cell_type": "markdown",
      "source": [
        "**Observation :**\n",
        "* The data distribution tends to be normal.\n",
        "* There are no outlier/ anomaly record.\n",
        "****\n",
        "### **2. Data Cleaning**\n",
        "**2.1 Dropping Irrelavant Columns**"
      ],
      "metadata": {
        "id": "-NOTM6v45_eZ"
      }
    },
    {
      "cell_type": "code",
      "source": [
        "# creat a copy of dataset\n",
        "df_demo1 = df_demo.copy()"
      ],
      "metadata": {
        "id": "4gwD7YTR5_A4"
      },
      "execution_count": null,
      "outputs": []
    },
    {
      "cell_type": "code",
      "source": [
        "# Drop irrevalent Column(from 1.1)\n",
        "df_demo1.drop(columns=['default'],inplace=True)\n",
        "df_demo1.columns"
      ],
      "metadata": {
        "id": "nv_ufIpk1J8j",
        "colab": {
          "base_uri": "https://localhost:8080/"
        },
        "outputId": "6d452554-9e14-4841-e144-fdaaf943dd43"
      },
      "execution_count": null,
      "outputs": [
        {
          "output_type": "execute_result",
          "data": {
            "text/plain": [
              "Index(['customer_id', 'first_name', 'last_name', 'gender',\n",
              "       'past_3_years_bike_related_purchases', 'DOB', 'job_title',\n",
              "       'job_industry_category', 'wealth_segment', 'deceased_indicator',\n",
              "       'owns_car', 'tenure'],\n",
              "      dtype='object')"
            ]
          },
          "metadata": {},
          "execution_count": 18
        }
      ]
    },
    {
      "cell_type": "markdown",
      "source": [
        "The dataset has been cleared of irrelevant columns ✅\n",
        "****\n",
        "**2.2 Handling Missing Values**"
      ],
      "metadata": {
        "id": "FkgghX_tyodT"
      }
    },
    {
      "cell_type": "code",
      "source": [
        "df_demo1.isna().sum()"
      ],
      "metadata": {
        "colab": {
          "base_uri": "https://localhost:8080/"
        },
        "id": "ZVBcUCL1yYIp",
        "outputId": "77313b1d-99e7-44b1-966f-fd982597fe84"
      },
      "execution_count": null,
      "outputs": [
        {
          "output_type": "execute_result",
          "data": {
            "text/plain": [
              "customer_id                              0\n",
              "first_name                               0\n",
              "last_name                              125\n",
              "gender                                   0\n",
              "past_3_years_bike_related_purchases      0\n",
              "DOB                                     87\n",
              "job_title                              506\n",
              "job_industry_category                  656\n",
              "wealth_segment                           0\n",
              "deceased_indicator                       0\n",
              "owns_car                                 0\n",
              "tenure                                  87\n",
              "dtype: int64"
            ]
          },
          "metadata": {},
          "execution_count": 19
        }
      ]
    },
    {
      "cell_type": "markdown",
      "source": [
        "🔽 **first_name and last_name** last_name 125 Null value\n",
        "\n",
        "It is assumed that the user did not fill in or does not have a last name, so I decided to **fill the NaN last name value with the first name.**"
      ],
      "metadata": {
        "id": "jz0iTUFzz1kw"
      }
    },
    {
      "cell_type": "code",
      "source": [
        "# Fill nan in last_name with first_name\n",
        "df_demo1['last_name'].fillna(df_demo1['first_name'],inplace=True)"
      ],
      "metadata": {
        "id": "Q2CWJqXvyrBE"
      },
      "execution_count": null,
      "outputs": []
    },
    {
      "cell_type": "code",
      "source": [
        "df_demo1['last_name'].isnull().sum()"
      ],
      "metadata": {
        "colab": {
          "base_uri": "https://localhost:8080/"
        },
        "id": "cFaLCtPZyr17",
        "outputId": "120fb45c-c5ae-4956-92fd-eee4d8a7894e"
      },
      "execution_count": null,
      "outputs": [
        {
          "output_type": "execute_result",
          "data": {
            "text/plain": [
              "0"
            ]
          },
          "metadata": {},
          "execution_count": 21
        }
      ]
    },
    {
      "cell_type": "markdown",
      "source": [
        "🔽 **job_title and job_industry_category** - 506 and 656 Null value\n",
        "\n",
        "Because the number of missing values in this column is quite **large (500+)** and considering the frequency of **unique values**, I decided to **fill NaN with previous value.**"
      ],
      "metadata": {
        "id": "3fG_l2vB4ITl"
      }
    },
    {
      "cell_type": "code",
      "source": [
        "df_demo1['job_title'].value_counts()"
      ],
      "metadata": {
        "colab": {
          "base_uri": "https://localhost:8080/"
        },
        "id": "C4zSTUzQ2ONT",
        "outputId": "124768d9-3f7a-4c5e-c97d-71fd6c95a43e"
      },
      "execution_count": null,
      "outputs": [
        {
          "output_type": "execute_result",
          "data": {
            "text/plain": [
              "Business Systems Development Analyst    45\n",
              "Tax Accountant                          44\n",
              "Social Worker                           44\n",
              "Internal Auditor                        42\n",
              "Recruiting Manager                      41\n",
              "                                        ..\n",
              "Database Administrator I                 4\n",
              "Health Coach I                           3\n",
              "Health Coach III                         3\n",
              "Research Assistant III                   3\n",
              "Developer I                              1\n",
              "Name: job_title, Length: 195, dtype: int64"
            ]
          },
          "metadata": {},
          "execution_count": 22
        }
      ]
    },
    {
      "cell_type": "code",
      "source": [
        "df_demo1['job_industry_category'].value_counts()"
      ],
      "metadata": {
        "colab": {
          "base_uri": "https://localhost:8080/"
        },
        "id": "7Yb4QbhX4zg-",
        "outputId": "9522c4b8-7941-45c9-9c5c-ac63019ea679"
      },
      "execution_count": null,
      "outputs": [
        {
          "output_type": "execute_result",
          "data": {
            "text/plain": [
              "Manufacturing         799\n",
              "Financial Services    774\n",
              "Health                602\n",
              "Retail                358\n",
              "Property              267\n",
              "IT                    223\n",
              "Entertainment         136\n",
              "Argiculture           113\n",
              "Telecommunications     72\n",
              "Name: job_industry_category, dtype: int64"
            ]
          },
          "metadata": {},
          "execution_count": 23
        }
      ]
    },
    {
      "cell_type": "code",
      "source": [
        "# filling nan with previous value\n",
        "fill = ['job_title','job_industry_category']\n",
        "\n",
        "for x in fill:\n",
        "  df_demo1[x].fillna(method='pad',inplace=True)\n",
        "  print(x,df_demo1[x].isnull().sum())"
      ],
      "metadata": {
        "colab": {
          "base_uri": "https://localhost:8080/"
        },
        "id": "BkE-UMBm5lze",
        "outputId": "4f2d2feb-d0f4-4fe4-d71a-89d4f02afd18"
      },
      "execution_count": null,
      "outputs": [
        {
          "output_type": "stream",
          "name": "stdout",
          "text": [
            "job_title 0\n",
            "job_industry_category 0\n"
          ]
        }
      ]
    },
    {
      "cell_type": "markdown",
      "source": [
        "🔽 **DOB** - 87 Null value\n",
        "\n",
        "frequency of missing values more large than mode, so I decided to fill NaN with previous value."
      ],
      "metadata": {
        "id": "lZUjhn10-z9K"
      }
    },
    {
      "cell_type": "code",
      "source": [
        "df_demo1['DOB'].fillna(method='pad',inplace=True)\n",
        "print('DOB',df_demo1['DOB'].isnull().sum())"
      ],
      "metadata": {
        "colab": {
          "base_uri": "https://localhost:8080/"
        },
        "id": "E0TkRE9n-RT9",
        "outputId": "a51fcde0-64a5-4caa-b251-ef13f6e3e16e"
      },
      "execution_count": null,
      "outputs": [
        {
          "output_type": "stream",
          "name": "stdout",
          "text": [
            "DOB 0\n"
          ]
        }
      ]
    },
    {
      "cell_type": "markdown",
      "source": [
        "🔽 **tenure**  87 Null value"
      ],
      "metadata": {
        "id": "mhn7BbMMBSjq"
      }
    },
    {
      "cell_type": "code",
      "source": [
        "df_demo1['tenure'].fillna(method='pad',inplace=True)\n",
        "print('tenure',df_demo1['tenure'].isnull().sum())"
      ],
      "metadata": {
        "colab": {
          "base_uri": "https://localhost:8080/"
        },
        "id": "DXSXyaVs_nu_",
        "outputId": "004aa994-6fd5-46e4-d089-642802e25ca1"
      },
      "execution_count": null,
      "outputs": [
        {
          "output_type": "stream",
          "name": "stdout",
          "text": [
            "tenure 0\n"
          ]
        }
      ]
    },
    {
      "cell_type": "markdown",
      "source": [
        "The dataset has been cleared of missing values ✅\n",
        "****\n",
        "**2.3 Handling Data Type & Incorrect Values**\n",
        "\n",
        "🔽 **gender**"
      ],
      "metadata": {
        "id": "PjvLscaPCK9n"
      }
    },
    {
      "cell_type": "code",
      "source": [
        "# Checking value counts \n",
        "df_demo1['gender'].value_counts()"
      ],
      "metadata": {
        "id": "1-8-Zj2vCPov",
        "colab": {
          "base_uri": "https://localhost:8080/"
        },
        "outputId": "21c762d2-48f3-46ad-b25e-92271ddba011"
      },
      "execution_count": null,
      "outputs": [
        {
          "output_type": "execute_result",
          "data": {
            "text/plain": [
              "Female    2037\n",
              "Male      1872\n",
              "U           88\n",
              "F            1\n",
              "Femal        1\n",
              "M            1\n",
              "Name: gender, dtype: int64"
            ]
          },
          "metadata": {},
          "execution_count": 27
        }
      ]
    },
    {
      "cell_type": "code",
      "source": [
        "# fixing inconsistance value\n",
        "df_demo1.replace(to_replace=['F','U','Femal'],value='Female',inplace=True)\n",
        "df_demo1.replace(to_replace=['M'],value='Male',inplace=True)"
      ],
      "metadata": {
        "id": "i4B4LKZF8Hg4"
      },
      "execution_count": null,
      "outputs": []
    },
    {
      "cell_type": "code",
      "source": [
        "df_demo1['gender'].value_counts()"
      ],
      "metadata": {
        "colab": {
          "base_uri": "https://localhost:8080/"
        },
        "id": "Xy_Edh5B-hdn",
        "outputId": "013c1774-efac-4f1a-dabb-252e460f3198"
      },
      "execution_count": null,
      "outputs": [
        {
          "output_type": "execute_result",
          "data": {
            "text/plain": [
              "Female    2127\n",
              "Male      1873\n",
              "Name: gender, dtype: int64"
            ]
          },
          "metadata": {},
          "execution_count": 29
        }
      ]
    },
    {
      "cell_type": "markdown",
      "source": [
        "🔽 **deceased_indicator**"
      ],
      "metadata": {
        "id": "S-P754vo_drH"
      }
    },
    {
      "cell_type": "code",
      "source": [
        "df_demo1['deceased_indicator'].value_counts()"
      ],
      "metadata": {
        "colab": {
          "base_uri": "https://localhost:8080/"
        },
        "id": "pEDME3rs-_lC",
        "outputId": "eb93699f-f965-4916-cda0-19177f513865"
      },
      "execution_count": null,
      "outputs": [
        {
          "output_type": "execute_result",
          "data": {
            "text/plain": [
              "N    3998\n",
              "Y       2\n",
              "Name: deceased_indicator, dtype: int64"
            ]
          },
          "metadata": {},
          "execution_count": 30
        }
      ]
    },
    {
      "cell_type": "code",
      "source": [
        "df_demo1['deceased_indicator'].replace(['Y','N'],['Yes','No'],inplace=True)"
      ],
      "metadata": {
        "id": "v1EpxRRsAoSw"
      },
      "execution_count": null,
      "outputs": []
    },
    {
      "cell_type": "code",
      "source": [
        "df_demo1[df_demo1['deceased_indicator'] == \"Yes\"]"
      ],
      "metadata": {
        "colab": {
          "base_uri": "https://localhost:8080/",
          "height": 211
        },
        "id": "eHsPqdbVDAHV",
        "outputId": "8c4d0a2f-1ca3-451c-9232-58dbc24e13aa"
      },
      "execution_count": null,
      "outputs": [
        {
          "output_type": "execute_result",
          "data": {
            "text/plain": [
              "      customer_id first_name    last_name  gender  \\\n",
              "752           753       Josy  St. Quentin  Female   \n",
              "3789         3790     Kurtis       Morson    Male   \n",
              "\n",
              "      past_3_years_bike_related_purchases        DOB      job_title  \\\n",
              "752                                    82 1970-03-07   Food Chemist   \n",
              "3789                                   91 1959-05-31  Senior Editor   \n",
              "\n",
              "     job_industry_category     wealth_segment deceased_indicator owns_car  \\\n",
              "752                 Health  Affluent Customer                Yes      Yes   \n",
              "3789                Retail      Mass Customer                Yes      Yes   \n",
              "\n",
              "      tenure  \n",
              "752      6.0  \n",
              "3789     9.0  "
            ],
            "text/html": [
              "\n",
              "  <div id=\"df-0863604d-d3d7-4c2e-95f0-5b58a57d2403\">\n",
              "    <div class=\"colab-df-container\">\n",
              "      <div>\n",
              "<style scoped>\n",
              "    .dataframe tbody tr th:only-of-type {\n",
              "        vertical-align: middle;\n",
              "    }\n",
              "\n",
              "    .dataframe tbody tr th {\n",
              "        vertical-align: top;\n",
              "    }\n",
              "\n",
              "    .dataframe thead th {\n",
              "        text-align: right;\n",
              "    }\n",
              "</style>\n",
              "<table border=\"1\" class=\"dataframe\">\n",
              "  <thead>\n",
              "    <tr style=\"text-align: right;\">\n",
              "      <th></th>\n",
              "      <th>customer_id</th>\n",
              "      <th>first_name</th>\n",
              "      <th>last_name</th>\n",
              "      <th>gender</th>\n",
              "      <th>past_3_years_bike_related_purchases</th>\n",
              "      <th>DOB</th>\n",
              "      <th>job_title</th>\n",
              "      <th>job_industry_category</th>\n",
              "      <th>wealth_segment</th>\n",
              "      <th>deceased_indicator</th>\n",
              "      <th>owns_car</th>\n",
              "      <th>tenure</th>\n",
              "    </tr>\n",
              "  </thead>\n",
              "  <tbody>\n",
              "    <tr>\n",
              "      <th>752</th>\n",
              "      <td>753</td>\n",
              "      <td>Josy</td>\n",
              "      <td>St. Quentin</td>\n",
              "      <td>Female</td>\n",
              "      <td>82</td>\n",
              "      <td>1970-03-07</td>\n",
              "      <td>Food Chemist</td>\n",
              "      <td>Health</td>\n",
              "      <td>Affluent Customer</td>\n",
              "      <td>Yes</td>\n",
              "      <td>Yes</td>\n",
              "      <td>6.0</td>\n",
              "    </tr>\n",
              "    <tr>\n",
              "      <th>3789</th>\n",
              "      <td>3790</td>\n",
              "      <td>Kurtis</td>\n",
              "      <td>Morson</td>\n",
              "      <td>Male</td>\n",
              "      <td>91</td>\n",
              "      <td>1959-05-31</td>\n",
              "      <td>Senior Editor</td>\n",
              "      <td>Retail</td>\n",
              "      <td>Mass Customer</td>\n",
              "      <td>Yes</td>\n",
              "      <td>Yes</td>\n",
              "      <td>9.0</td>\n",
              "    </tr>\n",
              "  </tbody>\n",
              "</table>\n",
              "</div>\n",
              "      <button class=\"colab-df-convert\" onclick=\"convertToInteractive('df-0863604d-d3d7-4c2e-95f0-5b58a57d2403')\"\n",
              "              title=\"Convert this dataframe to an interactive table.\"\n",
              "              style=\"display:none;\">\n",
              "        \n",
              "  <svg xmlns=\"http://www.w3.org/2000/svg\" height=\"24px\"viewBox=\"0 0 24 24\"\n",
              "       width=\"24px\">\n",
              "    <path d=\"M0 0h24v24H0V0z\" fill=\"none\"/>\n",
              "    <path d=\"M18.56 5.44l.94 2.06.94-2.06 2.06-.94-2.06-.94-.94-2.06-.94 2.06-2.06.94zm-11 1L8.5 8.5l.94-2.06 2.06-.94-2.06-.94L8.5 2.5l-.94 2.06-2.06.94zm10 10l.94 2.06.94-2.06 2.06-.94-2.06-.94-.94-2.06-.94 2.06-2.06.94z\"/><path d=\"M17.41 7.96l-1.37-1.37c-.4-.4-.92-.59-1.43-.59-.52 0-1.04.2-1.43.59L10.3 9.45l-7.72 7.72c-.78.78-.78 2.05 0 2.83L4 21.41c.39.39.9.59 1.41.59.51 0 1.02-.2 1.41-.59l7.78-7.78 2.81-2.81c.8-.78.8-2.07 0-2.86zM5.41 20L4 18.59l7.72-7.72 1.47 1.35L5.41 20z\"/>\n",
              "  </svg>\n",
              "      </button>\n",
              "      \n",
              "  <style>\n",
              "    .colab-df-container {\n",
              "      display:flex;\n",
              "      flex-wrap:wrap;\n",
              "      gap: 12px;\n",
              "    }\n",
              "\n",
              "    .colab-df-convert {\n",
              "      background-color: #E8F0FE;\n",
              "      border: none;\n",
              "      border-radius: 50%;\n",
              "      cursor: pointer;\n",
              "      display: none;\n",
              "      fill: #1967D2;\n",
              "      height: 32px;\n",
              "      padding: 0 0 0 0;\n",
              "      width: 32px;\n",
              "    }\n",
              "\n",
              "    .colab-df-convert:hover {\n",
              "      background-color: #E2EBFA;\n",
              "      box-shadow: 0px 1px 2px rgba(60, 64, 67, 0.3), 0px 1px 3px 1px rgba(60, 64, 67, 0.15);\n",
              "      fill: #174EA6;\n",
              "    }\n",
              "\n",
              "    [theme=dark] .colab-df-convert {\n",
              "      background-color: #3B4455;\n",
              "      fill: #D2E3FC;\n",
              "    }\n",
              "\n",
              "    [theme=dark] .colab-df-convert:hover {\n",
              "      background-color: #434B5C;\n",
              "      box-shadow: 0px 1px 3px 1px rgba(0, 0, 0, 0.15);\n",
              "      filter: drop-shadow(0px 1px 2px rgba(0, 0, 0, 0.3));\n",
              "      fill: #FFFFFF;\n",
              "    }\n",
              "  </style>\n",
              "\n",
              "      <script>\n",
              "        const buttonEl =\n",
              "          document.querySelector('#df-0863604d-d3d7-4c2e-95f0-5b58a57d2403 button.colab-df-convert');\n",
              "        buttonEl.style.display =\n",
              "          google.colab.kernel.accessAllowed ? 'block' : 'none';\n",
              "\n",
              "        async function convertToInteractive(key) {\n",
              "          const element = document.querySelector('#df-0863604d-d3d7-4c2e-95f0-5b58a57d2403');\n",
              "          const dataTable =\n",
              "            await google.colab.kernel.invokeFunction('convertToInteractive',\n",
              "                                                     [key], {});\n",
              "          if (!dataTable) return;\n",
              "\n",
              "          const docLinkHtml = 'Like what you see? Visit the ' +\n",
              "            '<a target=\"_blank\" href=https://colab.research.google.com/notebooks/data_table.ipynb>data table notebook</a>'\n",
              "            + ' to learn more about interactive tables.';\n",
              "          element.innerHTML = '';\n",
              "          dataTable['output_type'] = 'display_data';\n",
              "          await google.colab.output.renderOutput(dataTable, element);\n",
              "          const docLink = document.createElement('div');\n",
              "          docLink.innerHTML = docLinkHtml;\n",
              "          element.appendChild(docLink);\n",
              "        }\n",
              "      </script>\n",
              "    </div>\n",
              "  </div>\n",
              "  "
            ]
          },
          "metadata": {},
          "execution_count": 32
        }
      ]
    },
    {
      "cell_type": "code",
      "source": [
        "# drop colums\n",
        "df_demo1.drop(columns='deceased_indicator', inplace=True)"
      ],
      "metadata": {
        "id": "9mXySReVDDfy"
      },
      "execution_count": null,
      "outputs": []
    },
    {
      "cell_type": "markdown",
      "source": [
        "🔽 **DOB**  (Change the DOB to age)"
      ],
      "metadata": {
        "id": "umomjMfq-iNP"
      }
    },
    {
      "cell_type": "code",
      "source": [
        "df_demo1['DOB'].value_counts()"
      ],
      "metadata": {
        "colab": {
          "base_uri": "https://localhost:8080/"
        },
        "id": "F_IJzM2R-hyi",
        "outputId": "285be4a7-6b51-4a83-c13c-92aecb185eda"
      },
      "execution_count": null,
      "outputs": [
        {
          "output_type": "execute_result",
          "data": {
            "text/plain": [
              "1978-01-30    7\n",
              "1956-08-08    5\n",
              "1987-06-16    4\n",
              "1985-10-21    4\n",
              "1978-08-19    4\n",
              "             ..\n",
              "1972-08-14    1\n",
              "1962-05-14    1\n",
              "2000-01-25    1\n",
              "1976-08-05    1\n",
              "1991-11-05    1\n",
              "Name: DOB, Length: 3448, dtype: int64"
            ]
          },
          "metadata": {},
          "execution_count": 34
        }
      ]
    },
    {
      "cell_type": "code",
      "source": [
        "# Create function to calculate age\n",
        "from datetime import date\n",
        "def calculate_age(birthdate):\n",
        "  today = date.today()\n",
        "  age = today.year - birthdate.year - ((today.month, today.day) < (birthdate.month, birthdate.day))\n",
        "  return age"
      ],
      "metadata": {
        "id": "j79Zhudq_JRJ"
      },
      "execution_count": null,
      "outputs": []
    },
    {
      "cell_type": "code",
      "source": [
        "# fit into dataframe\n",
        "df_demo1['age'] = df_demo1['DOB'].apply(calculate_age)\n",
        "df_demo1['age_class'] = (round(df_demo1['age']/10)*10).astype(int)\n",
        "df_demo1.drop(columns='age',inplace=True)"
      ],
      "metadata": {
        "id": "ZUp6SLJSCSeT"
      },
      "execution_count": null,
      "outputs": []
    },
    {
      "cell_type": "code",
      "source": [
        "df_demo1['age_class'].value_counts()"
      ],
      "metadata": {
        "colab": {
          "base_uri": "https://localhost:8080/"
        },
        "id": "ZTiMo23LDPiY",
        "outputId": "6ea71cc1-eb41-4e32-c414-bae99112c7b4"
      },
      "execution_count": null,
      "outputs": [
        {
          "output_type": "execute_result",
          "data": {
            "text/plain": [
              "40     1128\n",
              "50      951\n",
              "60      785\n",
              "30      619\n",
              "20      275\n",
              "70      235\n",
              "80        4\n",
              "90        2\n",
              "180       1\n",
              "Name: age_class, dtype: int64"
            ]
          },
          "metadata": {},
          "execution_count": 37
        }
      ]
    },
    {
      "cell_type": "markdown",
      "source": [
        "🔽 **tenure**"
      ],
      "metadata": {
        "id": "NKqi8rLWHSSg"
      }
    },
    {
      "cell_type": "code",
      "source": [
        "df_demo1['tenure'] = df_demo1['tenure'].astype('int64')"
      ],
      "metadata": {
        "id": "zLyj0UhzGTFW"
      },
      "execution_count": null,
      "outputs": []
    },
    {
      "cell_type": "markdown",
      "source": [
        "### **3. Save Clean Dataset**"
      ],
      "metadata": {
        "id": "EoHp3MxIH-fz"
      }
    },
    {
      "cell_type": "code",
      "source": [
        "df_demo1.sample(3)"
      ],
      "metadata": {
        "colab": {
          "base_uri": "https://localhost:8080/",
          "height": 294
        },
        "id": "aapvVn0nHoMf",
        "outputId": "667191cd-775d-41f9-c9bb-ec3199680b06"
      },
      "execution_count": null,
      "outputs": [
        {
          "output_type": "execute_result",
          "data": {
            "text/plain": [
              "      customer_id first_name last_name gender  \\\n",
              "2357         2358        Ave     Peatt   Male   \n",
              "3197         3198        Dur   Knappen   Male   \n",
              "136           137     Vaughn     Artin   Male   \n",
              "\n",
              "      past_3_years_bike_related_purchases        DOB               job_title  \\\n",
              "2357                                   26 1959-05-01  Senior Sales Associate   \n",
              "3197                                   66 1997-08-02       Media Manager III   \n",
              "136                                    27 1987-11-21     Office Assistant II   \n",
              "\n",
              "     job_industry_category  wealth_segment owns_car  tenure  age_class  \n",
              "2357                Retail  High Net Worth      Yes      15         60  \n",
              "3197         Manufacturing   Mass Customer      Yes       1         20  \n",
              "136               Property  High Net Worth       No      10         40  "
            ],
            "text/html": [
              "\n",
              "  <div id=\"df-0a1e4406-ffaa-4ee4-8dc5-6deb0bb03c97\">\n",
              "    <div class=\"colab-df-container\">\n",
              "      <div>\n",
              "<style scoped>\n",
              "    .dataframe tbody tr th:only-of-type {\n",
              "        vertical-align: middle;\n",
              "    }\n",
              "\n",
              "    .dataframe tbody tr th {\n",
              "        vertical-align: top;\n",
              "    }\n",
              "\n",
              "    .dataframe thead th {\n",
              "        text-align: right;\n",
              "    }\n",
              "</style>\n",
              "<table border=\"1\" class=\"dataframe\">\n",
              "  <thead>\n",
              "    <tr style=\"text-align: right;\">\n",
              "      <th></th>\n",
              "      <th>customer_id</th>\n",
              "      <th>first_name</th>\n",
              "      <th>last_name</th>\n",
              "      <th>gender</th>\n",
              "      <th>past_3_years_bike_related_purchases</th>\n",
              "      <th>DOB</th>\n",
              "      <th>job_title</th>\n",
              "      <th>job_industry_category</th>\n",
              "      <th>wealth_segment</th>\n",
              "      <th>owns_car</th>\n",
              "      <th>tenure</th>\n",
              "      <th>age_class</th>\n",
              "    </tr>\n",
              "  </thead>\n",
              "  <tbody>\n",
              "    <tr>\n",
              "      <th>2357</th>\n",
              "      <td>2358</td>\n",
              "      <td>Ave</td>\n",
              "      <td>Peatt</td>\n",
              "      <td>Male</td>\n",
              "      <td>26</td>\n",
              "      <td>1959-05-01</td>\n",
              "      <td>Senior Sales Associate</td>\n",
              "      <td>Retail</td>\n",
              "      <td>High Net Worth</td>\n",
              "      <td>Yes</td>\n",
              "      <td>15</td>\n",
              "      <td>60</td>\n",
              "    </tr>\n",
              "    <tr>\n",
              "      <th>3197</th>\n",
              "      <td>3198</td>\n",
              "      <td>Dur</td>\n",
              "      <td>Knappen</td>\n",
              "      <td>Male</td>\n",
              "      <td>66</td>\n",
              "      <td>1997-08-02</td>\n",
              "      <td>Media Manager III</td>\n",
              "      <td>Manufacturing</td>\n",
              "      <td>Mass Customer</td>\n",
              "      <td>Yes</td>\n",
              "      <td>1</td>\n",
              "      <td>20</td>\n",
              "    </tr>\n",
              "    <tr>\n",
              "      <th>136</th>\n",
              "      <td>137</td>\n",
              "      <td>Vaughn</td>\n",
              "      <td>Artin</td>\n",
              "      <td>Male</td>\n",
              "      <td>27</td>\n",
              "      <td>1987-11-21</td>\n",
              "      <td>Office Assistant II</td>\n",
              "      <td>Property</td>\n",
              "      <td>High Net Worth</td>\n",
              "      <td>No</td>\n",
              "      <td>10</td>\n",
              "      <td>40</td>\n",
              "    </tr>\n",
              "  </tbody>\n",
              "</table>\n",
              "</div>\n",
              "      <button class=\"colab-df-convert\" onclick=\"convertToInteractive('df-0a1e4406-ffaa-4ee4-8dc5-6deb0bb03c97')\"\n",
              "              title=\"Convert this dataframe to an interactive table.\"\n",
              "              style=\"display:none;\">\n",
              "        \n",
              "  <svg xmlns=\"http://www.w3.org/2000/svg\" height=\"24px\"viewBox=\"0 0 24 24\"\n",
              "       width=\"24px\">\n",
              "    <path d=\"M0 0h24v24H0V0z\" fill=\"none\"/>\n",
              "    <path d=\"M18.56 5.44l.94 2.06.94-2.06 2.06-.94-2.06-.94-.94-2.06-.94 2.06-2.06.94zm-11 1L8.5 8.5l.94-2.06 2.06-.94-2.06-.94L8.5 2.5l-.94 2.06-2.06.94zm10 10l.94 2.06.94-2.06 2.06-.94-2.06-.94-.94-2.06-.94 2.06-2.06.94z\"/><path d=\"M17.41 7.96l-1.37-1.37c-.4-.4-.92-.59-1.43-.59-.52 0-1.04.2-1.43.59L10.3 9.45l-7.72 7.72c-.78.78-.78 2.05 0 2.83L4 21.41c.39.39.9.59 1.41.59.51 0 1.02-.2 1.41-.59l7.78-7.78 2.81-2.81c.8-.78.8-2.07 0-2.86zM5.41 20L4 18.59l7.72-7.72 1.47 1.35L5.41 20z\"/>\n",
              "  </svg>\n",
              "      </button>\n",
              "      \n",
              "  <style>\n",
              "    .colab-df-container {\n",
              "      display:flex;\n",
              "      flex-wrap:wrap;\n",
              "      gap: 12px;\n",
              "    }\n",
              "\n",
              "    .colab-df-convert {\n",
              "      background-color: #E8F0FE;\n",
              "      border: none;\n",
              "      border-radius: 50%;\n",
              "      cursor: pointer;\n",
              "      display: none;\n",
              "      fill: #1967D2;\n",
              "      height: 32px;\n",
              "      padding: 0 0 0 0;\n",
              "      width: 32px;\n",
              "    }\n",
              "\n",
              "    .colab-df-convert:hover {\n",
              "      background-color: #E2EBFA;\n",
              "      box-shadow: 0px 1px 2px rgba(60, 64, 67, 0.3), 0px 1px 3px 1px rgba(60, 64, 67, 0.15);\n",
              "      fill: #174EA6;\n",
              "    }\n",
              "\n",
              "    [theme=dark] .colab-df-convert {\n",
              "      background-color: #3B4455;\n",
              "      fill: #D2E3FC;\n",
              "    }\n",
              "\n",
              "    [theme=dark] .colab-df-convert:hover {\n",
              "      background-color: #434B5C;\n",
              "      box-shadow: 0px 1px 3px 1px rgba(0, 0, 0, 0.15);\n",
              "      filter: drop-shadow(0px 1px 2px rgba(0, 0, 0, 0.3));\n",
              "      fill: #FFFFFF;\n",
              "    }\n",
              "  </style>\n",
              "\n",
              "      <script>\n",
              "        const buttonEl =\n",
              "          document.querySelector('#df-0a1e4406-ffaa-4ee4-8dc5-6deb0bb03c97 button.colab-df-convert');\n",
              "        buttonEl.style.display =\n",
              "          google.colab.kernel.accessAllowed ? 'block' : 'none';\n",
              "\n",
              "        async function convertToInteractive(key) {\n",
              "          const element = document.querySelector('#df-0a1e4406-ffaa-4ee4-8dc5-6deb0bb03c97');\n",
              "          const dataTable =\n",
              "            await google.colab.kernel.invokeFunction('convertToInteractive',\n",
              "                                                     [key], {});\n",
              "          if (!dataTable) return;\n",
              "\n",
              "          const docLinkHtml = 'Like what you see? Visit the ' +\n",
              "            '<a target=\"_blank\" href=https://colab.research.google.com/notebooks/data_table.ipynb>data table notebook</a>'\n",
              "            + ' to learn more about interactive tables.';\n",
              "          element.innerHTML = '';\n",
              "          dataTable['output_type'] = 'display_data';\n",
              "          await google.colab.output.renderOutput(dataTable, element);\n",
              "          const docLink = document.createElement('div');\n",
              "          docLink.innerHTML = docLinkHtml;\n",
              "          element.appendChild(docLink);\n",
              "        }\n",
              "      </script>\n",
              "    </div>\n",
              "  </div>\n",
              "  "
            ]
          },
          "metadata": {},
          "execution_count": 39
        }
      ]
    },
    {
      "cell_type": "code",
      "source": [
        "df_demo1.info()"
      ],
      "metadata": {
        "colab": {
          "base_uri": "https://localhost:8080/"
        },
        "id": "zK44PwecIete",
        "outputId": "0f6f6c32-0ea3-4b5e-af99-ab84bfd3ad04"
      },
      "execution_count": null,
      "outputs": [
        {
          "output_type": "stream",
          "name": "stdout",
          "text": [
            "<class 'pandas.core.frame.DataFrame'>\n",
            "RangeIndex: 4000 entries, 0 to 3999\n",
            "Data columns (total 12 columns):\n",
            " #   Column                               Non-Null Count  Dtype         \n",
            "---  ------                               --------------  -----         \n",
            " 0   customer_id                          4000 non-null   int64         \n",
            " 1   first_name                           4000 non-null   object        \n",
            " 2   last_name                            4000 non-null   object        \n",
            " 3   gender                               4000 non-null   object        \n",
            " 4   past_3_years_bike_related_purchases  4000 non-null   int64         \n",
            " 5   DOB                                  4000 non-null   datetime64[ns]\n",
            " 6   job_title                            4000 non-null   object        \n",
            " 7   job_industry_category                4000 non-null   object        \n",
            " 8   wealth_segment                       4000 non-null   object        \n",
            " 9   owns_car                             4000 non-null   object        \n",
            " 10  tenure                               4000 non-null   int64         \n",
            " 11  age_class                            4000 non-null   int64         \n",
            "dtypes: datetime64[ns](1), int64(4), object(7)\n",
            "memory usage: 375.1+ KB\n"
          ]
        }
      ]
    },
    {
      "cell_type": "code",
      "source": [
        "#df_demo1.to_csv('CustomerDemographic_CLEAN.csv', index=False)"
      ],
      "metadata": {
        "id": "_OK2GxxYInyO"
      },
      "execution_count": null,
      "outputs": []
    },
    {
      "cell_type": "markdown",
      "source": [
        "## **Customer Address**\n",
        "***\n",
        "### **1. Exploratory Data Analysis**\n",
        "**1.1. Checking Data Type and Unique Values**"
      ],
      "metadata": {
        "id": "fGPvwgg0I8iQ"
      }
    },
    {
      "cell_type": "code",
      "source": [
        "df_addr.sample(3)"
      ],
      "metadata": {
        "colab": {
          "base_uri": "https://localhost:8080/",
          "height": 143
        },
        "id": "z5-uRO95K1Os",
        "outputId": "e57ef888-d575-408c-8048-fa99e3fde147"
      },
      "execution_count": null,
      "outputs": [
        {
          "output_type": "execute_result",
          "data": {
            "text/plain": [
              "      customer_id            address  postcode state    country  \\\n",
              "1593         1598  4 Florence Street      2032   NSW  Australia   \n",
              "880           885         5 Hauk Way      4870   QLD  Australia   \n",
              "1616         1621     48 Melby Trail      2131   NSW  Australia   \n",
              "\n",
              "      property_valuation  \n",
              "1593                  11  \n",
              "880                    8  \n",
              "1616                   8  "
            ],
            "text/html": [
              "\n",
              "  <div id=\"df-a8c5c203-eaef-49ca-80d8-7dd07b6511dc\">\n",
              "    <div class=\"colab-df-container\">\n",
              "      <div>\n",
              "<style scoped>\n",
              "    .dataframe tbody tr th:only-of-type {\n",
              "        vertical-align: middle;\n",
              "    }\n",
              "\n",
              "    .dataframe tbody tr th {\n",
              "        vertical-align: top;\n",
              "    }\n",
              "\n",
              "    .dataframe thead th {\n",
              "        text-align: right;\n",
              "    }\n",
              "</style>\n",
              "<table border=\"1\" class=\"dataframe\">\n",
              "  <thead>\n",
              "    <tr style=\"text-align: right;\">\n",
              "      <th></th>\n",
              "      <th>customer_id</th>\n",
              "      <th>address</th>\n",
              "      <th>postcode</th>\n",
              "      <th>state</th>\n",
              "      <th>country</th>\n",
              "      <th>property_valuation</th>\n",
              "    </tr>\n",
              "  </thead>\n",
              "  <tbody>\n",
              "    <tr>\n",
              "      <th>1593</th>\n",
              "      <td>1598</td>\n",
              "      <td>4 Florence Street</td>\n",
              "      <td>2032</td>\n",
              "      <td>NSW</td>\n",
              "      <td>Australia</td>\n",
              "      <td>11</td>\n",
              "    </tr>\n",
              "    <tr>\n",
              "      <th>880</th>\n",
              "      <td>885</td>\n",
              "      <td>5 Hauk Way</td>\n",
              "      <td>4870</td>\n",
              "      <td>QLD</td>\n",
              "      <td>Australia</td>\n",
              "      <td>8</td>\n",
              "    </tr>\n",
              "    <tr>\n",
              "      <th>1616</th>\n",
              "      <td>1621</td>\n",
              "      <td>48 Melby Trail</td>\n",
              "      <td>2131</td>\n",
              "      <td>NSW</td>\n",
              "      <td>Australia</td>\n",
              "      <td>8</td>\n",
              "    </tr>\n",
              "  </tbody>\n",
              "</table>\n",
              "</div>\n",
              "      <button class=\"colab-df-convert\" onclick=\"convertToInteractive('df-a8c5c203-eaef-49ca-80d8-7dd07b6511dc')\"\n",
              "              title=\"Convert this dataframe to an interactive table.\"\n",
              "              style=\"display:none;\">\n",
              "        \n",
              "  <svg xmlns=\"http://www.w3.org/2000/svg\" height=\"24px\"viewBox=\"0 0 24 24\"\n",
              "       width=\"24px\">\n",
              "    <path d=\"M0 0h24v24H0V0z\" fill=\"none\"/>\n",
              "    <path d=\"M18.56 5.44l.94 2.06.94-2.06 2.06-.94-2.06-.94-.94-2.06-.94 2.06-2.06.94zm-11 1L8.5 8.5l.94-2.06 2.06-.94-2.06-.94L8.5 2.5l-.94 2.06-2.06.94zm10 10l.94 2.06.94-2.06 2.06-.94-2.06-.94-.94-2.06-.94 2.06-2.06.94z\"/><path d=\"M17.41 7.96l-1.37-1.37c-.4-.4-.92-.59-1.43-.59-.52 0-1.04.2-1.43.59L10.3 9.45l-7.72 7.72c-.78.78-.78 2.05 0 2.83L4 21.41c.39.39.9.59 1.41.59.51 0 1.02-.2 1.41-.59l7.78-7.78 2.81-2.81c.8-.78.8-2.07 0-2.86zM5.41 20L4 18.59l7.72-7.72 1.47 1.35L5.41 20z\"/>\n",
              "  </svg>\n",
              "      </button>\n",
              "      \n",
              "  <style>\n",
              "    .colab-df-container {\n",
              "      display:flex;\n",
              "      flex-wrap:wrap;\n",
              "      gap: 12px;\n",
              "    }\n",
              "\n",
              "    .colab-df-convert {\n",
              "      background-color: #E8F0FE;\n",
              "      border: none;\n",
              "      border-radius: 50%;\n",
              "      cursor: pointer;\n",
              "      display: none;\n",
              "      fill: #1967D2;\n",
              "      height: 32px;\n",
              "      padding: 0 0 0 0;\n",
              "      width: 32px;\n",
              "    }\n",
              "\n",
              "    .colab-df-convert:hover {\n",
              "      background-color: #E2EBFA;\n",
              "      box-shadow: 0px 1px 2px rgba(60, 64, 67, 0.3), 0px 1px 3px 1px rgba(60, 64, 67, 0.15);\n",
              "      fill: #174EA6;\n",
              "    }\n",
              "\n",
              "    [theme=dark] .colab-df-convert {\n",
              "      background-color: #3B4455;\n",
              "      fill: #D2E3FC;\n",
              "    }\n",
              "\n",
              "    [theme=dark] .colab-df-convert:hover {\n",
              "      background-color: #434B5C;\n",
              "      box-shadow: 0px 1px 3px 1px rgba(0, 0, 0, 0.15);\n",
              "      filter: drop-shadow(0px 1px 2px rgba(0, 0, 0, 0.3));\n",
              "      fill: #FFFFFF;\n",
              "    }\n",
              "  </style>\n",
              "\n",
              "      <script>\n",
              "        const buttonEl =\n",
              "          document.querySelector('#df-a8c5c203-eaef-49ca-80d8-7dd07b6511dc button.colab-df-convert');\n",
              "        buttonEl.style.display =\n",
              "          google.colab.kernel.accessAllowed ? 'block' : 'none';\n",
              "\n",
              "        async function convertToInteractive(key) {\n",
              "          const element = document.querySelector('#df-a8c5c203-eaef-49ca-80d8-7dd07b6511dc');\n",
              "          const dataTable =\n",
              "            await google.colab.kernel.invokeFunction('convertToInteractive',\n",
              "                                                     [key], {});\n",
              "          if (!dataTable) return;\n",
              "\n",
              "          const docLinkHtml = 'Like what you see? Visit the ' +\n",
              "            '<a target=\"_blank\" href=https://colab.research.google.com/notebooks/data_table.ipynb>data table notebook</a>'\n",
              "            + ' to learn more about interactive tables.';\n",
              "          element.innerHTML = '';\n",
              "          dataTable['output_type'] = 'display_data';\n",
              "          await google.colab.output.renderOutput(dataTable, element);\n",
              "          const docLink = document.createElement('div');\n",
              "          docLink.innerHTML = docLinkHtml;\n",
              "          element.appendChild(docLink);\n",
              "        }\n",
              "      </script>\n",
              "    </div>\n",
              "  </div>\n",
              "  "
            ]
          },
          "metadata": {},
          "execution_count": 42
        }
      ]
    },
    {
      "cell_type": "code",
      "source": [
        "# Checking shape\n",
        "df_addr.shape"
      ],
      "metadata": {
        "colab": {
          "base_uri": "https://localhost:8080/"
        },
        "id": "k7N00Tr2K1zJ",
        "outputId": "0da424aa-121d-43b7-d359-2dc11c9f4430"
      },
      "execution_count": null,
      "outputs": [
        {
          "output_type": "execute_result",
          "data": {
            "text/plain": [
              "(3999, 6)"
            ]
          },
          "metadata": {},
          "execution_count": 43
        }
      ]
    },
    {
      "cell_type": "code",
      "source": [
        "df_addr.info()"
      ],
      "metadata": {
        "colab": {
          "base_uri": "https://localhost:8080/"
        },
        "id": "SmpW0kLnLpEk",
        "outputId": "04d7d6aa-2272-45ae-f988-7c788f5b6117"
      },
      "execution_count": null,
      "outputs": [
        {
          "output_type": "stream",
          "name": "stdout",
          "text": [
            "<class 'pandas.core.frame.DataFrame'>\n",
            "RangeIndex: 3999 entries, 0 to 3998\n",
            "Data columns (total 6 columns):\n",
            " #   Column              Non-Null Count  Dtype \n",
            "---  ------              --------------  ----- \n",
            " 0   customer_id         3999 non-null   int64 \n",
            " 1   address             3999 non-null   object\n",
            " 2   postcode            3999 non-null   int64 \n",
            " 3   state               3999 non-null   object\n",
            " 4   country             3999 non-null   object\n",
            " 5   property_valuation  3999 non-null   int64 \n",
            "dtypes: int64(3), object(3)\n",
            "memory usage: 187.6+ KB\n"
          ]
        }
      ]
    },
    {
      "cell_type": "code",
      "source": [
        "# Checking unique value of each columns\n",
        "for col in df_addr.columns:\n",
        "  print(\"{} have {} unique values: {}\".format(col, df_addr[col].nunique(), df_addr[col].dtypes))\n",
        "  if df_addr[col].dtypes == 'int64' or df_addr[col].dtypes == 'object':\n",
        "    print(\"{} values: {}\".format(col,df_addr[col].unique()))\n",
        "    print('')"
      ],
      "metadata": {
        "colab": {
          "base_uri": "https://localhost:8080/"
        },
        "id": "raTESaRUMoxd",
        "outputId": "47291346-9646-431b-9ada-6a1b36f5bbe3"
      },
      "execution_count": null,
      "outputs": [
        {
          "output_type": "stream",
          "name": "stdout",
          "text": [
            "customer_id have 3999 unique values: int64\n",
            "customer_id values: [   1    2    4 ... 4001 4002 4003]\n",
            "\n",
            "address have 3996 unique values: object\n",
            "address values: ['060 Morning Avenue' '6 Meadow Vale Court' '0 Holy Cross Court' ...\n",
            " '87 Crescent Oaks Alley' '8194 Lien Street' '320 Acker Drive']\n",
            "\n",
            "postcode have 873 unique values: int64\n",
            "postcode values: [2016 2153 4211 2448 3216 2210 2650 2023 3044 4557 3799 2760 2428 3331\n",
            " 3058 2135 2233 2444 4413 4740 3218 4868 4116 2519 2756 2170 4005 4127\n",
            " 2535 4726 4805 2212 2207 3350 3931 4018 4670 2480 3212 2322 3198 2047\n",
            " 4503 2145 4350 2142 2029 2127 4280 2166 2046 2026 2765 2749 2745 3752\n",
            " 2217 2230 3046 3183 2070 2213 4208 2774 4133 4213 4170 2073 3561 2330\n",
            " 3977 2204 2086 2226 2075 2038 2069 2100 3133 3070 2777 2125 2766 2209\n",
            " 2160 2065 2150 2168 4171 2155 2517 2096 2750 2093 3204 4300 3844 4226\n",
            " 3192 2485 2097 4817 2516 3074 4508 4405 2452 2205 4132 4744 2158 3201\n",
            " 4178 2112 2033 4401 3186 4017 2315 2285 2219 4509 2759 2747 2227 2025\n",
            " 3191 3025 2263 2154 2119 3016 4113 2032 4352 3020 2116 3057 2099 3749\n",
            " 2148 3145 2021 2333 2783 2280 4120 3638 2074 2880 2430 4560 2088 2220\n",
            " 3031 2250 2261 3196 4680 3143 2063 3021 2138 4811 2085 3084 3170 2066\n",
            " 4078 2222 3152 2159 4655 4220 4012 2015 2776 3011 2761 2502 2110 2566\n",
            " 2506 2508 2036 2018 3666 4514 2525 4152 2200 3023 3500 2283 2102 2040\n",
            " 2304 2340 3580 3355 2287 2324 2323 2320 2346 2031 2064 2176 3195 2010\n",
            " 2768 2752 3802 3071 4735 3081 3205 2165 3125 4214 2030 2767 2798 2117\n",
            " 4551 3064 3810 4151 2830 3030 4812 2141 3029 2173 3199 4506 2035 3340\n",
            " 3182 2450 2216 3796 3197 2232 2365 4701 4210 2223 4122 2515 3437 3338\n",
            " 2203 3356 3223 3032 3105 3101 2763 2089 2126 2147 2251 3127 3087 3131\n",
            " 3134 2193 4055 2530 4217 4020 2179 3130 4570 3215 3165 3936 2265 3034\n",
            " 2062 2162 3033 2144 3805 2642 3228 3444 2076 4124 4305 2579 2835 3337\n",
            " 2536 2770 2646 4558 2211 2570 4552 3082 2360 4223 4370 3150 2549 3040\n",
            " 4209 4173 2068 3806 2259 2260 4074 4215 3008 2748 2567 3015 4221 3121\n",
            " 4870 2118 2050 2120 3812 3111 3012 2197 3162 2037 3141 3178 3564 3550\n",
            " 3775 3004 3185 2447 3910 3621 4702 2133 3075 3911 2487 4123 2151 3156\n",
            " 3126 2027 3124 2564 2049 3690 3282 2576 3108 4165 2218 2190 2337 2307\n",
            " 2121 2716 3168 3076 2478 2560 2087 4505 2630 2225 3013 3136 2111 2106\n",
            " 3930 2291 2305 2300 4179 2539 3207 4340 3137 3068 4580 2041 4504 2306\n",
            " 4075 3975 4114 4341 4022 4820 3028 4035 2326 3429 4218 2380 3171 2565\n",
            " 3850 3807 4800 2577 2199 2134 4053 2800 2048 2194 2557 2548 2262 2463\n",
            " 2481 2072 3155 3095 4207 4110 2017 2769 4562 2571 3480 3551 2753 3093\n",
            " 4615 3174 2192 2290 3073 4810 4121 2229 4118 2594 3750 4019 2540 2293\n",
            " 2143 3630 2164 4869 2137 2354 4814 2282 2292 2171 2077 4873 4006 2754\n",
            " 2152 2067 2122 3976 2000 3175 2156 2228 3187 2680 2527 2163 2336 4415\n",
            " 3139 3147 3623 4356 2034 2196 2177 2234 2537 4720 3765 2486 4511 2795\n",
            " 3188 3730 3060 4131 2518 3158 2477 2195 2575 3400 3037 4507 2113 2443\n",
            " 3177 2641 4212 3241 3428 4227 4034 2558 2460 3173 2289 4500 4825 4161\n",
            " 3757 2871 2146 4380 3024 3934 3109 2136 2484 3225 4068 2214 3809 2454\n",
            " 4556 4573 2131 3184 2619 3138 3441 2101 4510 2647 2731 3284 2573 2206\n",
            " 4815 2526 4502 2710 2090 3038 3142 3442 4064 2529 3039 2061 3644 2104\n",
            " 2044 3043 2873 2541 2321 2079 3072 2007 2620 2231 2580 2020 2852 3677\n",
            " 4818 4519 4806 4610 4512 4306 4304 4301 4205 4051 4130 4115 4164 4128\n",
            " 3940 3939 3840 3804 2582 3747 3620 3151 3380 3280 3224 3222 3226 3190\n",
            " 3169 3163 3161 3791 4119 3140 3818 3106 3099 3754 3756 3061 3048 3036\n",
            " 3107 3022 3049 2870 2762 2794 2773 2640 2439 2528 2440 2325 2161 2848\n",
            " 4878 2775 2224 3219 2441 4877 3264 2681 3018 2043 2107 4567 4011 2221\n",
            " 2028 3941 3146 3585 4105 2094 2284 3808 3149 3114 3352 3129 4154 2114\n",
            " 4721 2011 4157 4799 2095 3103 4224 4344 2009 3144 3181 2665 2474 3166\n",
            " 2820 4059 4160 3189 4030 2042 4032 4103 2868 2358 2449 2299 4014 3056\n",
            " 2281 4007 2318 3821 4109 4216 2470 2563 2264 2445 4060 3214 4077 2327\n",
            " 4104 3172 2505 2115 2469 2705 3088 3966 3912 2446 2810 4061 3083 3915\n",
            " 4153 2267 3458 4421 3505 3006 4037 3918 2335 3079 2400 3148 2092 2714\n",
            " 3555 2008 3631 4228 4101 2022 4568 3115 4343 3116 2208 4125 4070 3194\n",
            " 2533 2758 4159 4879 2500 2298 2178 3240 2671 4455 4650 3160 3250 3342\n",
            " 3523 2350 2785 3995 3351 3000 2462 3041 3260 2534 4565 3618 2780 2167\n",
            " 3279 4106 4700 2799 4564 4860 3922 2256 4031 2779 4660 4073 3067 2843\n",
            " 3027 3066 2572 2128 4054 4069 2343 3377 3065 2295 4270 2316 3179 3933\n",
            " 4883 2081 2471 3053 4285 2546 4275 3132 3042 3085 2071 2821 4390 3793\n",
            " 3128 2869 3616 4750 3059 3153 2130 3213 3862 3610 4102 2060 3786 2019\n",
            " 2191 2713 3094 3122 2850 4272 3051 3634 3803 4515 2700 3123 2294 3978\n",
            " 3305 2198 2778 4730 4155 4000 4225 3556 4575 4715 2429 4555 2132 2045\n",
            " 2024 4076 3321 3193 2390 2806 2257 4172 3078 3104 3860 2658 3052 4163\n",
            " 2590 2550 2877 4311 3089]\n",
            "\n",
            "state have 5 unique values: object\n",
            "state values: ['New South Wales' 'QLD' 'VIC' 'NSW' 'Victoria']\n",
            "\n",
            "country have 1 unique values: object\n",
            "country values: ['Australia']\n",
            "\n",
            "property_valuation have 12 unique values: int64\n",
            "property_valuation values: [10  9  4 12  8  6  7  3  5 11  1  2]\n",
            "\n"
          ]
        }
      ]
    },
    {
      "cell_type": "code",
      "source": [
        "# Numerical Data\n",
        "nums_a = df_addr.loc[:,(df_addr.dtypes == 'int64')].columns.tolist()\n",
        "print(nums_a)\n",
        "print('Counts:',len(nums_a))"
      ],
      "metadata": {
        "colab": {
          "base_uri": "https://localhost:8080/"
        },
        "id": "UMj6sDlCN9ju",
        "outputId": "5d040c2e-2116-424a-b98c-d43df4c00f71"
      },
      "execution_count": null,
      "outputs": [
        {
          "output_type": "stream",
          "name": "stdout",
          "text": [
            "['customer_id', 'postcode', 'property_valuation']\n",
            "Counts: 3\n"
          ]
        }
      ]
    },
    {
      "cell_type": "code",
      "source": [
        "# Categorical Data\n",
        "cats_a = df_addr.loc[:,(df_addr.dtypes == object)].columns.tolist()\n",
        "print(cats_a)\n",
        "print('Counts:',len(cats_a))"
      ],
      "metadata": {
        "colab": {
          "base_uri": "https://localhost:8080/"
        },
        "id": "YMKJpwbKN9Uy",
        "outputId": "d6dbbe4c-2c7e-432c-fa91-c3b698d4a520"
      },
      "execution_count": null,
      "outputs": [
        {
          "output_type": "stream",
          "name": "stdout",
          "text": [
            "['address', 'state', 'country']\n",
            "Counts: 3\n"
          ]
        }
      ]
    },
    {
      "cell_type": "markdown",
      "source": [
        "**Observation :**\n",
        "\n",
        "*   The Datasets contain **3999 data** having **6** columns,with **3 Numerical** and **3 Categorical** columns.\n",
        "*   The Data type in each column is appropiate.\n",
        "*   There are inconsistent value in the **state column** ,so it need to be treated.\n",
        "****\n",
        "**1.2 Checking Missing Values**"
      ],
      "metadata": {
        "id": "9WwWZy8iRz8q"
      }
    },
    {
      "cell_type": "code",
      "source": [
        "# Percentage of missing value of dataset\n",
        "nan_df = df_addr[df_addr.isna().any(axis=1)]\n",
        "nan_percent = round(len(nan_df)/len(df_addr)*100,2)\n",
        "print('Percentages missing value of dataset :', nan_percent, '%')"
      ],
      "metadata": {
        "colab": {
          "base_uri": "https://localhost:8080/"
        },
        "id": "QWKZy8RxRzAl",
        "outputId": "01092e75-1089-469b-b8b1-e8f836fa6221"
      },
      "execution_count": null,
      "outputs": [
        {
          "output_type": "stream",
          "name": "stdout",
          "text": [
            "Percentages missing value of dataset : 0.0 %\n"
          ]
        }
      ]
    },
    {
      "cell_type": "markdown",
      "source": [
        "**Observation :** There is **no missing values.**\n",
        "****\n",
        "**1.3 Checking Duplicate Records**"
      ],
      "metadata": {
        "id": "aHWIH6IGY7BM"
      }
    },
    {
      "cell_type": "code",
      "source": [
        "# Checking duplicated data\n",
        "df_addr.duplicated().sum()"
      ],
      "metadata": {
        "colab": {
          "base_uri": "https://localhost:8080/"
        },
        "id": "R50jw5iZN9Gg",
        "outputId": "70a5a889-556c-437d-8017-bd2d45c8946c"
      },
      "execution_count": null,
      "outputs": [
        {
          "output_type": "execute_result",
          "data": {
            "text/plain": [
              "0"
            ]
          },
          "metadata": {},
          "execution_count": 49
        }
      ]
    },
    {
      "cell_type": "markdown",
      "source": [
        "**Observation :** There is **no duplicate data.**\n",
        "****\n",
        "**1.4. Statistical Summary**"
      ],
      "metadata": {
        "id": "qrTMNTSnal3s"
      }
    },
    {
      "cell_type": "code",
      "source": [
        "# Numerical\n",
        "df_addr[nums_a].describe().T"
      ],
      "metadata": {
        "id": "loczjY2jZ49k",
        "colab": {
          "base_uri": "https://localhost:8080/",
          "height": 143
        },
        "outputId": "eb5073e1-54f7-4882-8d5d-e551c676f75d"
      },
      "execution_count": null,
      "outputs": [
        {
          "output_type": "execute_result",
          "data": {
            "text/plain": [
              "                     count         mean          std     min     25%     50%  \\\n",
              "customer_id         3999.0  2003.987997  1154.576912     1.0  1004.5  2004.0   \n",
              "postcode            3999.0  2985.755939   844.878364  2000.0  2200.0  2768.0   \n",
              "property_valuation  3999.0     7.514379     2.824663     1.0     6.0     8.0   \n",
              "\n",
              "                       75%     max  \n",
              "customer_id         3003.5  4003.0  \n",
              "postcode            3750.0  4883.0  \n",
              "property_valuation    10.0    12.0  "
            ],
            "text/html": [
              "\n",
              "  <div id=\"df-003a38ac-11cd-4822-be33-9875a90f9e36\">\n",
              "    <div class=\"colab-df-container\">\n",
              "      <div>\n",
              "<style scoped>\n",
              "    .dataframe tbody tr th:only-of-type {\n",
              "        vertical-align: middle;\n",
              "    }\n",
              "\n",
              "    .dataframe tbody tr th {\n",
              "        vertical-align: top;\n",
              "    }\n",
              "\n",
              "    .dataframe thead th {\n",
              "        text-align: right;\n",
              "    }\n",
              "</style>\n",
              "<table border=\"1\" class=\"dataframe\">\n",
              "  <thead>\n",
              "    <tr style=\"text-align: right;\">\n",
              "      <th></th>\n",
              "      <th>count</th>\n",
              "      <th>mean</th>\n",
              "      <th>std</th>\n",
              "      <th>min</th>\n",
              "      <th>25%</th>\n",
              "      <th>50%</th>\n",
              "      <th>75%</th>\n",
              "      <th>max</th>\n",
              "    </tr>\n",
              "  </thead>\n",
              "  <tbody>\n",
              "    <tr>\n",
              "      <th>customer_id</th>\n",
              "      <td>3999.0</td>\n",
              "      <td>2003.987997</td>\n",
              "      <td>1154.576912</td>\n",
              "      <td>1.0</td>\n",
              "      <td>1004.5</td>\n",
              "      <td>2004.0</td>\n",
              "      <td>3003.5</td>\n",
              "      <td>4003.0</td>\n",
              "    </tr>\n",
              "    <tr>\n",
              "      <th>postcode</th>\n",
              "      <td>3999.0</td>\n",
              "      <td>2985.755939</td>\n",
              "      <td>844.878364</td>\n",
              "      <td>2000.0</td>\n",
              "      <td>2200.0</td>\n",
              "      <td>2768.0</td>\n",
              "      <td>3750.0</td>\n",
              "      <td>4883.0</td>\n",
              "    </tr>\n",
              "    <tr>\n",
              "      <th>property_valuation</th>\n",
              "      <td>3999.0</td>\n",
              "      <td>7.514379</td>\n",
              "      <td>2.824663</td>\n",
              "      <td>1.0</td>\n",
              "      <td>6.0</td>\n",
              "      <td>8.0</td>\n",
              "      <td>10.0</td>\n",
              "      <td>12.0</td>\n",
              "    </tr>\n",
              "  </tbody>\n",
              "</table>\n",
              "</div>\n",
              "      <button class=\"colab-df-convert\" onclick=\"convertToInteractive('df-003a38ac-11cd-4822-be33-9875a90f9e36')\"\n",
              "              title=\"Convert this dataframe to an interactive table.\"\n",
              "              style=\"display:none;\">\n",
              "        \n",
              "  <svg xmlns=\"http://www.w3.org/2000/svg\" height=\"24px\"viewBox=\"0 0 24 24\"\n",
              "       width=\"24px\">\n",
              "    <path d=\"M0 0h24v24H0V0z\" fill=\"none\"/>\n",
              "    <path d=\"M18.56 5.44l.94 2.06.94-2.06 2.06-.94-2.06-.94-.94-2.06-.94 2.06-2.06.94zm-11 1L8.5 8.5l.94-2.06 2.06-.94-2.06-.94L8.5 2.5l-.94 2.06-2.06.94zm10 10l.94 2.06.94-2.06 2.06-.94-2.06-.94-.94-2.06-.94 2.06-2.06.94z\"/><path d=\"M17.41 7.96l-1.37-1.37c-.4-.4-.92-.59-1.43-.59-.52 0-1.04.2-1.43.59L10.3 9.45l-7.72 7.72c-.78.78-.78 2.05 0 2.83L4 21.41c.39.39.9.59 1.41.59.51 0 1.02-.2 1.41-.59l7.78-7.78 2.81-2.81c.8-.78.8-2.07 0-2.86zM5.41 20L4 18.59l7.72-7.72 1.47 1.35L5.41 20z\"/>\n",
              "  </svg>\n",
              "      </button>\n",
              "      \n",
              "  <style>\n",
              "    .colab-df-container {\n",
              "      display:flex;\n",
              "      flex-wrap:wrap;\n",
              "      gap: 12px;\n",
              "    }\n",
              "\n",
              "    .colab-df-convert {\n",
              "      background-color: #E8F0FE;\n",
              "      border: none;\n",
              "      border-radius: 50%;\n",
              "      cursor: pointer;\n",
              "      display: none;\n",
              "      fill: #1967D2;\n",
              "      height: 32px;\n",
              "      padding: 0 0 0 0;\n",
              "      width: 32px;\n",
              "    }\n",
              "\n",
              "    .colab-df-convert:hover {\n",
              "      background-color: #E2EBFA;\n",
              "      box-shadow: 0px 1px 2px rgba(60, 64, 67, 0.3), 0px 1px 3px 1px rgba(60, 64, 67, 0.15);\n",
              "      fill: #174EA6;\n",
              "    }\n",
              "\n",
              "    [theme=dark] .colab-df-convert {\n",
              "      background-color: #3B4455;\n",
              "      fill: #D2E3FC;\n",
              "    }\n",
              "\n",
              "    [theme=dark] .colab-df-convert:hover {\n",
              "      background-color: #434B5C;\n",
              "      box-shadow: 0px 1px 3px 1px rgba(0, 0, 0, 0.15);\n",
              "      filter: drop-shadow(0px 1px 2px rgba(0, 0, 0, 0.3));\n",
              "      fill: #FFFFFF;\n",
              "    }\n",
              "  </style>\n",
              "\n",
              "      <script>\n",
              "        const buttonEl =\n",
              "          document.querySelector('#df-003a38ac-11cd-4822-be33-9875a90f9e36 button.colab-df-convert');\n",
              "        buttonEl.style.display =\n",
              "          google.colab.kernel.accessAllowed ? 'block' : 'none';\n",
              "\n",
              "        async function convertToInteractive(key) {\n",
              "          const element = document.querySelector('#df-003a38ac-11cd-4822-be33-9875a90f9e36');\n",
              "          const dataTable =\n",
              "            await google.colab.kernel.invokeFunction('convertToInteractive',\n",
              "                                                     [key], {});\n",
              "          if (!dataTable) return;\n",
              "\n",
              "          const docLinkHtml = 'Like what you see? Visit the ' +\n",
              "            '<a target=\"_blank\" href=https://colab.research.google.com/notebooks/data_table.ipynb>data table notebook</a>'\n",
              "            + ' to learn more about interactive tables.';\n",
              "          element.innerHTML = '';\n",
              "          dataTable['output_type'] = 'display_data';\n",
              "          await google.colab.output.renderOutput(dataTable, element);\n",
              "          const docLink = document.createElement('div');\n",
              "          docLink.innerHTML = docLinkHtml;\n",
              "          element.appendChild(docLink);\n",
              "        }\n",
              "      </script>\n",
              "    </div>\n",
              "  </div>\n",
              "  "
            ]
          },
          "metadata": {},
          "execution_count": 50
        }
      ]
    },
    {
      "cell_type": "code",
      "source": [
        "# Categorical\n",
        "df_addr[cats_a].describe().T"
      ],
      "metadata": {
        "colab": {
          "base_uri": "https://localhost:8080/",
          "height": 143
        },
        "id": "MD6W42k-A8_J",
        "outputId": "c2427df3-9dcc-40b9-92ca-30bff95608cb"
      },
      "execution_count": null,
      "outputs": [
        {
          "output_type": "execute_result",
          "data": {
            "text/plain": [
              "        count unique                      top  freq\n",
              "address  3999   3996  3 Mariners Cove Terrace     2\n",
              "state    3999      5                      NSW  2054\n",
              "country  3999      1                Australia  3999"
            ],
            "text/html": [
              "\n",
              "  <div id=\"df-c7a7e3f5-a426-4fa5-85f6-df7086a40042\">\n",
              "    <div class=\"colab-df-container\">\n",
              "      <div>\n",
              "<style scoped>\n",
              "    .dataframe tbody tr th:only-of-type {\n",
              "        vertical-align: middle;\n",
              "    }\n",
              "\n",
              "    .dataframe tbody tr th {\n",
              "        vertical-align: top;\n",
              "    }\n",
              "\n",
              "    .dataframe thead th {\n",
              "        text-align: right;\n",
              "    }\n",
              "</style>\n",
              "<table border=\"1\" class=\"dataframe\">\n",
              "  <thead>\n",
              "    <tr style=\"text-align: right;\">\n",
              "      <th></th>\n",
              "      <th>count</th>\n",
              "      <th>unique</th>\n",
              "      <th>top</th>\n",
              "      <th>freq</th>\n",
              "    </tr>\n",
              "  </thead>\n",
              "  <tbody>\n",
              "    <tr>\n",
              "      <th>address</th>\n",
              "      <td>3999</td>\n",
              "      <td>3996</td>\n",
              "      <td>3 Mariners Cove Terrace</td>\n",
              "      <td>2</td>\n",
              "    </tr>\n",
              "    <tr>\n",
              "      <th>state</th>\n",
              "      <td>3999</td>\n",
              "      <td>5</td>\n",
              "      <td>NSW</td>\n",
              "      <td>2054</td>\n",
              "    </tr>\n",
              "    <tr>\n",
              "      <th>country</th>\n",
              "      <td>3999</td>\n",
              "      <td>1</td>\n",
              "      <td>Australia</td>\n",
              "      <td>3999</td>\n",
              "    </tr>\n",
              "  </tbody>\n",
              "</table>\n",
              "</div>\n",
              "      <button class=\"colab-df-convert\" onclick=\"convertToInteractive('df-c7a7e3f5-a426-4fa5-85f6-df7086a40042')\"\n",
              "              title=\"Convert this dataframe to an interactive table.\"\n",
              "              style=\"display:none;\">\n",
              "        \n",
              "  <svg xmlns=\"http://www.w3.org/2000/svg\" height=\"24px\"viewBox=\"0 0 24 24\"\n",
              "       width=\"24px\">\n",
              "    <path d=\"M0 0h24v24H0V0z\" fill=\"none\"/>\n",
              "    <path d=\"M18.56 5.44l.94 2.06.94-2.06 2.06-.94-2.06-.94-.94-2.06-.94 2.06-2.06.94zm-11 1L8.5 8.5l.94-2.06 2.06-.94-2.06-.94L8.5 2.5l-.94 2.06-2.06.94zm10 10l.94 2.06.94-2.06 2.06-.94-2.06-.94-.94-2.06-.94 2.06-2.06.94z\"/><path d=\"M17.41 7.96l-1.37-1.37c-.4-.4-.92-.59-1.43-.59-.52 0-1.04.2-1.43.59L10.3 9.45l-7.72 7.72c-.78.78-.78 2.05 0 2.83L4 21.41c.39.39.9.59 1.41.59.51 0 1.02-.2 1.41-.59l7.78-7.78 2.81-2.81c.8-.78.8-2.07 0-2.86zM5.41 20L4 18.59l7.72-7.72 1.47 1.35L5.41 20z\"/>\n",
              "  </svg>\n",
              "      </button>\n",
              "      \n",
              "  <style>\n",
              "    .colab-df-container {\n",
              "      display:flex;\n",
              "      flex-wrap:wrap;\n",
              "      gap: 12px;\n",
              "    }\n",
              "\n",
              "    .colab-df-convert {\n",
              "      background-color: #E8F0FE;\n",
              "      border: none;\n",
              "      border-radius: 50%;\n",
              "      cursor: pointer;\n",
              "      display: none;\n",
              "      fill: #1967D2;\n",
              "      height: 32px;\n",
              "      padding: 0 0 0 0;\n",
              "      width: 32px;\n",
              "    }\n",
              "\n",
              "    .colab-df-convert:hover {\n",
              "      background-color: #E2EBFA;\n",
              "      box-shadow: 0px 1px 2px rgba(60, 64, 67, 0.3), 0px 1px 3px 1px rgba(60, 64, 67, 0.15);\n",
              "      fill: #174EA6;\n",
              "    }\n",
              "\n",
              "    [theme=dark] .colab-df-convert {\n",
              "      background-color: #3B4455;\n",
              "      fill: #D2E3FC;\n",
              "    }\n",
              "\n",
              "    [theme=dark] .colab-df-convert:hover {\n",
              "      background-color: #434B5C;\n",
              "      box-shadow: 0px 1px 3px 1px rgba(0, 0, 0, 0.15);\n",
              "      filter: drop-shadow(0px 1px 2px rgba(0, 0, 0, 0.3));\n",
              "      fill: #FFFFFF;\n",
              "    }\n",
              "  </style>\n",
              "\n",
              "      <script>\n",
              "        const buttonEl =\n",
              "          document.querySelector('#df-c7a7e3f5-a426-4fa5-85f6-df7086a40042 button.colab-df-convert');\n",
              "        buttonEl.style.display =\n",
              "          google.colab.kernel.accessAllowed ? 'block' : 'none';\n",
              "\n",
              "        async function convertToInteractive(key) {\n",
              "          const element = document.querySelector('#df-c7a7e3f5-a426-4fa5-85f6-df7086a40042');\n",
              "          const dataTable =\n",
              "            await google.colab.kernel.invokeFunction('convertToInteractive',\n",
              "                                                     [key], {});\n",
              "          if (!dataTable) return;\n",
              "\n",
              "          const docLinkHtml = 'Like what you see? Visit the ' +\n",
              "            '<a target=\"_blank\" href=https://colab.research.google.com/notebooks/data_table.ipynb>data table notebook</a>'\n",
              "            + ' to learn more about interactive tables.';\n",
              "          element.innerHTML = '';\n",
              "          dataTable['output_type'] = 'display_data';\n",
              "          await google.colab.output.renderOutput(dataTable, element);\n",
              "          const docLink = document.createElement('div');\n",
              "          docLink.innerHTML = docLinkHtml;\n",
              "          element.appendChild(docLink);\n",
              "        }\n",
              "      </script>\n",
              "    </div>\n",
              "  </div>\n",
              "  "
            ]
          },
          "metadata": {},
          "execution_count": 51
        }
      ]
    },
    {
      "cell_type": "markdown",
      "source": [
        "**1.5 Checking Distribution**"
      ],
      "metadata": {
        "id": "vlQWpukNBhT6"
      }
    },
    {
      "cell_type": "code",
      "source": [
        "# Distribution on numerical data\n",
        "plt.figure(figsize=(8,2))\n",
        "for i in range(0,len(nums_a)):\n",
        "  plt.subplot(1,len(nums_a),i+1)\n",
        "  sns.distplot(df_addr[nums_a[i]])\n",
        "  plt.tight_layout()"
      ],
      "metadata": {
        "colab": {
          "base_uri": "https://localhost:8080/",
          "height": 207
        },
        "id": "zEqZBQDiBZTV",
        "outputId": "6bae8b25-406e-4b13-b622-8f28743707f5"
      },
      "execution_count": null,
      "outputs": [
        {
          "output_type": "display_data",
          "data": {
            "text/plain": [
              "<Figure size 800x200 with 3 Axes>"
            ],
            "image/png": "[encoded data removed]"
          },
          "metadata": {}
        }
      ]
    },
    {
      "cell_type": "code",
      "source": [
        "# Distribution numerical data and check outlier\n",
        "plt.figure(figsize=(8,2))\n",
        "for i in range(0,len(nums_a)):\n",
        "  plt.subplot(1,len(nums_a),i+1)\n",
        "  sns.boxplot(y=df_addr[nums_a[i]])\n",
        "  plt.tight_layout()"
      ],
      "metadata": {
        "colab": {
          "base_uri": "https://localhost:8080/",
          "height": 207
        },
        "id": "6VqyBRq1FkN3",
        "outputId": "5b33f8e6-ebd1-4484-9374-f69eb1426157"
      },
      "execution_count": null,
      "outputs": [
        {
          "output_type": "display_data",
          "data": {
            "text/plain": [
              "<Figure size 800x200 with 3 Axes>"
            ],
            "image/png": "[encoded data removed]"
          },
          "metadata": {}
        }
      ]
    },
    {
      "cell_type": "code",
      "source": [
        "# Distribution of categorical\n",
        "plt.figure(figsize=(8,6))\n",
        "for i in range(0,len(cats_a)):\n",
        "  plt.subplot(3,1,i+1)\n",
        "  sns.countplot(x=df_addr[cats_a[i]])\n",
        "  plt.tight_layout()"
      ],
      "metadata": {
        "colab": {
          "base_uri": "https://localhost:8080/",
          "height": 607
        },
        "id": "vx5Y0bvsHug-",
        "outputId": "9156447c-17fe-4d3e-a258-5f23124b70bc"
      },
      "execution_count": null,
      "outputs": [
        {
          "output_type": "display_data",
          "data": {
            "text/plain": [
              "<Figure size 800x600 with 3 Axes>"
            ],
            "image/png": "[encoded data removed]"
          },
          "metadata": {}
        }
      ]
    },
    {
      "cell_type": "markdown",
      "source": [
        "**Observation :**\n",
        "*  property_valuation: negtively skewed.\n",
        "*  There are no outlier.\n",
        "****\n",
        "### **2. Data Cleaning**\n",
        "**2.1. Handling Incorrect Values**"
      ],
      "metadata": {
        "id": "1vqdKGPVLCIl"
      }
    },
    {
      "cell_type": "code",
      "source": [
        "df_addr1 = df_addr.copy()"
      ],
      "metadata": {
        "id": "XRHTAyg1KmW9"
      },
      "execution_count": null,
      "outputs": []
    },
    {
      "cell_type": "markdown",
      "source": [
        "🔽 **state**\n",
        "\n",
        "There are inconsistentcy values in columns state. So I have replace 'New South Wales' to 'NSW' and 'Victoria' to 'VIC'."
      ],
      "metadata": {
        "id": "Pb8_Q60HMQfy"
      }
    },
    {
      "cell_type": "code",
      "source": [
        "df_addr1['state'].value_counts()"
      ],
      "metadata": {
        "colab": {
          "base_uri": "https://localhost:8080/"
        },
        "id": "cBv7nPKQMJ1y",
        "outputId": "1c2c48cc-6527-4593-b462-49e0e85085e4"
      },
      "execution_count": null,
      "outputs": [
        {
          "output_type": "execute_result",
          "data": {
            "text/plain": [
              "NSW                2054\n",
              "VIC                 939\n",
              "QLD                 838\n",
              "New South Wales      86\n",
              "Victoria             82\n",
              "Name: state, dtype: int64"
            ]
          },
          "metadata": {},
          "execution_count": 56
        }
      ]
    },
    {
      "cell_type": "code",
      "source": [
        "# Replace values\n",
        "df_addr1['state'].replace(['New South Wales','Victoria'],['NSW','VIC'],inplace=True)"
      ],
      "metadata": {
        "id": "3Y0ZL-ReMiK4"
      },
      "execution_count": null,
      "outputs": []
    },
    {
      "cell_type": "code",
      "source": [
        "df_addr1['state'].value_counts()"
      ],
      "metadata": {
        "colab": {
          "base_uri": "https://localhost:8080/"
        },
        "id": "-tzLy01VNOQN",
        "outputId": "b9e55956-399b-4c57-df2a-dd83346eb2d6"
      },
      "execution_count": null,
      "outputs": [
        {
          "output_type": "execute_result",
          "data": {
            "text/plain": [
              "NSW    2140\n",
              "VIC    1021\n",
              "QLD     838\n",
              "Name: state, dtype: int64"
            ]
          },
          "metadata": {},
          "execution_count": 58
        }
      ]
    },
    {
      "cell_type": "markdown",
      "source": [
        "✅ The value has been corrected.\n",
        "****\n",
        "### **3. Save Clean Dataset**"
      ],
      "metadata": {
        "id": "hz99S_IUNbJP"
      }
    },
    {
      "cell_type": "code",
      "source": [
        "df_addr1.sample(3)"
      ],
      "metadata": {
        "colab": {
          "base_uri": "https://localhost:8080/",
          "height": 143
        },
        "id": "oOeNukDFNU47",
        "outputId": "b02d7382-cc0c-412a-c83a-0db7be1292f5"
      },
      "execution_count": null,
      "outputs": [
        {
          "output_type": "execute_result",
          "data": {
            "text/plain": [
              "      customer_id              address  postcode state    country  \\\n",
              "3107         3112      944 Becker Road      3162   VIC  Australia   \n",
              "2294         2299  531 Springview Lane      3101   VIC  Australia   \n",
              "2093         2098    794 Kennedy Court      4740   QLD  Australia   \n",
              "\n",
              "      property_valuation  \n",
              "3107                  11  \n",
              "2294                  10  \n",
              "2093                   2  "
            ],
            "text/html": [
              "\n",
              "  <div id=\"df-602ba1be-924b-400e-b387-ff1cb284283f\">\n",
              "    <div class=\"colab-df-container\">\n",
              "      <div>\n",
              "<style scoped>\n",
              "    .dataframe tbody tr th:only-of-type {\n",
              "        vertical-align: middle;\n",
              "    }\n",
              "\n",
              "    .dataframe tbody tr th {\n",
              "        vertical-align: top;\n",
              "    }\n",
              "\n",
              "    .dataframe thead th {\n",
              "        text-align: right;\n",
              "    }\n",
              "</style>\n",
              "<table border=\"1\" class=\"dataframe\">\n",
              "  <thead>\n",
              "    <tr style=\"text-align: right;\">\n",
              "      <th></th>\n",
              "      <th>customer_id</th>\n",
              "      <th>address</th>\n",
              "      <th>postcode</th>\n",
              "      <th>state</th>\n",
              "      <th>country</th>\n",
              "      <th>property_valuation</th>\n",
              "    </tr>\n",
              "  </thead>\n",
              "  <tbody>\n",
              "    <tr>\n",
              "      <th>3107</th>\n",
              "      <td>3112</td>\n",
              "      <td>944 Becker Road</td>\n",
              "      <td>3162</td>\n",
              "      <td>VIC</td>\n",
              "      <td>Australia</td>\n",
              "      <td>11</td>\n",
              "    </tr>\n",
              "    <tr>\n",
              "      <th>2294</th>\n",
              "      <td>2299</td>\n",
              "      <td>531 Springview Lane</td>\n",
              "      <td>3101</td>\n",
              "      <td>VIC</td>\n",
              "      <td>Australia</td>\n",
              "      <td>10</td>\n",
              "    </tr>\n",
              "    <tr>\n",
              "      <th>2093</th>\n",
              "      <td>2098</td>\n",
              "      <td>794 Kennedy Court</td>\n",
              "      <td>4740</td>\n",
              "      <td>QLD</td>\n",
              "      <td>Australia</td>\n",
              "      <td>2</td>\n",
              "    </tr>\n",
              "  </tbody>\n",
              "</table>\n",
              "</div>\n",
              "      <button class=\"colab-df-convert\" onclick=\"convertToInteractive('df-602ba1be-924b-400e-b387-ff1cb284283f')\"\n",
              "              title=\"Convert this dataframe to an interactive table.\"\n",
              "              style=\"display:none;\">\n",
              "        \n",
              "  <svg xmlns=\"http://www.w3.org/2000/svg\" height=\"24px\"viewBox=\"0 0 24 24\"\n",
              "       width=\"24px\">\n",
              "    <path d=\"M0 0h24v24H0V0z\" fill=\"none\"/>\n",
              "    <path d=\"M18.56 5.44l.94 2.06.94-2.06 2.06-.94-2.06-.94-.94-2.06-.94 2.06-2.06.94zm-11 1L8.5 8.5l.94-2.06 2.06-.94-2.06-.94L8.5 2.5l-.94 2.06-2.06.94zm10 10l.94 2.06.94-2.06 2.06-.94-2.06-.94-.94-2.06-.94 2.06-2.06.94z\"/><path d=\"M17.41 7.96l-1.37-1.37c-.4-.4-.92-.59-1.43-.59-.52 0-1.04.2-1.43.59L10.3 9.45l-7.72 7.72c-.78.78-.78 2.05 0 2.83L4 21.41c.39.39.9.59 1.41.59.51 0 1.02-.2 1.41-.59l7.78-7.78 2.81-2.81c.8-.78.8-2.07 0-2.86zM5.41 20L4 18.59l7.72-7.72 1.47 1.35L5.41 20z\"/>\n",
              "  </svg>\n",
              "      </button>\n",
              "      \n",
              "  <style>\n",
              "    .colab-df-container {\n",
              "      display:flex;\n",
              "      flex-wrap:wrap;\n",
              "      gap: 12px;\n",
              "    }\n",
              "\n",
              "    .colab-df-convert {\n",
              "      background-color: #E8F0FE;\n",
              "      border: none;\n",
              "      border-radius: 50%;\n",
              "      cursor: pointer;\n",
              "      display: none;\n",
              "      fill: #1967D2;\n",
              "      height: 32px;\n",
              "      padding: 0 0 0 0;\n",
              "      width: 32px;\n",
              "    }\n",
              "\n",
              "    .colab-df-convert:hover {\n",
              "      background-color: #E2EBFA;\n",
              "      box-shadow: 0px 1px 2px rgba(60, 64, 67, 0.3), 0px 1px 3px 1px rgba(60, 64, 67, 0.15);\n",
              "      fill: #174EA6;\n",
              "    }\n",
              "\n",
              "    [theme=dark] .colab-df-convert {\n",
              "      background-color: #3B4455;\n",
              "      fill: #D2E3FC;\n",
              "    }\n",
              "\n",
              "    [theme=dark] .colab-df-convert:hover {\n",
              "      background-color: #434B5C;\n",
              "      box-shadow: 0px 1px 3px 1px rgba(0, 0, 0, 0.15);\n",
              "      filter: drop-shadow(0px 1px 2px rgba(0, 0, 0, 0.3));\n",
              "      fill: #FFFFFF;\n",
              "    }\n",
              "  </style>\n",
              "\n",
              "      <script>\n",
              "        const buttonEl =\n",
              "          document.querySelector('#df-602ba1be-924b-400e-b387-ff1cb284283f button.colab-df-convert');\n",
              "        buttonEl.style.display =\n",
              "          google.colab.kernel.accessAllowed ? 'block' : 'none';\n",
              "\n",
              "        async function convertToInteractive(key) {\n",
              "          const element = document.querySelector('#df-602ba1be-924b-400e-b387-ff1cb284283f');\n",
              "          const dataTable =\n",
              "            await google.colab.kernel.invokeFunction('convertToInteractive',\n",
              "                                                     [key], {});\n",
              "          if (!dataTable) return;\n",
              "\n",
              "          const docLinkHtml = 'Like what you see? Visit the ' +\n",
              "            '<a target=\"_blank\" href=https://colab.research.google.com/notebooks/data_table.ipynb>data table notebook</a>'\n",
              "            + ' to learn more about interactive tables.';\n",
              "          element.innerHTML = '';\n",
              "          dataTable['output_type'] = 'display_data';\n",
              "          await google.colab.output.renderOutput(dataTable, element);\n",
              "          const docLink = document.createElement('div');\n",
              "          docLink.innerHTML = docLinkHtml;\n",
              "          element.appendChild(docLink);\n",
              "        }\n",
              "      </script>\n",
              "    </div>\n",
              "  </div>\n",
              "  "
            ]
          },
          "metadata": {},
          "execution_count": 59
        }
      ]
    },
    {
      "cell_type": "code",
      "source": [
        "#df_addr1.to_csv('CustomerAddress_CLEAN.csv', index=False)"
      ],
      "metadata": {
        "id": "ly1yfcWkNVSl"
      },
      "execution_count": null,
      "outputs": []
    },
    {
      "cell_type": "markdown",
      "source": [
        "## **Transaction**\n",
        "****\n",
        "### **1. Exploratory Data Analysis**\n",
        "**1.1 Checking Data Type and Unique Values**"
      ],
      "metadata": {
        "id": "DbGhiAkMSmBL"
      }
    },
    {
      "cell_type": "code",
      "source": [
        "df_tran.sample(3)"
      ],
      "metadata": {
        "id": "bv-9OwLzS1K9",
        "colab": {
          "base_uri": "https://localhost:8080/",
          "height": 242
        },
        "outputId": "e3201d86-fee9-42f1-ce9c-75f87096727f"
      },
      "execution_count": null,
      "outputs": [
        {
          "output_type": "execute_result",
          "data": {
            "text/plain": [
              "       transaction_id  product_id  customer_id transaction_date  online_order  \\\n",
              "7400             7401          23          104       2017-10-27           0.0   \n",
              "9332             9333          51         1450       2017-01-19           1.0   \n",
              "19338           19339          38         2787       2017-04-05           0.0   \n",
              "\n",
              "      order_status           brand product_line product_class product_size  \\\n",
              "7400      Approved  Norco Bicycles     Mountain           low        small   \n",
              "9332      Approved      OHM Cycles     Standard          high       medium   \n",
              "19338     Approved           Solex     Standard        medium       medium   \n",
              "\n",
              "       list_price  standard_cost  product_first_sold_date  \n",
              "7400       688.63         612.88                  40670.0  \n",
              "9332      2005.66        1203.40                  41009.0  \n",
              "19338     1577.53         826.51                  36498.0  "
            ],
            "text/html": [
              "\n",
              "  <div id=\"df-9d2a4ede-4b7a-4eaf-8859-4a81c5fa5076\">\n",
              "    <div class=\"colab-df-container\">\n",
              "      <div>\n",
              "<style scoped>\n",
              "    .dataframe tbody tr th:only-of-type {\n",
              "        vertical-align: middle;\n",
              "    }\n",
              "\n",
              "    .dataframe tbody tr th {\n",
              "        vertical-align: top;\n",
              "    }\n",
              "\n",
              "    .dataframe thead th {\n",
              "        text-align: right;\n",
              "    }\n",
              "</style>\n",
              "<table border=\"1\" class=\"dataframe\">\n",
              "  <thead>\n",
              "    <tr style=\"text-align: right;\">\n",
              "      <th></th>\n",
              "      <th>transaction_id</th>\n",
              "      <th>product_id</th>\n",
              "      <th>customer_id</th>\n",
              "      <th>transaction_date</th>\n",
              "      <th>online_order</th>\n",
              "      <th>order_status</th>\n",
              "      <th>brand</th>\n",
              "      <th>product_line</th>\n",
              "      <th>product_class</th>\n",
              "      <th>product_size</th>\n",
              "      <th>list_price</th>\n",
              "      <th>standard_cost</th>\n",
              "      <th>product_first_sold_date</th>\n",
              "    </tr>\n",
              "  </thead>\n",
              "  <tbody>\n",
              "    <tr>\n",
              "      <th>7400</th>\n",
              "      <td>7401</td>\n",
              "      <td>23</td>\n",
              "      <td>104</td>\n",
              "      <td>2017-10-27</td>\n",
              "      <td>0.0</td>\n",
              "      <td>Approved</td>\n",
              "      <td>Norco Bicycles</td>\n",
              "      <td>Mountain</td>\n",
              "      <td>low</td>\n",
              "      <td>small</td>\n",
              "      <td>688.63</td>\n",
              "      <td>612.88</td>\n",
              "      <td>40670.0</td>\n",
              "    </tr>\n",
              "    <tr>\n",
              "      <th>9332</th>\n",
              "      <td>9333</td>\n",
              "      <td>51</td>\n",
              "      <td>1450</td>\n",
              "      <td>2017-01-19</td>\n",
              "      <td>1.0</td>\n",
              "      <td>Approved</td>\n",
              "      <td>OHM Cycles</td>\n",
              "      <td>Standard</td>\n",
              "      <td>high</td>\n",
              "      <td>medium</td>\n",
              "      <td>2005.66</td>\n",
              "      <td>1203.40</td>\n",
              "      <td>41009.0</td>\n",
              "    </tr>\n",
              "    <tr>\n",
              "      <th>19338</th>\n",
              "      <td>19339</td>\n",
              "      <td>38</td>\n",
              "      <td>2787</td>\n",
              "      <td>2017-04-05</td>\n",
              "      <td>0.0</td>\n",
              "      <td>Approved</td>\n",
              "      <td>Solex</td>\n",
              "      <td>Standard</td>\n",
              "      <td>medium</td>\n",
              "      <td>medium</td>\n",
              "      <td>1577.53</td>\n",
              "      <td>826.51</td>\n",
              "      <td>36498.0</td>\n",
              "    </tr>\n",
              "  </tbody>\n",
              "</table>\n",
              "</div>\n",
              "      <button class=\"colab-df-convert\" onclick=\"convertToInteractive('df-9d2a4ede-4b7a-4eaf-8859-4a81c5fa5076')\"\n",
              "              title=\"Convert this dataframe to an interactive table.\"\n",
              "              style=\"display:none;\">\n",
              "        \n",
              "  <svg xmlns=\"http://www.w3.org/2000/svg\" height=\"24px\"viewBox=\"0 0 24 24\"\n",
              "       width=\"24px\">\n",
              "    <path d=\"M0 0h24v24H0V0z\" fill=\"none\"/>\n",
              "    <path d=\"M18.56 5.44l.94 2.06.94-2.06 2.06-.94-2.06-.94-.94-2.06-.94 2.06-2.06.94zm-11 1L8.5 8.5l.94-2.06 2.06-.94-2.06-.94L8.5 2.5l-.94 2.06-2.06.94zm10 10l.94 2.06.94-2.06 2.06-.94-2.06-.94-.94-2.06-.94 2.06-2.06.94z\"/><path d=\"M17.41 7.96l-1.37-1.37c-.4-.4-.92-.59-1.43-.59-.52 0-1.04.2-1.43.59L10.3 9.45l-7.72 7.72c-.78.78-.78 2.05 0 2.83L4 21.41c.39.39.9.59 1.41.59.51 0 1.02-.2 1.41-.59l7.78-7.78 2.81-2.81c.8-.78.8-2.07 0-2.86zM5.41 20L4 18.59l7.72-7.72 1.47 1.35L5.41 20z\"/>\n",
              "  </svg>\n",
              "      </button>\n",
              "      \n",
              "  <style>\n",
              "    .colab-df-container {\n",
              "      display:flex;\n",
              "      flex-wrap:wrap;\n",
              "      gap: 12px;\n",
              "    }\n",
              "\n",
              "    .colab-df-convert {\n",
              "      background-color: #E8F0FE;\n",
              "      border: none;\n",
              "      border-radius: 50%;\n",
              "      cursor: pointer;\n",
              "      display: none;\n",
              "      fill: #1967D2;\n",
              "      height: 32px;\n",
              "      padding: 0 0 0 0;\n",
              "      width: 32px;\n",
              "    }\n",
              "\n",
              "    .colab-df-convert:hover {\n",
              "      background-color: #E2EBFA;\n",
              "      box-shadow: 0px 1px 2px rgba(60, 64, 67, 0.3), 0px 1px 3px 1px rgba(60, 64, 67, 0.15);\n",
              "      fill: #174EA6;\n",
              "    }\n",
              "\n",
              "    [theme=dark] .colab-df-convert {\n",
              "      background-color: #3B4455;\n",
              "      fill: #D2E3FC;\n",
              "    }\n",
              "\n",
              "    [theme=dark] .colab-df-convert:hover {\n",
              "      background-color: #434B5C;\n",
              "      box-shadow: 0px 1px 3px 1px rgba(0, 0, 0, 0.15);\n",
              "      filter: drop-shadow(0px 1px 2px rgba(0, 0, 0, 0.3));\n",
              "      fill: #FFFFFF;\n",
              "    }\n",
              "  </style>\n",
              "\n",
              "      <script>\n",
              "        const buttonEl =\n",
              "          document.querySelector('#df-9d2a4ede-4b7a-4eaf-8859-4a81c5fa5076 button.colab-df-convert');\n",
              "        buttonEl.style.display =\n",
              "          google.colab.kernel.accessAllowed ? 'block' : 'none';\n",
              "\n",
              "        async function convertToInteractive(key) {\n",
              "          const element = document.querySelector('#df-9d2a4ede-4b7a-4eaf-8859-4a81c5fa5076');\n",
              "          const dataTable =\n",
              "            await google.colab.kernel.invokeFunction('convertToInteractive',\n",
              "                                                     [key], {});\n",
              "          if (!dataTable) return;\n",
              "\n",
              "          const docLinkHtml = 'Like what you see? Visit the ' +\n",
              "            '<a target=\"_blank\" href=https://colab.research.google.com/notebooks/data_table.ipynb>data table notebook</a>'\n",
              "            + ' to learn more about interactive tables.';\n",
              "          element.innerHTML = '';\n",
              "          dataTable['output_type'] = 'display_data';\n",
              "          await google.colab.output.renderOutput(dataTable, element);\n",
              "          const docLink = document.createElement('div');\n",
              "          docLink.innerHTML = docLinkHtml;\n",
              "          element.appendChild(docLink);\n",
              "        }\n",
              "      </script>\n",
              "    </div>\n",
              "  </div>\n",
              "  "
            ]
          },
          "metadata": {},
          "execution_count": 3
        }
      ]
    },
    {
      "cell_type": "code",
      "source": [
        "df_tran.info()"
      ],
      "metadata": {
        "id": "9IyUUBlwS0ix",
        "colab": {
          "base_uri": "https://localhost:8080/"
        },
        "outputId": "d3e945f6-611a-407a-a14f-994e7fb33855"
      },
      "execution_count": null,
      "outputs": [
        {
          "output_type": "stream",
          "name": "stdout",
          "text": [
            "<class 'pandas.core.frame.DataFrame'>\n",
            "RangeIndex: 20000 entries, 0 to 19999\n",
            "Data columns (total 13 columns):\n",
            " #   Column                   Non-Null Count  Dtype         \n",
            "---  ------                   --------------  -----         \n",
            " 0   transaction_id           20000 non-null  int64         \n",
            " 1   product_id               20000 non-null  int64         \n",
            " 2   customer_id              20000 non-null  int64         \n",
            " 3   transaction_date         20000 non-null  datetime64[ns]\n",
            " 4   online_order             19640 non-null  float64       \n",
            " 5   order_status             20000 non-null  object        \n",
            " 6   brand                    19803 non-null  object        \n",
            " 7   product_line             19803 non-null  object        \n",
            " 8   product_class            19803 non-null  object        \n",
            " 9   product_size             19803 non-null  object        \n",
            " 10  list_price               20000 non-null  float64       \n",
            " 11  standard_cost            19803 non-null  float64       \n",
            " 12  product_first_sold_date  19803 non-null  float64       \n",
            "dtypes: datetime64[ns](1), float64(4), int64(3), object(5)\n",
            "memory usage: 2.0+ MB\n"
          ]
        }
      ]
    },
    {
      "cell_type": "code",
      "source": [
        "# Checking Shape\n",
        "df_tran.shape"
      ],
      "metadata": {
        "colab": {
          "base_uri": "https://localhost:8080/"
        },
        "id": "wo3BlJ3G775S",
        "outputId": "242429f5-108e-446d-b3d9-058d9871f7be"
      },
      "execution_count": null,
      "outputs": [
        {
          "output_type": "execute_result",
          "data": {
            "text/plain": [
              "(20000, 13)"
            ]
          },
          "metadata": {},
          "execution_count": 5
        }
      ]
    },
    {
      "cell_type": "code",
      "source": [
        "# Checking Unique value for each column\n",
        "for col in df_tran.columns:\n",
        "  print(\"{} have {} unique values: {}\".format(col,df_tran[col].nunique(),df_tran[col].dtypes))\n",
        "  if df_tran[col].dtypes == 'int64' or df_tran[col].dtypes == 'float' or df_tran[col].dtypes == 'object' or df_tran[col].dtypes == 'datetime64[ns]':\n",
        "    print(\"{} values: {}\".format(col,df_tran[col].unique()))\n",
        "    print(\" \")"
      ],
      "metadata": {
        "colab": {
          "base_uri": "https://localhost:8080/"
        },
        "id": "ov_mioaP8NDB",
        "outputId": "626b98fc-4179-41a9-e435-ed637e997bab"
      },
      "execution_count": null,
      "outputs": [
        {
          "output_type": "stream",
          "name": "stdout",
          "text": [
            "transaction_id have 20000 unique values: int64\n",
            "transaction_id values: [    1     2     3 ... 19998 19999 20000]\n",
            " \n",
            "product_id have 101 unique values: int64\n",
            "product_id values: [  2   3  37  88  78  25  22  15  67  12   5  61  35  16  79  33  54  27\n",
            "  82  89  64  19  72  91   1  99   0  92  14  44  76  46  55  66  81  86\n",
            "  32  77  96   6  47  94  93  60  28   4  38  56  58  50  80  87  84  21\n",
            "  31  62  17  73  45  49  95  18  70  26  39  36  98  75  42  20  24  53\n",
            "  65  29  11  10   7  41   9  69  90  97 100  74  71  34  57  23  51  59\n",
            "  63  40   8  13  30  48  68  83  43  52  85]\n",
            " \n",
            "customer_id have 3494 unique values: int64\n",
            "customer_id values: [2950 3120  402 ...  130 2789 3446]\n",
            " \n",
            "transaction_date have 364 unique values: datetime64[ns]\n",
            "transaction_date values: ['2017-02-25T00:00:00.000000000' '2017-05-21T00:00:00.000000000'\n",
            " '2017-10-16T00:00:00.000000000' '2017-08-31T00:00:00.000000000'\n",
            " '2017-10-01T00:00:00.000000000' '2017-03-08T00:00:00.000000000'\n",
            " '2017-04-21T00:00:00.000000000' '2017-07-15T00:00:00.000000000'\n",
            " '2017-08-10T00:00:00.000000000' '2017-08-30T00:00:00.000000000'\n",
            " '2017-01-17T00:00:00.000000000' '2017-01-05T00:00:00.000000000'\n",
            " '2017-02-26T00:00:00.000000000' '2017-09-10T00:00:00.000000000'\n",
            " '2017-06-11T00:00:00.000000000' '2017-10-10T00:00:00.000000000'\n",
            " '2017-04-03T00:00:00.000000000' '2017-06-02T00:00:00.000000000'\n",
            " '2017-04-06T00:00:00.000000000' '2017-01-28T00:00:00.000000000'\n",
            " '2017-10-09T00:00:00.000000000' '2017-06-29T00:00:00.000000000'\n",
            " '2017-04-08T00:00:00.000000000' '2017-10-18T00:00:00.000000000'\n",
            " '2017-01-10T00:00:00.000000000' '2017-04-11T00:00:00.000000000'\n",
            " '2017-12-23T00:00:00.000000000' '2017-10-13T00:00:00.000000000'\n",
            " '2017-03-15T00:00:00.000000000' '2017-09-05T00:00:00.000000000'\n",
            " '2017-02-18T00:00:00.000000000' '2017-03-20T00:00:00.000000000'\n",
            " '2017-02-28T00:00:00.000000000' '2017-08-20T00:00:00.000000000'\n",
            " '2017-07-07T00:00:00.000000000' '2017-01-09T00:00:00.000000000'\n",
            " '2017-12-06T00:00:00.000000000' '2017-09-12T00:00:00.000000000'\n",
            " '2017-11-28T00:00:00.000000000' '2017-05-08T00:00:00.000000000'\n",
            " '2017-05-14T00:00:00.000000000' '2017-03-17T00:00:00.000000000'\n",
            " '2017-12-22T00:00:00.000000000' '2017-06-07T00:00:00.000000000'\n",
            " '2017-06-20T00:00:00.000000000' '2017-05-07T00:00:00.000000000'\n",
            " '2017-06-10T00:00:00.000000000' '2017-06-17T00:00:00.000000000'\n",
            " '2017-05-10T00:00:00.000000000' '2017-03-24T00:00:00.000000000'\n",
            " '2017-11-27T00:00:00.000000000' '2017-12-21T00:00:00.000000000'\n",
            " '2017-02-09T00:00:00.000000000' '2017-09-18T00:00:00.000000000'\n",
            " '2017-11-14T00:00:00.000000000' '2017-02-15T00:00:00.000000000'\n",
            " '2017-12-18T00:00:00.000000000' '2017-02-24T00:00:00.000000000'\n",
            " '2017-12-17T00:00:00.000000000' '2017-07-08T00:00:00.000000000'\n",
            " '2017-05-16T00:00:00.000000000' '2017-02-23T00:00:00.000000000'\n",
            " '2017-07-03T00:00:00.000000000' '2017-09-30T00:00:00.000000000'\n",
            " '2017-10-21T00:00:00.000000000' '2017-05-06T00:00:00.000000000'\n",
            " '2017-01-03T00:00:00.000000000' '2017-05-09T00:00:00.000000000'\n",
            " '2017-07-23T00:00:00.000000000' '2017-01-21T00:00:00.000000000'\n",
            " '2017-03-10T00:00:00.000000000' '2017-11-07T00:00:00.000000000'\n",
            " '2017-12-16T00:00:00.000000000' '2017-10-07T00:00:00.000000000'\n",
            " '2017-04-27T00:00:00.000000000' '2017-04-01T00:00:00.000000000'\n",
            " '2017-11-02T00:00:00.000000000' '2017-02-13T00:00:00.000000000'\n",
            " '2017-07-19T00:00:00.000000000' '2017-05-23T00:00:00.000000000'\n",
            " '2017-08-06T00:00:00.000000000' '2017-04-04T00:00:00.000000000'\n",
            " '2017-08-15T00:00:00.000000000' '2017-04-15T00:00:00.000000000'\n",
            " '2017-07-25T00:00:00.000000000' '2017-02-21T00:00:00.000000000'\n",
            " '2017-05-31T00:00:00.000000000' '2017-06-23T00:00:00.000000000'\n",
            " '2017-03-26T00:00:00.000000000' '2017-07-31T00:00:00.000000000'\n",
            " '2017-07-27T00:00:00.000000000' '2017-04-14T00:00:00.000000000'\n",
            " '2017-11-12T00:00:00.000000000' '2017-10-26T00:00:00.000000000'\n",
            " '2017-10-11T00:00:00.000000000' '2017-03-27T00:00:00.000000000'\n",
            " '2017-11-04T00:00:00.000000000' '2017-10-24T00:00:00.000000000'\n",
            " '2017-05-01T00:00:00.000000000' '2017-11-21T00:00:00.000000000'\n",
            " '2017-03-21T00:00:00.000000000' '2017-02-20T00:00:00.000000000'\n",
            " '2017-06-16T00:00:00.000000000' '2017-12-04T00:00:00.000000000'\n",
            " '2017-12-01T00:00:00.000000000' '2017-03-05T00:00:00.000000000'\n",
            " '2017-03-16T00:00:00.000000000' '2017-06-05T00:00:00.000000000'\n",
            " '2017-09-04T00:00:00.000000000' '2017-01-18T00:00:00.000000000'\n",
            " '2017-09-28T00:00:00.000000000' '2017-09-02T00:00:00.000000000'\n",
            " '2017-10-17T00:00:00.000000000' '2017-04-25T00:00:00.000000000'\n",
            " '2017-09-23T00:00:00.000000000' '2017-08-02T00:00:00.000000000'\n",
            " '2017-03-25T00:00:00.000000000' '2017-01-01T00:00:00.000000000'\n",
            " '2017-12-25T00:00:00.000000000' '2017-01-26T00:00:00.000000000'\n",
            " '2017-12-20T00:00:00.000000000' '2017-01-13T00:00:00.000000000'\n",
            " '2017-11-11T00:00:00.000000000' '2017-08-19T00:00:00.000000000'\n",
            " '2017-08-22T00:00:00.000000000' '2017-09-15T00:00:00.000000000'\n",
            " '2017-03-01T00:00:00.000000000' '2017-08-16T00:00:00.000000000'\n",
            " '2017-08-27T00:00:00.000000000' '2017-07-10T00:00:00.000000000'\n",
            " '2017-12-11T00:00:00.000000000' '2017-05-20T00:00:00.000000000'\n",
            " '2017-07-30T00:00:00.000000000' '2017-10-25T00:00:00.000000000'\n",
            " '2017-04-26T00:00:00.000000000' '2017-02-02T00:00:00.000000000'\n",
            " '2017-05-02T00:00:00.000000000' '2017-10-22T00:00:00.000000000'\n",
            " '2017-11-16T00:00:00.000000000' '2017-03-30T00:00:00.000000000'\n",
            " '2017-04-13T00:00:00.000000000' '2017-01-31T00:00:00.000000000'\n",
            " '2017-03-18T00:00:00.000000000' '2017-01-07T00:00:00.000000000'\n",
            " '2017-07-05T00:00:00.000000000' '2017-11-19T00:00:00.000000000'\n",
            " '2017-11-08T00:00:00.000000000' '2017-07-24T00:00:00.000000000'\n",
            " '2017-01-15T00:00:00.000000000' '2017-01-12T00:00:00.000000000'\n",
            " '2017-06-30T00:00:00.000000000' '2017-06-22T00:00:00.000000000'\n",
            " '2017-12-27T00:00:00.000000000' '2017-06-08T00:00:00.000000000'\n",
            " '2017-07-29T00:00:00.000000000' '2017-05-27T00:00:00.000000000'\n",
            " '2017-05-05T00:00:00.000000000' '2017-09-09T00:00:00.000000000'\n",
            " '2017-09-22T00:00:00.000000000' '2017-04-12T00:00:00.000000000'\n",
            " '2017-12-14T00:00:00.000000000' '2017-03-22T00:00:00.000000000'\n",
            " '2017-11-29T00:00:00.000000000' '2017-06-09T00:00:00.000000000'\n",
            " '2017-11-13T00:00:00.000000000' '2017-04-09T00:00:00.000000000'\n",
            " '2017-11-30T00:00:00.000000000' '2017-03-13T00:00:00.000000000'\n",
            " '2017-08-12T00:00:00.000000000' '2017-08-04T00:00:00.000000000'\n",
            " '2017-09-01T00:00:00.000000000' '2017-07-02T00:00:00.000000000'\n",
            " '2017-03-11T00:00:00.000000000' '2017-10-08T00:00:00.000000000'\n",
            " '2017-11-23T00:00:00.000000000' '2017-01-22T00:00:00.000000000'\n",
            " '2017-01-29T00:00:00.000000000' '2017-07-21T00:00:00.000000000'\n",
            " '2017-02-10T00:00:00.000000000' '2017-11-25T00:00:00.000000000'\n",
            " '2017-12-03T00:00:00.000000000' '2017-12-30T00:00:00.000000000'\n",
            " '2017-07-26T00:00:00.000000000' '2017-06-15T00:00:00.000000000'\n",
            " '2017-07-06T00:00:00.000000000' '2017-12-28T00:00:00.000000000'\n",
            " '2017-01-30T00:00:00.000000000' '2017-06-26T00:00:00.000000000'\n",
            " '2017-08-13T00:00:00.000000000' '2017-01-25T00:00:00.000000000'\n",
            " '2017-07-11T00:00:00.000000000' '2017-04-30T00:00:00.000000000'\n",
            " '2017-05-19T00:00:00.000000000' '2017-05-26T00:00:00.000000000'\n",
            " '2017-02-03T00:00:00.000000000' '2017-04-28T00:00:00.000000000'\n",
            " '2017-03-23T00:00:00.000000000' '2017-06-03T00:00:00.000000000'\n",
            " '2017-05-04T00:00:00.000000000' '2017-03-29T00:00:00.000000000'\n",
            " '2017-10-03T00:00:00.000000000' '2017-08-07T00:00:00.000000000'\n",
            " '2017-02-07T00:00:00.000000000' '2017-11-20T00:00:00.000000000'\n",
            " '2017-04-05T00:00:00.000000000' '2017-10-28T00:00:00.000000000'\n",
            " '2017-08-25T00:00:00.000000000' '2017-01-20T00:00:00.000000000'\n",
            " '2017-03-14T00:00:00.000000000' '2017-05-24T00:00:00.000000000'\n",
            " '2017-11-18T00:00:00.000000000' '2017-04-07T00:00:00.000000000'\n",
            " '2017-01-04T00:00:00.000000000' '2017-12-13T00:00:00.000000000'\n",
            " '2017-04-20T00:00:00.000000000' '2017-03-07T00:00:00.000000000'\n",
            " '2017-08-01T00:00:00.000000000' '2017-06-19T00:00:00.000000000'\n",
            " '2017-01-23T00:00:00.000000000' '2017-04-19T00:00:00.000000000'\n",
            " '2017-08-11T00:00:00.000000000' '2017-11-15T00:00:00.000000000'\n",
            " '2017-11-01T00:00:00.000000000' '2017-10-05T00:00:00.000000000'\n",
            " '2017-10-30T00:00:00.000000000' '2017-01-02T00:00:00.000000000'\n",
            " '2017-07-09T00:00:00.000000000' '2017-10-20T00:00:00.000000000'\n",
            " '2017-11-10T00:00:00.000000000' '2017-08-14T00:00:00.000000000'\n",
            " '2017-09-13T00:00:00.000000000' '2017-05-03T00:00:00.000000000'\n",
            " '2017-01-24T00:00:00.000000000' '2017-08-03T00:00:00.000000000'\n",
            " '2017-08-28T00:00:00.000000000' '2017-06-24T00:00:00.000000000'\n",
            " '2017-10-27T00:00:00.000000000' '2017-03-03T00:00:00.000000000'\n",
            " '2017-12-02T00:00:00.000000000' '2017-10-15T00:00:00.000000000'\n",
            " '2017-10-12T00:00:00.000000000' '2017-03-19T00:00:00.000000000'\n",
            " '2017-06-27T00:00:00.000000000' '2017-02-27T00:00:00.000000000'\n",
            " '2017-03-12T00:00:00.000000000' '2017-06-14T00:00:00.000000000'\n",
            " '2017-02-17T00:00:00.000000000' '2017-09-14T00:00:00.000000000'\n",
            " '2017-04-17T00:00:00.000000000' '2017-05-11T00:00:00.000000000'\n",
            " '2017-11-03T00:00:00.000000000' '2017-10-02T00:00:00.000000000'\n",
            " '2017-12-10T00:00:00.000000000' '2017-05-25T00:00:00.000000000'\n",
            " '2017-08-26T00:00:00.000000000' '2017-09-06T00:00:00.000000000'\n",
            " '2017-04-24T00:00:00.000000000' '2017-12-15T00:00:00.000000000'\n",
            " '2017-02-12T00:00:00.000000000' '2017-07-22T00:00:00.000000000'\n",
            " '2017-09-26T00:00:00.000000000' '2017-12-05T00:00:00.000000000'\n",
            " '2017-03-31T00:00:00.000000000' '2017-11-22T00:00:00.000000000'\n",
            " '2017-04-29T00:00:00.000000000' '2017-07-14T00:00:00.000000000'\n",
            " '2017-09-08T00:00:00.000000000' '2017-04-22T00:00:00.000000000'\n",
            " '2017-01-11T00:00:00.000000000' '2017-08-09T00:00:00.000000000'\n",
            " '2017-05-29T00:00:00.000000000' '2017-06-13T00:00:00.000000000'\n",
            " '2017-07-28T00:00:00.000000000' '2017-04-23T00:00:00.000000000'\n",
            " '2017-07-04T00:00:00.000000000' '2017-10-19T00:00:00.000000000'\n",
            " '2017-09-21T00:00:00.000000000' '2017-04-02T00:00:00.000000000'\n",
            " '2017-08-18T00:00:00.000000000' '2017-08-21T00:00:00.000000000'\n",
            " '2017-03-06T00:00:00.000000000' '2017-01-16T00:00:00.000000000'\n",
            " '2017-02-22T00:00:00.000000000' '2017-03-09T00:00:00.000000000'\n",
            " '2017-01-27T00:00:00.000000000' '2017-12-19T00:00:00.000000000'\n",
            " '2017-04-16T00:00:00.000000000' '2017-10-04T00:00:00.000000000'\n",
            " '2017-02-16T00:00:00.000000000' '2017-08-17T00:00:00.000000000'\n",
            " '2017-02-01T00:00:00.000000000' '2017-12-08T00:00:00.000000000'\n",
            " '2017-08-23T00:00:00.000000000' '2017-05-12T00:00:00.000000000'\n",
            " '2017-03-04T00:00:00.000000000' '2017-05-28T00:00:00.000000000'\n",
            " '2017-07-20T00:00:00.000000000' '2017-07-13T00:00:00.000000000'\n",
            " '2017-10-14T00:00:00.000000000' '2017-06-12T00:00:00.000000000'\n",
            " '2017-02-14T00:00:00.000000000' '2017-02-11T00:00:00.000000000'\n",
            " '2017-10-23T00:00:00.000000000' '2017-06-28T00:00:00.000000000'\n",
            " '2017-06-04T00:00:00.000000000' '2017-04-18T00:00:00.000000000'\n",
            " '2017-09-16T00:00:00.000000000' '2017-05-15T00:00:00.000000000'\n",
            " '2017-05-22T00:00:00.000000000' '2017-06-06T00:00:00.000000000'\n",
            " '2017-12-09T00:00:00.000000000' '2017-07-18T00:00:00.000000000'\n",
            " '2017-02-06T00:00:00.000000000' '2017-11-09T00:00:00.000000000'\n",
            " '2017-06-21T00:00:00.000000000' '2017-07-17T00:00:00.000000000'\n",
            " '2017-10-29T00:00:00.000000000' '2017-05-13T00:00:00.000000000'\n",
            " '2017-10-06T00:00:00.000000000' '2017-02-04T00:00:00.000000000'\n",
            " '2017-11-05T00:00:00.000000000' '2017-02-08T00:00:00.000000000'\n",
            " '2017-11-06T00:00:00.000000000' '2017-09-20T00:00:00.000000000'\n",
            " '2017-04-10T00:00:00.000000000' '2017-11-17T00:00:00.000000000'\n",
            " '2017-12-07T00:00:00.000000000' '2017-12-12T00:00:00.000000000'\n",
            " '2017-01-19T00:00:00.000000000' '2017-05-17T00:00:00.000000000'\n",
            " '2017-02-19T00:00:00.000000000' '2017-09-19T00:00:00.000000000'\n",
            " '2017-09-29T00:00:00.000000000' '2017-05-18T00:00:00.000000000'\n",
            " '2017-07-01T00:00:00.000000000' '2017-12-29T00:00:00.000000000'\n",
            " '2017-11-24T00:00:00.000000000' '2017-01-08T00:00:00.000000000'\n",
            " '2017-08-24T00:00:00.000000000' '2017-07-12T00:00:00.000000000'\n",
            " '2017-08-08T00:00:00.000000000' '2017-02-05T00:00:00.000000000'\n",
            " '2017-07-16T00:00:00.000000000' '2017-09-27T00:00:00.000000000'\n",
            " '2017-01-14T00:00:00.000000000' '2017-03-28T00:00:00.000000000'\n",
            " '2017-08-29T00:00:00.000000000' '2017-09-24T00:00:00.000000000'\n",
            " '2017-10-31T00:00:00.000000000' '2017-12-24T00:00:00.000000000'\n",
            " '2017-09-03T00:00:00.000000000' '2017-09-17T00:00:00.000000000'\n",
            " '2017-08-05T00:00:00.000000000' '2017-06-18T00:00:00.000000000'\n",
            " '2017-09-07T00:00:00.000000000' '2017-09-25T00:00:00.000000000'\n",
            " '2017-06-01T00:00:00.000000000' '2017-11-26T00:00:00.000000000'\n",
            " '2017-09-11T00:00:00.000000000' '2017-01-06T00:00:00.000000000'\n",
            " '2017-12-26T00:00:00.000000000' '2017-03-02T00:00:00.000000000'\n",
            " '2017-05-30T00:00:00.000000000' '2017-06-25T00:00:00.000000000']\n",
            " \n",
            "online_order have 2 unique values: float64\n",
            "online_order values: [ 0.  1. nan]\n",
            " \n",
            "order_status have 2 unique values: object\n",
            "order_status values: ['Approved' 'Cancelled']\n",
            " \n",
            "brand have 6 unique values: object\n",
            "brand values: ['Solex' 'Trek Bicycles' 'OHM Cycles' 'Norco Bicycles' 'Giant Bicycles'\n",
            " 'WeareA2B' nan]\n",
            " \n",
            "product_line have 4 unique values: object\n",
            "product_line values: ['Standard' 'Road' 'Mountain' 'Touring' nan]\n",
            " \n",
            "product_class have 3 unique values: object\n",
            "product_class values: ['medium' 'low' 'high' nan]\n",
            " \n",
            "product_size have 3 unique values: object\n",
            "product_size values: ['medium' 'large' 'small' nan]\n",
            " \n",
            "list_price have 296 unique values: float64\n",
            "list_price values: [  71.49 2091.47 1793.43 1198.46 1765.3  1538.99   60.34 1292.84 1071.23\n",
            " 1231.15  574.64   71.16 1057.51 1661.92 1555.58 1311.44  499.53 1362.99\n",
            " 1469.44  360.4   642.31 1403.5  1720.7   544.05 1415.01 1842.92 1769.64\n",
            " 2083.94 1289.85 1894.19 1163.89 1151.96  235.63  642.7  1240.31 1635.3\n",
            "  227.88  363.01  100.35 1458.17 1977.36   12.01 1216.14 1129.13  183.86\n",
            "  912.52  175.89 1073.07 1179.    958.74  792.9   290.62  752.64  478.16\n",
            " 1024.66 1945.43  441.49  533.51  569.56 1148.64  495.72 1992.93 1812.75\n",
            "  945.04  358.39 1873.97 1810.   1775.81 1777.8   795.34  575.27 1172.78\n",
            " 1065.03 1807.45 1942.61 1274.93 1890.39  980.37  416.98 1386.84  742.54\n",
            "  230.91  688.63  748.17 1466.68 1656.86  202.62 1036.59 1228.07  774.53\n",
            "  586.45 1762.96 2005.66 1483.2   590.26 1703.52 1577.53 1636.9  1280.28\n",
            " 1061.56  850.89  710.59  543.39 1227.34 1972.01  311.54  205.84  605.54\n",
            "  756.31  850.    571.27  294.35  149.3   447.25 1348.41 1021.43 1163.77\n",
            " 1294.66  638.29 1202.34  326.86  814.86 1102.68 1880.4  1541.62  639.38\n",
            "  402.14  710.55 1142.89  813.6  1833.17 1285.47 1678.71  437.51  366.22\n",
            " 1199.26 1888.45  237.44  317.3  1527.25 1563.94 1146.42 1192.33 1672.07\n",
            " 1099.68 1281.6  1220.66 1061.92 1502.93  398.08  101.55 1957.87 1095.66\n",
            " 1776.08  752.36  172.09 1740.16 1734.3   240.72 1958.34  330.36 1709.26\n",
            "   60.72 1193.44 2037.77 1349.47   56.21  126.36 1300.96 1697.27   26.15\n",
            "  875.99 1862.82 2028.26  678.25  890.28 1084.18 1107.08 1790.31  724.37\n",
            " 1095.65 1223.24  541.44  470.07 2052.92 1817.13 1473.09 1480.76 2012.84\n",
            " 1711.35  753.76  840.02 1922.94 1759.3   330.91 1029.36 1487.8  1624.69\n",
            " 1719.95  899.52  554.38  960.51 1978.64   36.78   74.89 1091.51  695.23\n",
            " 1148.41  750.25 1997.68 1392.76 1294.37  311.57  899.92  162.87 1678.51\n",
            " 1703.18  675.28  487.8  1292.13 1578.52  922.15  122.74  435.66 1409.68\n",
            " 1315.16 1233.12  758.73  405.94 1026.7   687.9   494.96 1181.89  465.71\n",
            "  880.3  1989.3  1413.98  483.12  753.01  883.91 1216.4    32.44   16.08\n",
            " 1184.    587.02 1919.23 1660.68 1224.41 1535.84  150.51 2062.95 1689.63\n",
            " 1934.41  889.05 1617.32 1788.93 2064.08 2020.14  489.58 2076.81 2061.38\n",
            "  877.44 1374.2   731.41 1034.17  156.56  643.95  517.53  226.94 1196.65\n",
            "  634.57 1571.83 1999.54 1562.88 1150.59  356.05 1780.22 1438.9   966.91\n",
            "  918.43 1541.1  1476.88 1023.39  310.57  356.39 1695.42  877.6  1401.63\n",
            " 2086.07 1761.75 1615.62  744.54 1098.18  868.56 1497.43  867.92]\n",
            " \n",
            "standard_cost have 103 unique values: float64\n",
            "standard_cost values: [  53.62       388.92       248.82       381.1        709.48\n",
            "  829.65        45.26        13.44       380.74       161.6\n",
            "  459.71        56.93       154.4       1479.11       818.01\n",
            " 1167.18       388.72        57.74       596.55       270.3\n",
            "  513.85       954.82      1531.42       376.84      1259.36\n",
            " 1105.75       108.76       675.03        74.51       598.76\n",
            "  589.27       649.49       125.07       211.37       795.1\n",
            "  993.66       136.73       290.41        75.26       874.9\n",
            " 1759.85         7.21      1082.36       677.48       137.9\n",
            "  141.4        131.92       933.84       707.4        748.9\n",
            "  594.68       215.14       205.36       298.72       614.8\n",
            "  333.18        84.99       400.13       528.43       689.18\n",
            "  297.43       762.63       582.48       507.58       215.03\n",
            "  863.95      1610.9       1580.47       820.78       101.58\n",
            "  431.45      1043.77       230.09       778.69               nan\n",
            "  764.96       260.14       234.43       312.74      1234.29\n",
            "  667.4        173.18       612.88       448.9        363.25\n",
            "  151.96       206.35       400.91       464.72       521.94\n",
            "  950.52      1203.4         99.59       525.33      1516.13\n",
            "  826.51        44.71       829.51       733.58       407.54\n",
            "  770.89       312.7350159  270.2999878  667.4000244]\n",
            " \n",
            "product_first_sold_date have 100 unique values: float64\n",
            "product_first_sold_date values: [41245. 41701. 36361. 36145. 42226. 39031. 34165. 39915. 33455. 38216.\n",
            " 40784. 42172. 34527. 34586. 38193. 37873. 38206. 33888. 37337. 36334.\n",
            " 42145. 42404. 34079. 41047. 42560. 42710. 41922. 37539. 42688. 38991.\n",
            " 38647. 37874. 34996. 33549. 38693. 37668. 41533. 41009. 40553. 39427.\n",
            " 38482. 35470. 41434. 36367. 38750. 41848. 34244. 42696. 38258. 41167.\n",
            " 40672. 35707. 42295. 33552. 35667. 33879. 40670. 37626. 38339. 40303.\n",
            " 34143. 35160. 36668. 36498. 34071. 40649. 37823. 36146. 42105. 34115.\n",
            " 35052. 33364. 42218. 41345. 33429. 38859.    nan 36833. 37499. 41064.\n",
            " 33259. 35560. 37838. 37698. 35378. 38573. 38002. 39526. 39880. 40487.\n",
            " 40336. 40618. 34170. 40410. 42458. 39298. 35455. 37220. 37659. 40779.\n",
            " 34556.]\n",
            " \n"
          ]
        }
      ]
    },
    {
      "cell_type": "code",
      "source": [
        "# numerical data\n",
        "nums_t = df_tran.loc[:,(df_tran.dtypes == 'int64') | (df_tran.dtypes == float)].columns.tolist()\n",
        "print(nums_t)\n",
        "print('Counts :', len(nums_t))"
      ],
      "metadata": {
        "colab": {
          "base_uri": "https://localhost:8080/"
        },
        "id": "kreS7Su483wP",
        "outputId": "6132d3bf-bc12-41e4-cd6c-f53564770262"
      },
      "execution_count": null,
      "outputs": [
        {
          "output_type": "stream",
          "name": "stdout",
          "text": [
            "['transaction_id', 'product_id', 'customer_id', 'online_order', 'list_price', 'standard_cost', 'product_first_sold_date']\n",
            "Counts : 7\n"
          ]
        }
      ]
    },
    {
      "cell_type": "code",
      "source": [
        "# Categorical Data\n",
        "cats_t = df_tran.loc[:, (df_tran.dtypes == object) | (df_tran.dtypes == 'datetime64[ns]')].columns.tolist() \n",
        "print(cats_t)\n",
        "print('Counts :', len(cats_t))"
      ],
      "metadata": {
        "colab": {
          "base_uri": "https://localhost:8080/"
        },
        "id": "mRGVPWdRJIuD",
        "outputId": "e6a66908-37d0-43dc-e125-08a1d1fcf97b"
      },
      "execution_count": null,
      "outputs": [
        {
          "output_type": "stream",
          "name": "stdout",
          "text": [
            "['transaction_date', 'order_status', 'brand', 'product_line', 'product_class', 'product_size']\n",
            "Counts : 6\n"
          ]
        }
      ]
    },
    {
      "cell_type": "markdown",
      "source": [
        "**Observation :**\n",
        "*  The dataset consist of **20000 records** and **13** column with **7 numerical ,5 categorical ,1 datetime column.**\n",
        "*  **transaction_id, product_id, customer_id, product_first_sold_date** is recommended to be **integer.**\n",
        "*  **standard_cost** is recommended to be **float** and there are inconsistencies in values and unwanted characters, so treatment is needed.\n",
        "****\n",
        "**1.2 Checking Missing Values**"
      ],
      "metadata": {
        "id": "4h-SpJbTJvey"
      }
    },
    {
      "cell_type": "code",
      "source": [
        "# Checking missing value in each column\n",
        "counts = df_tran.isna().sum().sort_values(ascending=False)\n",
        "\n",
        "# Percentage of missing values\n",
        "percent = round(df_tran.isna().mean()*100,2).sort_values(ascending=False)\n",
        "\n",
        "# create dataframe of missing value\n",
        "df_demo_nan = pd.concat([counts,percent],axis=1,keys=['missing value counts', '%'])\n",
        "df_demo_nan"
      ],
      "metadata": {
        "id": "zeahzVElJIb_",
        "colab": {
          "base_uri": "https://localhost:8080/",
          "height": 457
        },
        "outputId": "3680ea73-b888-4c28-92d7-328d358f6e34"
      },
      "execution_count": null,
      "outputs": [
        {
          "output_type": "execute_result",
          "data": {
            "text/plain": [
              "                         missing value counts     %\n",
              "online_order                              360  1.80\n",
              "brand                                     197  0.98\n",
              "product_line                              197  0.98\n",
              "product_class                             197  0.98\n",
              "product_size                              197  0.98\n",
              "standard_cost                             197  0.98\n",
              "product_first_sold_date                   197  0.98\n",
              "transaction_id                              0  0.00\n",
              "product_id                                  0  0.00\n",
              "customer_id                                 0  0.00\n",
              "transaction_date                            0  0.00\n",
              "order_status                                0  0.00\n",
              "list_price                                  0  0.00"
            ],
            "text/html": [
              "\n",
              "  <div id=\"df-2cc67f5b-1092-4d63-8a41-75822ed58a96\">\n",
              "    <div class=\"colab-df-container\">\n",
              "      <div>\n",
              "<style scoped>\n",
              "    .dataframe tbody tr th:only-of-type {\n",
              "        vertical-align: middle;\n",
              "    }\n",
              "\n",
              "    .dataframe tbody tr th {\n",
              "        vertical-align: top;\n",
              "    }\n",
              "\n",
              "    .dataframe thead th {\n",
              "        text-align: right;\n",
              "    }\n",
              "</style>\n",
              "<table border=\"1\" class=\"dataframe\">\n",
              "  <thead>\n",
              "    <tr style=\"text-align: right;\">\n",
              "      <th></th>\n",
              "      <th>missing value counts</th>\n",
              "      <th>%</th>\n",
              "    </tr>\n",
              "  </thead>\n",
              "  <tbody>\n",
              "    <tr>\n",
              "      <th>online_order</th>\n",
              "      <td>360</td>\n",
              "      <td>1.80</td>\n",
              "    </tr>\n",
              "    <tr>\n",
              "      <th>brand</th>\n",
              "      <td>197</td>\n",
              "      <td>0.98</td>\n",
              "    </tr>\n",
              "    <tr>\n",
              "      <th>product_line</th>\n",
              "      <td>197</td>\n",
              "      <td>0.98</td>\n",
              "    </tr>\n",
              "    <tr>\n",
              "      <th>product_class</th>\n",
              "      <td>197</td>\n",
              "      <td>0.98</td>\n",
              "    </tr>\n",
              "    <tr>\n",
              "      <th>product_size</th>\n",
              "      <td>197</td>\n",
              "      <td>0.98</td>\n",
              "    </tr>\n",
              "    <tr>\n",
              "      <th>standard_cost</th>\n",
              "      <td>197</td>\n",
              "      <td>0.98</td>\n",
              "    </tr>\n",
              "    <tr>\n",
              "      <th>product_first_sold_date</th>\n",
              "      <td>197</td>\n",
              "      <td>0.98</td>\n",
              "    </tr>\n",
              "    <tr>\n",
              "      <th>transaction_id</th>\n",
              "      <td>0</td>\n",
              "      <td>0.00</td>\n",
              "    </tr>\n",
              "    <tr>\n",
              "      <th>product_id</th>\n",
              "      <td>0</td>\n",
              "      <td>0.00</td>\n",
              "    </tr>\n",
              "    <tr>\n",
              "      <th>customer_id</th>\n",
              "      <td>0</td>\n",
              "      <td>0.00</td>\n",
              "    </tr>\n",
              "    <tr>\n",
              "      <th>transaction_date</th>\n",
              "      <td>0</td>\n",
              "      <td>0.00</td>\n",
              "    </tr>\n",
              "    <tr>\n",
              "      <th>order_status</th>\n",
              "      <td>0</td>\n",
              "      <td>0.00</td>\n",
              "    </tr>\n",
              "    <tr>\n",
              "      <th>list_price</th>\n",
              "      <td>0</td>\n",
              "      <td>0.00</td>\n",
              "    </tr>\n",
              "  </tbody>\n",
              "</table>\n",
              "</div>\n",
              "      <button class=\"colab-df-convert\" onclick=\"convertToInteractive('df-2cc67f5b-1092-4d63-8a41-75822ed58a96')\"\n",
              "              title=\"Convert this dataframe to an interactive table.\"\n",
              "              style=\"display:none;\">\n",
              "        \n",
              "  <svg xmlns=\"http://www.w3.org/2000/svg\" height=\"24px\"viewBox=\"0 0 24 24\"\n",
              "       width=\"24px\">\n",
              "    <path d=\"M0 0h24v24H0V0z\" fill=\"none\"/>\n",
              "    <path d=\"M18.56 5.44l.94 2.06.94-2.06 2.06-.94-2.06-.94-.94-2.06-.94 2.06-2.06.94zm-11 1L8.5 8.5l.94-2.06 2.06-.94-2.06-.94L8.5 2.5l-.94 2.06-2.06.94zm10 10l.94 2.06.94-2.06 2.06-.94-2.06-.94-.94-2.06-.94 2.06-2.06.94z\"/><path d=\"M17.41 7.96l-1.37-1.37c-.4-.4-.92-.59-1.43-.59-.52 0-1.04.2-1.43.59L10.3 9.45l-7.72 7.72c-.78.78-.78 2.05 0 2.83L4 21.41c.39.39.9.59 1.41.59.51 0 1.02-.2 1.41-.59l7.78-7.78 2.81-2.81c.8-.78.8-2.07 0-2.86zM5.41 20L4 18.59l7.72-7.72 1.47 1.35L5.41 20z\"/>\n",
              "  </svg>\n",
              "      </button>\n",
              "      \n",
              "  <style>\n",
              "    .colab-df-container {\n",
              "      display:flex;\n",
              "      flex-wrap:wrap;\n",
              "      gap: 12px;\n",
              "    }\n",
              "\n",
              "    .colab-df-convert {\n",
              "      background-color: #E8F0FE;\n",
              "      border: none;\n",
              "      border-radius: 50%;\n",
              "      cursor: pointer;\n",
              "      display: none;\n",
              "      fill: #1967D2;\n",
              "      height: 32px;\n",
              "      padding: 0 0 0 0;\n",
              "      width: 32px;\n",
              "    }\n",
              "\n",
              "    .colab-df-convert:hover {\n",
              "      background-color: #E2EBFA;\n",
              "      box-shadow: 0px 1px 2px rgba(60, 64, 67, 0.3), 0px 1px 3px 1px rgba(60, 64, 67, 0.15);\n",
              "      fill: #174EA6;\n",
              "    }\n",
              "\n",
              "    [theme=dark] .colab-df-convert {\n",
              "      background-color: #3B4455;\n",
              "      fill: #D2E3FC;\n",
              "    }\n",
              "\n",
              "    [theme=dark] .colab-df-convert:hover {\n",
              "      background-color: #434B5C;\n",
              "      box-shadow: 0px 1px 3px 1px rgba(0, 0, 0, 0.15);\n",
              "      filter: drop-shadow(0px 1px 2px rgba(0, 0, 0, 0.3));\n",
              "      fill: #FFFFFF;\n",
              "    }\n",
              "  </style>\n",
              "\n",
              "      <script>\n",
              "        const buttonEl =\n",
              "          document.querySelector('#df-2cc67f5b-1092-4d63-8a41-75822ed58a96 button.colab-df-convert');\n",
              "        buttonEl.style.display =\n",
              "          google.colab.kernel.accessAllowed ? 'block' : 'none';\n",
              "\n",
              "        async function convertToInteractive(key) {\n",
              "          const element = document.querySelector('#df-2cc67f5b-1092-4d63-8a41-75822ed58a96');\n",
              "          const dataTable =\n",
              "            await google.colab.kernel.invokeFunction('convertToInteractive',\n",
              "                                                     [key], {});\n",
              "          if (!dataTable) return;\n",
              "\n",
              "          const docLinkHtml = 'Like what you see? Visit the ' +\n",
              "            '<a target=\"_blank\" href=https://colab.research.google.com/notebooks/data_table.ipynb>data table notebook</a>'\n",
              "            + ' to learn more about interactive tables.';\n",
              "          element.innerHTML = '';\n",
              "          dataTable['output_type'] = 'display_data';\n",
              "          await google.colab.output.renderOutput(dataTable, element);\n",
              "          const docLink = document.createElement('div');\n",
              "          docLink.innerHTML = docLinkHtml;\n",
              "          element.appendChild(docLink);\n",
              "        }\n",
              "      </script>\n",
              "    </div>\n",
              "  </div>\n",
              "  "
            ]
          },
          "metadata": {},
          "execution_count": 9
        }
      ]
    },
    {
      "cell_type": "code",
      "source": [
        "# Null dataframe\n",
        "nan_df = df_tran[df_tran.isna().any(axis=1)]\n",
        "nan_percent = round(len(nan_df)/len(df_tran)*100,2)\n",
        "print('Percentages missing value of dataset :', nan_percent, '%')"
      ],
      "metadata": {
        "id": "ulg6-Ww5JICV",
        "colab": {
          "base_uri": "https://localhost:8080/"
        },
        "outputId": "f07b456e-be34-4146-d783-7419ecba18d7"
      },
      "execution_count": null,
      "outputs": [
        {
          "output_type": "stream",
          "name": "stdout",
          "text": [
            "Percentages missing value of dataset : 2.77 %\n"
          ]
        }
      ]
    },
    {
      "cell_type": "markdown",
      "source": [
        "**Observation :** There are a missing values of **less than 10%**. So I decided to drop it, as it is still safe and does not affect the analysis significantly.\n",
        "****\n",
        "**1.3 Checking Duplicate Records**"
      ],
      "metadata": {
        "id": "wgf5ChSaeadS"
      }
    },
    {
      "cell_type": "code",
      "source": [
        "# Checking duplicated data\n",
        "df_tran.duplicated().sum()"
      ],
      "metadata": {
        "colab": {
          "base_uri": "https://localhost:8080/"
        },
        "id": "Nr56na-wdmvE",
        "outputId": "e12ed2ae-fc5f-402b-ab48-e48b6f04d043"
      },
      "execution_count": null,
      "outputs": [
        {
          "output_type": "execute_result",
          "data": {
            "text/plain": [
              "0"
            ]
          },
          "metadata": {},
          "execution_count": 11
        }
      ]
    },
    {
      "cell_type": "markdown",
      "source": [
        "**Observation :** There are no duplicate records.\n",
        "****\n",
        "**1.4 Statistical Summary**"
      ],
      "metadata": {
        "id": "QQfZfnOxhNdn"
      }
    },
    {
      "cell_type": "code",
      "source": [
        "# Numerical value\n",
        "df_tran[nums_t].describe().T"
      ],
      "metadata": {
        "colab": {
          "base_uri": "https://localhost:8080/",
          "height": 269
        },
        "id": "MA-T3j-eeb84",
        "outputId": "b57a815a-1c67-4071-e9d0-a0455f0adbfa"
      },
      "execution_count": null,
      "outputs": [
        {
          "output_type": "execute_result",
          "data": {
            "text/plain": [
              "                           count          mean          std       min  \\\n",
              "transaction_id           20000.0  10000.500000  5773.647028      1.00   \n",
              "product_id               20000.0     45.364650    30.753590      0.00   \n",
              "customer_id              20000.0   1738.246050  1011.951046      1.00   \n",
              "online_order             19640.0      0.500458     0.500013      0.00   \n",
              "list_price               20000.0   1107.829449   582.825242     12.01   \n",
              "standard_cost            19803.0    556.046951   405.955660      7.21   \n",
              "product_first_sold_date  19803.0  38199.776549  2875.201110  33259.00   \n",
              "\n",
              "                              25%       50%       75%       max  \n",
              "transaction_id            5000.75  10000.50  15000.25  20000.00  \n",
              "product_id                  18.00     44.00     72.00    100.00  \n",
              "customer_id                857.75   1736.00   2613.00   5034.00  \n",
              "online_order                 0.00      1.00      1.00      1.00  \n",
              "list_price                 575.27   1163.89   1635.30   2091.47  \n",
              "standard_cost              215.14    507.58    795.10   1759.85  \n",
              "product_first_sold_date  35667.00  38216.00  40672.00  42710.00  "
            ],
            "text/html": [
              "\n",
              "  <div id=\"df-3f190882-b0f9-4423-884e-f966cce2c474\">\n",
              "    <div class=\"colab-df-container\">\n",
              "      <div>\n",
              "<style scoped>\n",
              "    .dataframe tbody tr th:only-of-type {\n",
              "        vertical-align: middle;\n",
              "    }\n",
              "\n",
              "    .dataframe tbody tr th {\n",
              "        vertical-align: top;\n",
              "    }\n",
              "\n",
              "    .dataframe thead th {\n",
              "        text-align: right;\n",
              "    }\n",
              "</style>\n",
              "<table border=\"1\" class=\"dataframe\">\n",
              "  <thead>\n",
              "    <tr style=\"text-align: right;\">\n",
              "      <th></th>\n",
              "      <th>count</th>\n",
              "      <th>mean</th>\n",
              "      <th>std</th>\n",
              "      <th>min</th>\n",
              "      <th>25%</th>\n",
              "      <th>50%</th>\n",
              "      <th>75%</th>\n",
              "      <th>max</th>\n",
              "    </tr>\n",
              "  </thead>\n",
              "  <tbody>\n",
              "    <tr>\n",
              "      <th>transaction_id</th>\n",
              "      <td>20000.0</td>\n",
              "      <td>10000.500000</td>\n",
              "      <td>5773.647028</td>\n",
              "      <td>1.00</td>\n",
              "      <td>5000.75</td>\n",
              "      <td>10000.50</td>\n",
              "      <td>15000.25</td>\n",
              "      <td>20000.00</td>\n",
              "    </tr>\n",
              "    <tr>\n",
              "      <th>product_id</th>\n",
              "      <td>20000.0</td>\n",
              "      <td>45.364650</td>\n",
              "      <td>30.753590</td>\n",
              "      <td>0.00</td>\n",
              "      <td>18.00</td>\n",
              "      <td>44.00</td>\n",
              "      <td>72.00</td>\n",
              "      <td>100.00</td>\n",
              "    </tr>\n",
              "    <tr>\n",
              "      <th>customer_id</th>\n",
              "      <td>20000.0</td>\n",
              "      <td>1738.246050</td>\n",
              "      <td>1011.951046</td>\n",
              "      <td>1.00</td>\n",
              "      <td>857.75</td>\n",
              "      <td>1736.00</td>\n",
              "      <td>2613.00</td>\n",
              "      <td>5034.00</td>\n",
              "    </tr>\n",
              "    <tr>\n",
              "      <th>online_order</th>\n",
              "      <td>19640.0</td>\n",
              "      <td>0.500458</td>\n",
              "      <td>0.500013</td>\n",
              "      <td>0.00</td>\n",
              "      <td>0.00</td>\n",
              "      <td>1.00</td>\n",
              "      <td>1.00</td>\n",
              "      <td>1.00</td>\n",
              "    </tr>\n",
              "    <tr>\n",
              "      <th>list_price</th>\n",
              "      <td>20000.0</td>\n",
              "      <td>1107.829449</td>\n",
              "      <td>582.825242</td>\n",
              "      <td>12.01</td>\n",
              "      <td>575.27</td>\n",
              "      <td>1163.89</td>\n",
              "      <td>1635.30</td>\n",
              "      <td>2091.47</td>\n",
              "    </tr>\n",
              "    <tr>\n",
              "      <th>standard_cost</th>\n",
              "      <td>19803.0</td>\n",
              "      <td>556.046951</td>\n",
              "      <td>405.955660</td>\n",
              "      <td>7.21</td>\n",
              "      <td>215.14</td>\n",
              "      <td>507.58</td>\n",
              "      <td>795.10</td>\n",
              "      <td>1759.85</td>\n",
              "    </tr>\n",
              "    <tr>\n",
              "      <th>product_first_sold_date</th>\n",
              "      <td>19803.0</td>\n",
              "      <td>38199.776549</td>\n",
              "      <td>2875.201110</td>\n",
              "      <td>33259.00</td>\n",
              "      <td>35667.00</td>\n",
              "      <td>38216.00</td>\n",
              "      <td>40672.00</td>\n",
              "      <td>42710.00</td>\n",
              "    </tr>\n",
              "  </tbody>\n",
              "</table>\n",
              "</div>\n",
              "      <button class=\"colab-df-convert\" onclick=\"convertToInteractive('df-3f190882-b0f9-4423-884e-f966cce2c474')\"\n",
              "              title=\"Convert this dataframe to an interactive table.\"\n",
              "              style=\"display:none;\">\n",
              "        \n",
              "  <svg xmlns=\"http://www.w3.org/2000/svg\" height=\"24px\"viewBox=\"0 0 24 24\"\n",
              "       width=\"24px\">\n",
              "    <path d=\"M0 0h24v24H0V0z\" fill=\"none\"/>\n",
              "    <path d=\"M18.56 5.44l.94 2.06.94-2.06 2.06-.94-2.06-.94-.94-2.06-.94 2.06-2.06.94zm-11 1L8.5 8.5l.94-2.06 2.06-.94-2.06-.94L8.5 2.5l-.94 2.06-2.06.94zm10 10l.94 2.06.94-2.06 2.06-.94-2.06-.94-.94-2.06-.94 2.06-2.06.94z\"/><path d=\"M17.41 7.96l-1.37-1.37c-.4-.4-.92-.59-1.43-.59-.52 0-1.04.2-1.43.59L10.3 9.45l-7.72 7.72c-.78.78-.78 2.05 0 2.83L4 21.41c.39.39.9.59 1.41.59.51 0 1.02-.2 1.41-.59l7.78-7.78 2.81-2.81c.8-.78.8-2.07 0-2.86zM5.41 20L4 18.59l7.72-7.72 1.47 1.35L5.41 20z\"/>\n",
              "  </svg>\n",
              "      </button>\n",
              "      \n",
              "  <style>\n",
              "    .colab-df-container {\n",
              "      display:flex;\n",
              "      flex-wrap:wrap;\n",
              "      gap: 12px;\n",
              "    }\n",
              "\n",
              "    .colab-df-convert {\n",
              "      background-color: #E8F0FE;\n",
              "      border: none;\n",
              "      border-radius: 50%;\n",
              "      cursor: pointer;\n",
              "      display: none;\n",
              "      fill: #1967D2;\n",
              "      height: 32px;\n",
              "      padding: 0 0 0 0;\n",
              "      width: 32px;\n",
              "    }\n",
              "\n",
              "    .colab-df-convert:hover {\n",
              "      background-color: #E2EBFA;\n",
              "      box-shadow: 0px 1px 2px rgba(60, 64, 67, 0.3), 0px 1px 3px 1px rgba(60, 64, 67, 0.15);\n",
              "      fill: #174EA6;\n",
              "    }\n",
              "\n",
              "    [theme=dark] .colab-df-convert {\n",
              "      background-color: #3B4455;\n",
              "      fill: #D2E3FC;\n",
              "    }\n",
              "\n",
              "    [theme=dark] .colab-df-convert:hover {\n",
              "      background-color: #434B5C;\n",
              "      box-shadow: 0px 1px 3px 1px rgba(0, 0, 0, 0.15);\n",
              "      filter: drop-shadow(0px 1px 2px rgba(0, 0, 0, 0.3));\n",
              "      fill: #FFFFFF;\n",
              "    }\n",
              "  </style>\n",
              "\n",
              "      <script>\n",
              "        const buttonEl =\n",
              "          document.querySelector('#df-3f190882-b0f9-4423-884e-f966cce2c474 button.colab-df-convert');\n",
              "        buttonEl.style.display =\n",
              "          google.colab.kernel.accessAllowed ? 'block' : 'none';\n",
              "\n",
              "        async function convertToInteractive(key) {\n",
              "          const element = document.querySelector('#df-3f190882-b0f9-4423-884e-f966cce2c474');\n",
              "          const dataTable =\n",
              "            await google.colab.kernel.invokeFunction('convertToInteractive',\n",
              "                                                     [key], {});\n",
              "          if (!dataTable) return;\n",
              "\n",
              "          const docLinkHtml = 'Like what you see? Visit the ' +\n",
              "            '<a target=\"_blank\" href=https://colab.research.google.com/notebooks/data_table.ipynb>data table notebook</a>'\n",
              "            + ' to learn more about interactive tables.';\n",
              "          element.innerHTML = '';\n",
              "          dataTable['output_type'] = 'display_data';\n",
              "          await google.colab.output.renderOutput(dataTable, element);\n",
              "          const docLink = document.createElement('div');\n",
              "          docLink.innerHTML = docLinkHtml;\n",
              "          element.appendChild(docLink);\n",
              "        }\n",
              "      </script>\n",
              "    </div>\n",
              "  </div>\n",
              "  "
            ]
          },
          "metadata": {},
          "execution_count": 12
        }
      ]
    },
    {
      "cell_type": "code",
      "source": [
        "# Categorical value\n",
        "df_tran[cats_t].describe().T"
      ],
      "metadata": {
        "id": "hp03kAObh2m-",
        "colab": {
          "base_uri": "https://localhost:8080/",
          "height": 238
        },
        "outputId": "e1d3ef6d-d201-41f6-f527-493b82d56db5"
      },
      "execution_count": null,
      "outputs": [
        {
          "output_type": "execute_result",
          "data": {
            "text/plain": [
              "                  count unique                  top   freq      first  \\\n",
              "transaction_date  20000    364  2017-02-14 00:00:00     82 2017-01-01   \n",
              "order_status      20000      2             Approved  19821        NaT   \n",
              "brand             19803      6                Solex   4253        NaT   \n",
              "product_line      19803      4             Standard  14176        NaT   \n",
              "product_class     19803      3               medium  13826        NaT   \n",
              "product_size      19803      3               medium  12990        NaT   \n",
              "\n",
              "                       last  \n",
              "transaction_date 2017-12-30  \n",
              "order_status            NaT  \n",
              "brand                   NaT  \n",
              "product_line            NaT  \n",
              "product_class           NaT  \n",
              "product_size            NaT  "
            ],
            "text/html": [
              "\n",
              "  <div id=\"df-5b228a69-6419-43f5-9358-68056bb6175d\">\n",
              "    <div class=\"colab-df-container\">\n",
              "      <div>\n",
              "<style scoped>\n",
              "    .dataframe tbody tr th:only-of-type {\n",
              "        vertical-align: middle;\n",
              "    }\n",
              "\n",
              "    .dataframe tbody tr th {\n",
              "        vertical-align: top;\n",
              "    }\n",
              "\n",
              "    .dataframe thead th {\n",
              "        text-align: right;\n",
              "    }\n",
              "</style>\n",
              "<table border=\"1\" class=\"dataframe\">\n",
              "  <thead>\n",
              "    <tr style=\"text-align: right;\">\n",
              "      <th></th>\n",
              "      <th>count</th>\n",
              "      <th>unique</th>\n",
              "      <th>top</th>\n",
              "      <th>freq</th>\n",
              "      <th>first</th>\n",
              "      <th>last</th>\n",
              "    </tr>\n",
              "  </thead>\n",
              "  <tbody>\n",
              "    <tr>\n",
              "      <th>transaction_date</th>\n",
              "      <td>20000</td>\n",
              "      <td>364</td>\n",
              "      <td>2017-02-14 00:00:00</td>\n",
              "      <td>82</td>\n",
              "      <td>2017-01-01</td>\n",
              "      <td>2017-12-30</td>\n",
              "    </tr>\n",
              "    <tr>\n",
              "      <th>order_status</th>\n",
              "      <td>20000</td>\n",
              "      <td>2</td>\n",
              "      <td>Approved</td>\n",
              "      <td>19821</td>\n",
              "      <td>NaT</td>\n",
              "      <td>NaT</td>\n",
              "    </tr>\n",
              "    <tr>\n",
              "      <th>brand</th>\n",
              "      <td>19803</td>\n",
              "      <td>6</td>\n",
              "      <td>Solex</td>\n",
              "      <td>4253</td>\n",
              "      <td>NaT</td>\n",
              "      <td>NaT</td>\n",
              "    </tr>\n",
              "    <tr>\n",
              "      <th>product_line</th>\n",
              "      <td>19803</td>\n",
              "      <td>4</td>\n",
              "      <td>Standard</td>\n",
              "      <td>14176</td>\n",
              "      <td>NaT</td>\n",
              "      <td>NaT</td>\n",
              "    </tr>\n",
              "    <tr>\n",
              "      <th>product_class</th>\n",
              "      <td>19803</td>\n",
              "      <td>3</td>\n",
              "      <td>medium</td>\n",
              "      <td>13826</td>\n",
              "      <td>NaT</td>\n",
              "      <td>NaT</td>\n",
              "    </tr>\n",
              "    <tr>\n",
              "      <th>product_size</th>\n",
              "      <td>19803</td>\n",
              "      <td>3</td>\n",
              "      <td>medium</td>\n",
              "      <td>12990</td>\n",
              "      <td>NaT</td>\n",
              "      <td>NaT</td>\n",
              "    </tr>\n",
              "  </tbody>\n",
              "</table>\n",
              "</div>\n",
              "      <button class=\"colab-df-convert\" onclick=\"convertToInteractive('df-5b228a69-6419-43f5-9358-68056bb6175d')\"\n",
              "              title=\"Convert this dataframe to an interactive table.\"\n",
              "              style=\"display:none;\">\n",
              "        \n",
              "  <svg xmlns=\"http://www.w3.org/2000/svg\" height=\"24px\"viewBox=\"0 0 24 24\"\n",
              "       width=\"24px\">\n",
              "    <path d=\"M0 0h24v24H0V0z\" fill=\"none\"/>\n",
              "    <path d=\"M18.56 5.44l.94 2.06.94-2.06 2.06-.94-2.06-.94-.94-2.06-.94 2.06-2.06.94zm-11 1L8.5 8.5l.94-2.06 2.06-.94-2.06-.94L8.5 2.5l-.94 2.06-2.06.94zm10 10l.94 2.06.94-2.06 2.06-.94-2.06-.94-.94-2.06-.94 2.06-2.06.94z\"/><path d=\"M17.41 7.96l-1.37-1.37c-.4-.4-.92-.59-1.43-.59-.52 0-1.04.2-1.43.59L10.3 9.45l-7.72 7.72c-.78.78-.78 2.05 0 2.83L4 21.41c.39.39.9.59 1.41.59.51 0 1.02-.2 1.41-.59l7.78-7.78 2.81-2.81c.8-.78.8-2.07 0-2.86zM5.41 20L4 18.59l7.72-7.72 1.47 1.35L5.41 20z\"/>\n",
              "  </svg>\n",
              "      </button>\n",
              "      \n",
              "  <style>\n",
              "    .colab-df-container {\n",
              "      display:flex;\n",
              "      flex-wrap:wrap;\n",
              "      gap: 12px;\n",
              "    }\n",
              "\n",
              "    .colab-df-convert {\n",
              "      background-color: #E8F0FE;\n",
              "      border: none;\n",
              "      border-radius: 50%;\n",
              "      cursor: pointer;\n",
              "      display: none;\n",
              "      fill: #1967D2;\n",
              "      height: 32px;\n",
              "      padding: 0 0 0 0;\n",
              "      width: 32px;\n",
              "    }\n",
              "\n",
              "    .colab-df-convert:hover {\n",
              "      background-color: #E2EBFA;\n",
              "      box-shadow: 0px 1px 2px rgba(60, 64, 67, 0.3), 0px 1px 3px 1px rgba(60, 64, 67, 0.15);\n",
              "      fill: #174EA6;\n",
              "    }\n",
              "\n",
              "    [theme=dark] .colab-df-convert {\n",
              "      background-color: #3B4455;\n",
              "      fill: #D2E3FC;\n",
              "    }\n",
              "\n",
              "    [theme=dark] .colab-df-convert:hover {\n",
              "      background-color: #434B5C;\n",
              "      box-shadow: 0px 1px 3px 1px rgba(0, 0, 0, 0.15);\n",
              "      filter: drop-shadow(0px 1px 2px rgba(0, 0, 0, 0.3));\n",
              "      fill: #FFFFFF;\n",
              "    }\n",
              "  </style>\n",
              "\n",
              "      <script>\n",
              "        const buttonEl =\n",
              "          document.querySelector('#df-5b228a69-6419-43f5-9358-68056bb6175d button.colab-df-convert');\n",
              "        buttonEl.style.display =\n",
              "          google.colab.kernel.accessAllowed ? 'block' : 'none';\n",
              "\n",
              "        async function convertToInteractive(key) {\n",
              "          const element = document.querySelector('#df-5b228a69-6419-43f5-9358-68056bb6175d');\n",
              "          const dataTable =\n",
              "            await google.colab.kernel.invokeFunction('convertToInteractive',\n",
              "                                                     [key], {});\n",
              "          if (!dataTable) return;\n",
              "\n",
              "          const docLinkHtml = 'Like what you see? Visit the ' +\n",
              "            '<a target=\"_blank\" href=https://colab.research.google.com/notebooks/data_table.ipynb>data table notebook</a>'\n",
              "            + ' to learn more about interactive tables.';\n",
              "          element.innerHTML = '';\n",
              "          dataTable['output_type'] = 'display_data';\n",
              "          await google.colab.output.renderOutput(dataTable, element);\n",
              "          const docLink = document.createElement('div');\n",
              "          docLink.innerHTML = docLinkHtml;\n",
              "          element.appendChild(docLink);\n",
              "        }\n",
              "      </script>\n",
              "    </div>\n",
              "  </div>\n",
              "  "
            ]
          },
          "metadata": {},
          "execution_count": 13
        }
      ]
    },
    {
      "cell_type": "markdown",
      "source": [
        "**1.5 Checking Distribution**"
      ],
      "metadata": {
        "id": "JWWmCahQFhzn"
      }
    },
    {
      "cell_type": "code",
      "source": [
        "# Distribution of numerical data\n",
        "nums_t = ['transaction_id', 'product_id', 'customer_id', 'online_order', 'list_price', 'standard_cost', 'product_first_sold_date']\n",
        "plt.figure(figsize=(10, 6))\n",
        "\n",
        "# Adjust the subplot grid to accommodate the 7th subplot\n",
        "plt.subplot(2, 4, 7)\n",
        "sns.distplot(df_tran[nums_t[6]])\n",
        "\n",
        "for i in range(0, len(nums_t)-1):\n",
        "    plt.subplot(2, 4, i+1)\n",
        "    sns.distplot(df_tran[nums_t[i]])\n",
        "\n",
        "plt.tight_layout()\n",
        "plt.show()"
      ],
      "metadata": {
        "colab": {
          "base_uri": "https://localhost:8080/",
          "height": 607
        },
        "id": "T0pxPDIsFEvC",
        "outputId": "c0e833ca-0c4b-4855-8988-86dc5fea139e"
      },
      "execution_count": null,
      "outputs": [
        {
          "output_type": "display_data",
          "data": {
            "text/plain": [
              "<Figure size 1000x600 with 7 Axes>"
            ],
            "image/png": "[encoded data removed]"
          },
          "metadata": {}
        }
      ]
    },
    {
      "cell_type": "code",
      "source": [
        "# Distribution numerical data to check the outlier\n",
        "plt.figure(figsize=(9,2))\n",
        "for i in range(0, len(nums_t)):\n",
        "    plt.subplot(1, len(nums_t), i+1)\n",
        "    sns.boxplot(y=df_tran[nums_t[i]])\n",
        "    plt.tight_layout()"
      ],
      "metadata": {
        "colab": {
          "base_uri": "https://localhost:8080/",
          "height": 207
        },
        "id": "5kjptzNAF5f7",
        "outputId": "62e59cd7-111b-4582-bc42-f6151b079776"
      },
      "execution_count": null,
      "outputs": [
        {
          "output_type": "display_data",
          "data": {
            "text/plain": [
              "<Figure size 900x200 with 7 Axes>"
            ],
            "image/png": "[encoded data removed]"
          },
          "metadata": {}
        }
      ]
    },
    {
      "cell_type": "code",
      "source": [
        "# Distribution of categorical data\n",
        "plt.figure(figsize=(14, 14))\n",
        "for i in range(0, len(cats_t)):\n",
        "    plt.subplot(4, 2, i+1)\n",
        "    sns.countplot(x=df_tran[cats_t[i]])\n",
        "    plt.tight_layout()"
      ],
      "metadata": {
        "colab": {
          "base_uri": "https://localhost:8080/",
          "height": 980
        },
        "id": "rLhD_XphRMVz",
        "outputId": "b19b9ee3-fbc2-4591-ff3b-9bcbea43a7f6"
      },
      "execution_count": null,
      "outputs": [
        {
          "output_type": "display_data",
          "data": {
            "text/plain": [
              "<Figure size 1400x1400 with 6 Axes>"
            ],
            "image/png": "[encoded data removed]"
          },
          "metadata": {}
        }
      ]
    },
    {
      "cell_type": "markdown",
      "source": [
        "### **2. Data Cleaning**\n",
        "**2.1 Dropping Irrelevant Columns**\n",
        "\n",
        "There no irrelevant column found.\n",
        "****\n",
        "**2.2 Handling Missing Values**\n",
        "\n",
        "There less than 10% value likely 2.7% value missing from actual so, if we drop nan value there are no effect on original data.  "
      ],
      "metadata": {
        "id": "mjMR6607UcpV"
      }
    },
    {
      "cell_type": "code",
      "source": [
        "df_tran1 = df_tran.copy()"
      ],
      "metadata": {
        "id": "fkJfaXZDRONw"
      },
      "execution_count": null,
      "outputs": []
    },
    {
      "cell_type": "code",
      "source": [
        "df_tran1.dropna(inplace=True)"
      ],
      "metadata": {
        "id": "jBg8K74tROu6"
      },
      "execution_count": null,
      "outputs": []
    },
    {
      "cell_type": "code",
      "source": [
        "df_tran1.isna().sum()"
      ],
      "metadata": {
        "colab": {
          "base_uri": "https://localhost:8080/"
        },
        "id": "s5k1WELRZQkr",
        "outputId": "6bbac9a9-5733-4afb-a40b-1d1925b1572a"
      },
      "execution_count": null,
      "outputs": [
        {
          "output_type": "execute_result",
          "data": {
            "text/plain": [
              "transaction_id             0\n",
              "product_id                 0\n",
              "customer_id                0\n",
              "transaction_date           0\n",
              "online_order               0\n",
              "order_status               0\n",
              "brand                      0\n",
              "product_line               0\n",
              "product_class              0\n",
              "product_size               0\n",
              "list_price                 0\n",
              "standard_cost              0\n",
              "product_first_sold_date    0\n",
              "dtype: int64"
            ]
          },
          "metadata": {},
          "execution_count": 19
        }
      ]
    },
    {
      "cell_type": "markdown",
      "source": [
        "The dataset has been cleared of missing values ✅\n",
        "****\n",
        "**2.3 Handling Data Type & Incorrect Values**\n",
        "\n",
        "🔽 **online_order ,list_price ,standard_cost ,product_first_sold_date** \n",
        "\n",
        "from float to integer"
      ],
      "metadata": {
        "id": "jB58yyZqZtpq"
      }
    },
    {
      "cell_type": "code",
      "source": [
        "# Changing the datatype\n",
        "col_int = ['online_order','list_price','standard_cost','product_first_sold_date']\n",
        "df_tran1[col_int] = df_tran1[col_int].astype('int64')"
      ],
      "metadata": {
        "id": "pTLX1jZMZslY"
      },
      "execution_count": null,
      "outputs": []
    },
    {
      "cell_type": "code",
      "source": [
        "df_tran1.info()"
      ],
      "metadata": {
        "colab": {
          "base_uri": "https://localhost:8080/"
        },
        "id": "dPa51EXcZmRl",
        "outputId": "1f21ddc8-fa8e-46cd-a9fd-e8232761d89e"
      },
      "execution_count": null,
      "outputs": [
        {
          "output_type": "stream",
          "name": "stdout",
          "text": [
            "<class 'pandas.core.frame.DataFrame'>\n",
            "Int64Index: 19445 entries, 0 to 19999\n",
            "Data columns (total 13 columns):\n",
            " #   Column                   Non-Null Count  Dtype         \n",
            "---  ------                   --------------  -----         \n",
            " 0   transaction_id           19445 non-null  int64         \n",
            " 1   product_id               19445 non-null  int64         \n",
            " 2   customer_id              19445 non-null  int64         \n",
            " 3   transaction_date         19445 non-null  datetime64[ns]\n",
            " 4   online_order             19445 non-null  int64         \n",
            " 5   order_status             19445 non-null  object        \n",
            " 6   brand                    19445 non-null  object        \n",
            " 7   product_line             19445 non-null  object        \n",
            " 8   product_class            19445 non-null  object        \n",
            " 9   product_size             19445 non-null  object        \n",
            " 10  list_price               19445 non-null  int64         \n",
            " 11  standard_cost            19445 non-null  int64         \n",
            " 12  product_first_sold_date  19445 non-null  int64         \n",
            "dtypes: datetime64[ns](1), int64(7), object(5)\n",
            "memory usage: 2.1+ MB\n"
          ]
        }
      ]
    },
    {
      "cell_type": "markdown",
      "source": [
        "🔽 **product_first_sold_date**\n",
        "\n",
        "Unix time, also known as POSIX time or epoch time, is a system for representing time as a single integer value. It is a way to track time as the number of seconds that have elapsed since a specific reference point called the Unix epoch."
      ],
      "metadata": {
        "id": "-Z8tWlKNHHwV"
      }
    },
    {
      "cell_type": "code",
      "source": [
        "df_tran1['product_first_sold_date'].sample(3)"
      ],
      "metadata": {
        "colab": {
          "base_uri": "https://localhost:8080/"
        },
        "id": "c8RzlIwnJmdD",
        "outputId": "8a2efcf5-86dc-4522-f124-e24ef76f12ea"
      },
      "execution_count": null,
      "outputs": [
        {
          "output_type": "execute_result",
          "data": {
            "text/plain": [
              "2023    37220\n",
              "2056    42218\n",
              "5270    36498\n",
              "Name: product_first_sold_date, dtype: int64"
            ]
          },
          "metadata": {},
          "execution_count": 22
        }
      ]
    },
    {
      "cell_type": "code",
      "source": [
        "# unix time values to Datetime\n",
        "import datetime as dt\n",
        "\n",
        "df_tran1['product_first_sold_date'] = pd.TimedeltaIndex(df_tran1['product_first_sold_date'],unit='d') + dt.datetime(1900,1,1)"
      ],
      "metadata": {
        "id": "oiexJ5GkG2y0"
      },
      "execution_count": null,
      "outputs": []
    },
    {
      "cell_type": "code",
      "source": [
        "df_tran1['product_first_sold_date'].sample(3)"
      ],
      "metadata": {
        "colab": {
          "base_uri": "https://localhost:8080/"
        },
        "id": "ZRJdEKtaJlwf",
        "outputId": "80d56ec6-6369-439d-fe09-77d424f2e6a5"
      },
      "execution_count": null,
      "outputs": [
        {
          "output_type": "execute_result",
          "data": {
            "text/plain": [
              "6060    1999-07-28\n",
              "830     2006-11-12\n",
              "13814   1993-04-22\n",
              "Name: product_first_sold_date, dtype: datetime64[ns]"
            ]
          },
          "metadata": {},
          "execution_count": 26
        }
      ]
    },
    {
      "cell_type": "markdown",
      "source": [
        "🔽 **order_status**\n",
        "\n",
        "In the **order_status** column with the Cancelled value, it can be assumed that the **transaction was canceled so the company did not get revenue.** We decide to delete the data record that has the Cancelled value and then we drop the column. The data retrieved is the successful transaction data."
      ],
      "metadata": {
        "id": "anIclw3dLwzM"
      }
    },
    {
      "cell_type": "code",
      "source": [
        "df_tran1['order_status'].value_counts()"
      ],
      "metadata": {
        "colab": {
          "base_uri": "https://localhost:8080/"
        },
        "id": "YAoiKY_HJlga",
        "outputId": "57cc9f1a-d7d4-473e-9030-fac026d92963"
      },
      "execution_count": null,
      "outputs": [
        {
          "output_type": "execute_result",
          "data": {
            "text/plain": [
              "Approved     19273\n",
              "Cancelled      172\n",
              "Name: order_status, dtype: int64"
            ]
          },
          "metadata": {},
          "execution_count": 29
        }
      ]
    },
    {
      "cell_type": "code",
      "source": [
        "# remove columns order status\n",
        "df_tran1.drop(columns=['order_status'], inplace=True)"
      ],
      "metadata": {
        "id": "k4h7AohSLfMG"
      },
      "execution_count": null,
      "outputs": []
    },
    {
      "cell_type": "code",
      "source": [
        "df_tran1.info()"
      ],
      "metadata": {
        "colab": {
          "base_uri": "https://localhost:8080/"
        },
        "id": "x1JULOcALe60",
        "outputId": "be11c478-40b8-4ce0-d38e-27b9629ce5f9"
      },
      "execution_count": null,
      "outputs": [
        {
          "output_type": "stream",
          "name": "stdout",
          "text": [
            "<class 'pandas.core.frame.DataFrame'>\n",
            "Int64Index: 19445 entries, 0 to 19999\n",
            "Data columns (total 12 columns):\n",
            " #   Column                   Non-Null Count  Dtype         \n",
            "---  ------                   --------------  -----         \n",
            " 0   transaction_id           19445 non-null  int64         \n",
            " 1   product_id               19445 non-null  int64         \n",
            " 2   customer_id              19445 non-null  int64         \n",
            " 3   transaction_date         19445 non-null  datetime64[ns]\n",
            " 4   online_order             19445 non-null  int64         \n",
            " 5   brand                    19445 non-null  object        \n",
            " 6   product_line             19445 non-null  object        \n",
            " 7   product_class            19445 non-null  object        \n",
            " 8   product_size             19445 non-null  object        \n",
            " 9   list_price               19445 non-null  int64         \n",
            " 10  standard_cost            19445 non-null  int64         \n",
            " 11  product_first_sold_date  19445 non-null  datetime64[ns]\n",
            "dtypes: datetime64[ns](2), int64(6), object(4)\n",
            "memory usage: 1.9+ MB\n"
          ]
        }
      ]
    },
    {
      "cell_type": "markdown",
      "source": [
        "The dataset has been cleared ✅\n",
        "****\n",
        "### **3. Save Clean Dataset**"
      ],
      "metadata": {
        "id": "DfpycGfCQlWr"
      }
    },
    {
      "cell_type": "code",
      "source": [
        "df_tran1.sample(3)"
      ],
      "metadata": {
        "colab": {
          "base_uri": "https://localhost:8080/",
          "height": 260
        },
        "id": "HxIw3VsLLemQ",
        "outputId": "dac8c0fc-76b6-4bd2-86e5-35a67faa4e1c"
      },
      "execution_count": null,
      "outputs": [
        {
          "output_type": "execute_result",
          "data": {
            "text/plain": [
              "       transaction_id  product_id  customer_id transaction_date  online_order  \\\n",
              "1893             1894          87         2615       2017-11-05             0   \n",
              "3859             3860          33          840       2017-11-22             0   \n",
              "12701           12702           0         2971       2017-12-03             1   \n",
              "\n",
              "                brand product_line product_class product_size  list_price  \\\n",
              "1893   Giant Bicycles     Standard          high       medium        1179   \n",
              "3859   Giant Bicycles     Standard        medium        small        1311   \n",
              "12701      OHM Cycles     Standard          high       medium         227   \n",
              "\n",
              "       standard_cost product_first_sold_date  \n",
              "1893             707              2000-11-05  \n",
              "3859            1167              2010-06-09  \n",
              "12701            136              2004-08-19  "
            ],
            "text/html": [
              "\n",
              "  <div id=\"df-cd753bb7-9a14-4f58-8122-08596a48145d\">\n",
              "    <div class=\"colab-df-container\">\n",
              "      <div>\n",
              "<style scoped>\n",
              "    .dataframe tbody tr th:only-of-type {\n",
              "        vertical-align: middle;\n",
              "    }\n",
              "\n",
              "    .dataframe tbody tr th {\n",
              "        vertical-align: top;\n",
              "    }\n",
              "\n",
              "    .dataframe thead th {\n",
              "        text-align: right;\n",
              "    }\n",
              "</style>\n",
              "<table border=\"1\" class=\"dataframe\">\n",
              "  <thead>\n",
              "    <tr style=\"text-align: right;\">\n",
              "      <th></th>\n",
              "      <th>transaction_id</th>\n",
              "      <th>product_id</th>\n",
              "      <th>customer_id</th>\n",
              "      <th>transaction_date</th>\n",
              "      <th>online_order</th>\n",
              "      <th>brand</th>\n",
              "      <th>product_line</th>\n",
              "      <th>product_class</th>\n",
              "      <th>product_size</th>\n",
              "      <th>list_price</th>\n",
              "      <th>standard_cost</th>\n",
              "      <th>product_first_sold_date</th>\n",
              "    </tr>\n",
              "  </thead>\n",
              "  <tbody>\n",
              "    <tr>\n",
              "      <th>1893</th>\n",
              "      <td>1894</td>\n",
              "      <td>87</td>\n",
              "      <td>2615</td>\n",
              "      <td>2017-11-05</td>\n",
              "      <td>0</td>\n",
              "      <td>Giant Bicycles</td>\n",
              "      <td>Standard</td>\n",
              "      <td>high</td>\n",
              "      <td>medium</td>\n",
              "      <td>1179</td>\n",
              "      <td>707</td>\n",
              "      <td>2000-11-05</td>\n",
              "    </tr>\n",
              "    <tr>\n",
              "      <th>3859</th>\n",
              "      <td>3860</td>\n",
              "      <td>33</td>\n",
              "      <td>840</td>\n",
              "      <td>2017-11-22</td>\n",
              "      <td>0</td>\n",
              "      <td>Giant Bicycles</td>\n",
              "      <td>Standard</td>\n",
              "      <td>medium</td>\n",
              "      <td>small</td>\n",
              "      <td>1311</td>\n",
              "      <td>1167</td>\n",
              "      <td>2010-06-09</td>\n",
              "    </tr>\n",
              "    <tr>\n",
              "      <th>12701</th>\n",
              "      <td>12702</td>\n",
              "      <td>0</td>\n",
              "      <td>2971</td>\n",
              "      <td>2017-12-03</td>\n",
              "      <td>1</td>\n",
              "      <td>OHM Cycles</td>\n",
              "      <td>Standard</td>\n",
              "      <td>high</td>\n",
              "      <td>medium</td>\n",
              "      <td>227</td>\n",
              "      <td>136</td>\n",
              "      <td>2004-08-19</td>\n",
              "    </tr>\n",
              "  </tbody>\n",
              "</table>\n",
              "</div>\n",
              "      <button class=\"colab-df-convert\" onclick=\"convertToInteractive('df-cd753bb7-9a14-4f58-8122-08596a48145d')\"\n",
              "              title=\"Convert this dataframe to an interactive table.\"\n",
              "              style=\"display:none;\">\n",
              "        \n",
              "  <svg xmlns=\"http://www.w3.org/2000/svg\" height=\"24px\"viewBox=\"0 0 24 24\"\n",
              "       width=\"24px\">\n",
              "    <path d=\"M0 0h24v24H0V0z\" fill=\"none\"/>\n",
              "    <path d=\"M18.56 5.44l.94 2.06.94-2.06 2.06-.94-2.06-.94-.94-2.06-.94 2.06-2.06.94zm-11 1L8.5 8.5l.94-2.06 2.06-.94-2.06-.94L8.5 2.5l-.94 2.06-2.06.94zm10 10l.94 2.06.94-2.06 2.06-.94-2.06-.94-.94-2.06-.94 2.06-2.06.94z\"/><path d=\"M17.41 7.96l-1.37-1.37c-.4-.4-.92-.59-1.43-.59-.52 0-1.04.2-1.43.59L10.3 9.45l-7.72 7.72c-.78.78-.78 2.05 0 2.83L4 21.41c.39.39.9.59 1.41.59.51 0 1.02-.2 1.41-.59l7.78-7.78 2.81-2.81c.8-.78.8-2.07 0-2.86zM5.41 20L4 18.59l7.72-7.72 1.47 1.35L5.41 20z\"/>\n",
              "  </svg>\n",
              "      </button>\n",
              "      \n",
              "  <style>\n",
              "    .colab-df-container {\n",
              "      display:flex;\n",
              "      flex-wrap:wrap;\n",
              "      gap: 12px;\n",
              "    }\n",
              "\n",
              "    .colab-df-convert {\n",
              "      background-color: #E8F0FE;\n",
              "      border: none;\n",
              "      border-radius: 50%;\n",
              "      cursor: pointer;\n",
              "      display: none;\n",
              "      fill: #1967D2;\n",
              "      height: 32px;\n",
              "      padding: 0 0 0 0;\n",
              "      width: 32px;\n",
              "    }\n",
              "\n",
              "    .colab-df-convert:hover {\n",
              "      background-color: #E2EBFA;\n",
              "      box-shadow: 0px 1px 2px rgba(60, 64, 67, 0.3), 0px 1px 3px 1px rgba(60, 64, 67, 0.15);\n",
              "      fill: #174EA6;\n",
              "    }\n",
              "\n",
              "    [theme=dark] .colab-df-convert {\n",
              "      background-color: #3B4455;\n",
              "      fill: #D2E3FC;\n",
              "    }\n",
              "\n",
              "    [theme=dark] .colab-df-convert:hover {\n",
              "      background-color: #434B5C;\n",
              "      box-shadow: 0px 1px 3px 1px rgba(0, 0, 0, 0.15);\n",
              "      filter: drop-shadow(0px 1px 2px rgba(0, 0, 0, 0.3));\n",
              "      fill: #FFFFFF;\n",
              "    }\n",
              "  </style>\n",
              "\n",
              "      <script>\n",
              "        const buttonEl =\n",
              "          document.querySelector('#df-cd753bb7-9a14-4f58-8122-08596a48145d button.colab-df-convert');\n",
              "        buttonEl.style.display =\n",
              "          google.colab.kernel.accessAllowed ? 'block' : 'none';\n",
              "\n",
              "        async function convertToInteractive(key) {\n",
              "          const element = document.querySelector('#df-cd753bb7-9a14-4f58-8122-08596a48145d');\n",
              "          const dataTable =\n",
              "            await google.colab.kernel.invokeFunction('convertToInteractive',\n",
              "                                                     [key], {});\n",
              "          if (!dataTable) return;\n",
              "\n",
              "          const docLinkHtml = 'Like what you see? Visit the ' +\n",
              "            '<a target=\"_blank\" href=https://colab.research.google.com/notebooks/data_table.ipynb>data table notebook</a>'\n",
              "            + ' to learn more about interactive tables.';\n",
              "          element.innerHTML = '';\n",
              "          dataTable['output_type'] = 'display_data';\n",
              "          await google.colab.output.renderOutput(dataTable, element);\n",
              "          const docLink = document.createElement('div');\n",
              "          docLink.innerHTML = docLinkHtml;\n",
              "          element.appendChild(docLink);\n",
              "        }\n",
              "      </script>\n",
              "    </div>\n",
              "  </div>\n",
              "  "
            ]
          },
          "metadata": {},
          "execution_count": 33
        }
      ]
    },
    {
      "cell_type": "code",
      "source": [
        "df_tran1.to_csv('Transaction_CLEAN.csv', index=False)"
      ],
      "metadata": {
        "id": "BK8IkdmQSDbv"
      },
      "execution_count": null,
      "outputs": []
    },
    {
      "cell_type": "markdown",
      "source": [
        "Getting transaction data in the past three months."
      ],
      "metadata": {
        "id": "XguMOSLrSfdI"
      }
    },
    {
      "cell_type": "code",
      "source": [
        "df_tran1.sort_values(by='transaction_date', ascending=False).head(3)"
      ],
      "metadata": {
        "colab": {
          "base_uri": "https://localhost:8080/",
          "height": 225
        },
        "id": "HjtoKqIrSPCQ",
        "outputId": "226f11ff-cb8a-4f15-e80f-56eb787ddc15"
      },
      "execution_count": null,
      "outputs": [
        {
          "output_type": "execute_result",
          "data": {
            "text/plain": [
              "       transaction_id  product_id  customer_id transaction_date  online_order  \\\n",
              "10904           10905           0         2659       2017-12-30             0   \n",
              "2284             2285          95         3216       2017-12-30             1   \n",
              "7517             7518          65         3433       2017-12-30             0   \n",
              "\n",
              "                brand product_line product_class product_size  list_price  \\\n",
              "10904           Solex     Standard        medium       medium         100   \n",
              "2284   Giant Bicycles     Standard        medium        large         569   \n",
              "7517         WeareA2B     Standard        medium       medium        1807   \n",
              "\n",
              "       standard_cost product_first_sold_date  \n",
              "10904             75              2004-01-18  \n",
              "2284             528              2016-03-31  \n",
              "7517             778              2015-05-23  "
            ],
            "text/html": [
              "\n",
              "  <div id=\"df-0f041b56-6bbb-45bd-b4ca-38017dec284a\">\n",
              "    <div class=\"colab-df-container\">\n",
              "      <div>\n",
              "<style scoped>\n",
              "    .dataframe tbody tr th:only-of-type {\n",
              "        vertical-align: middle;\n",
              "    }\n",
              "\n",
              "    .dataframe tbody tr th {\n",
              "        vertical-align: top;\n",
              "    }\n",
              "\n",
              "    .dataframe thead th {\n",
              "        text-align: right;\n",
              "    }\n",
              "</style>\n",
              "<table border=\"1\" class=\"dataframe\">\n",
              "  <thead>\n",
              "    <tr style=\"text-align: right;\">\n",
              "      <th></th>\n",
              "      <th>transaction_id</th>\n",
              "      <th>product_id</th>\n",
              "      <th>customer_id</th>\n",
              "      <th>transaction_date</th>\n",
              "      <th>online_order</th>\n",
              "      <th>brand</th>\n",
              "      <th>product_line</th>\n",
              "      <th>product_class</th>\n",
              "      <th>product_size</th>\n",
              "      <th>list_price</th>\n",
              "      <th>standard_cost</th>\n",
              "      <th>product_first_sold_date</th>\n",
              "    </tr>\n",
              "  </thead>\n",
              "  <tbody>\n",
              "    <tr>\n",
              "      <th>10904</th>\n",
              "      <td>10905</td>\n",
              "      <td>0</td>\n",
              "      <td>2659</td>\n",
              "      <td>2017-12-30</td>\n",
              "      <td>0</td>\n",
              "      <td>Solex</td>\n",
              "      <td>Standard</td>\n",
              "      <td>medium</td>\n",
              "      <td>medium</td>\n",
              "      <td>100</td>\n",
              "      <td>75</td>\n",
              "      <td>2004-01-18</td>\n",
              "    </tr>\n",
              "    <tr>\n",
              "      <th>2284</th>\n",
              "      <td>2285</td>\n",
              "      <td>95</td>\n",
              "      <td>3216</td>\n",
              "      <td>2017-12-30</td>\n",
              "      <td>1</td>\n",
              "      <td>Giant Bicycles</td>\n",
              "      <td>Standard</td>\n",
              "      <td>medium</td>\n",
              "      <td>large</td>\n",
              "      <td>569</td>\n",
              "      <td>528</td>\n",
              "      <td>2016-03-31</td>\n",
              "    </tr>\n",
              "    <tr>\n",
              "      <th>7517</th>\n",
              "      <td>7518</td>\n",
              "      <td>65</td>\n",
              "      <td>3433</td>\n",
              "      <td>2017-12-30</td>\n",
              "      <td>0</td>\n",
              "      <td>WeareA2B</td>\n",
              "      <td>Standard</td>\n",
              "      <td>medium</td>\n",
              "      <td>medium</td>\n",
              "      <td>1807</td>\n",
              "      <td>778</td>\n",
              "      <td>2015-05-23</td>\n",
              "    </tr>\n",
              "  </tbody>\n",
              "</table>\n",
              "</div>\n",
              "      <button class=\"colab-df-convert\" onclick=\"convertToInteractive('df-0f041b56-6bbb-45bd-b4ca-38017dec284a')\"\n",
              "              title=\"Convert this dataframe to an interactive table.\"\n",
              "              style=\"display:none;\">\n",
              "        \n",
              "  <svg xmlns=\"http://www.w3.org/2000/svg\" height=\"24px\"viewBox=\"0 0 24 24\"\n",
              "       width=\"24px\">\n",
              "    <path d=\"M0 0h24v24H0V0z\" fill=\"none\"/>\n",
              "    <path d=\"M18.56 5.44l.94 2.06.94-2.06 2.06-.94-2.06-.94-.94-2.06-.94 2.06-2.06.94zm-11 1L8.5 8.5l.94-2.06 2.06-.94-2.06-.94L8.5 2.5l-.94 2.06-2.06.94zm10 10l.94 2.06.94-2.06 2.06-.94-2.06-.94-.94-2.06-.94 2.06-2.06.94z\"/><path d=\"M17.41 7.96l-1.37-1.37c-.4-.4-.92-.59-1.43-.59-.52 0-1.04.2-1.43.59L10.3 9.45l-7.72 7.72c-.78.78-.78 2.05 0 2.83L4 21.41c.39.39.9.59 1.41.59.51 0 1.02-.2 1.41-.59l7.78-7.78 2.81-2.81c.8-.78.8-2.07 0-2.86zM5.41 20L4 18.59l7.72-7.72 1.47 1.35L5.41 20z\"/>\n",
              "  </svg>\n",
              "      </button>\n",
              "      \n",
              "  <style>\n",
              "    .colab-df-container {\n",
              "      display:flex;\n",
              "      flex-wrap:wrap;\n",
              "      gap: 12px;\n",
              "    }\n",
              "\n",
              "    .colab-df-convert {\n",
              "      background-color: #E8F0FE;\n",
              "      border: none;\n",
              "      border-radius: 50%;\n",
              "      cursor: pointer;\n",
              "      display: none;\n",
              "      fill: #1967D2;\n",
              "      height: 32px;\n",
              "      padding: 0 0 0 0;\n",
              "      width: 32px;\n",
              "    }\n",
              "\n",
              "    .colab-df-convert:hover {\n",
              "      background-color: #E2EBFA;\n",
              "      box-shadow: 0px 1px 2px rgba(60, 64, 67, 0.3), 0px 1px 3px 1px rgba(60, 64, 67, 0.15);\n",
              "      fill: #174EA6;\n",
              "    }\n",
              "\n",
              "    [theme=dark] .colab-df-convert {\n",
              "      background-color: #3B4455;\n",
              "      fill: #D2E3FC;\n",
              "    }\n",
              "\n",
              "    [theme=dark] .colab-df-convert:hover {\n",
              "      background-color: #434B5C;\n",
              "      box-shadow: 0px 1px 3px 1px rgba(0, 0, 0, 0.15);\n",
              "      filter: drop-shadow(0px 1px 2px rgba(0, 0, 0, 0.3));\n",
              "      fill: #FFFFFF;\n",
              "    }\n",
              "  </style>\n",
              "\n",
              "      <script>\n",
              "        const buttonEl =\n",
              "          document.querySelector('#df-0f041b56-6bbb-45bd-b4ca-38017dec284a button.colab-df-convert');\n",
              "        buttonEl.style.display =\n",
              "          google.colab.kernel.accessAllowed ? 'block' : 'none';\n",
              "\n",
              "        async function convertToInteractive(key) {\n",
              "          const element = document.querySelector('#df-0f041b56-6bbb-45bd-b4ca-38017dec284a');\n",
              "          const dataTable =\n",
              "            await google.colab.kernel.invokeFunction('convertToInteractive',\n",
              "                                                     [key], {});\n",
              "          if (!dataTable) return;\n",
              "\n",
              "          const docLinkHtml = 'Like what you see? Visit the ' +\n",
              "            '<a target=\"_blank\" href=https://colab.research.google.com/notebooks/data_table.ipynb>data table notebook</a>'\n",
              "            + ' to learn more about interactive tables.';\n",
              "          element.innerHTML = '';\n",
              "          dataTable['output_type'] = 'display_data';\n",
              "          await google.colab.output.renderOutput(dataTable, element);\n",
              "          const docLink = document.createElement('div');\n",
              "          docLink.innerHTML = docLinkHtml;\n",
              "          element.appendChild(docLink);\n",
              "        }\n",
              "      </script>\n",
              "    </div>\n",
              "  </div>\n",
              "  "
            ]
          },
          "metadata": {},
          "execution_count": 37
        }
      ]
    },
    {
      "cell_type": "code",
      "source": [
        "# filtering data in the past three months\n",
        "df_tran_latest = df_tran1[(df_tran1['transaction_date'] >= '2017-10-01') & (df_tran1['transaction_date'] <= '2017-12-30')]\n",
        "df_tran_latest.head()"
      ],
      "metadata": {
        "colab": {
          "base_uri": "https://localhost:8080/",
          "height": 357
        },
        "id": "fG44PqKlSOuA",
        "outputId": "3d56ce8a-7365-4ae1-b27c-1ce11908c228"
      },
      "execution_count": null,
      "outputs": [
        {
          "output_type": "execute_result",
          "data": {
            "text/plain": [
              "    transaction_id  product_id  customer_id transaction_date  online_order  \\\n",
              "2                3          37          402       2017-10-16             0   \n",
              "4                5          78          787       2017-10-01             1   \n",
              "15              16           3         2961       2017-10-10             0   \n",
              "20              21          27         1582       2017-10-09             0   \n",
              "23              24          82          515       2017-10-18             0   \n",
              "\n",
              "             brand product_line product_class product_size  list_price  \\\n",
              "2       OHM Cycles     Standard           low       medium        1793   \n",
              "4   Giant Bicycles     Standard        medium        large        1765   \n",
              "15   Trek Bicycles     Standard        medium        large        2091   \n",
              "20   Trek Bicycles     Standard        medium       medium         499   \n",
              "23  Giant Bicycles         Road        medium       medium        1538   \n",
              "\n",
              "    standard_cost product_first_sold_date  \n",
              "2             248              1999-07-22  \n",
              "4             709              2015-08-12  \n",
              "15            388              2003-09-11  \n",
              "20            388              1999-06-25  \n",
              "23            829              2016-02-06  "
            ],
            "text/html": [
              "\n",
              "  <div id=\"df-68daca6e-05bd-41b4-83fa-5eceb9447e2a\">\n",
              "    <div class=\"colab-df-container\">\n",
              "      <div>\n",
              "<style scoped>\n",
              "    .dataframe tbody tr th:only-of-type {\n",
              "        vertical-align: middle;\n",
              "    }\n",
              "\n",
              "    .dataframe tbody tr th {\n",
              "        vertical-align: top;\n",
              "    }\n",
              "\n",
              "    .dataframe thead th {\n",
              "        text-align: right;\n",
              "    }\n",
              "</style>\n",
              "<table border=\"1\" class=\"dataframe\">\n",
              "  <thead>\n",
              "    <tr style=\"text-align: right;\">\n",
              "      <th></th>\n",
              "      <th>transaction_id</th>\n",
              "      <th>product_id</th>\n",
              "      <th>customer_id</th>\n",
              "      <th>transaction_date</th>\n",
              "      <th>online_order</th>\n",
              "      <th>brand</th>\n",
              "      <th>product_line</th>\n",
              "      <th>product_class</th>\n",
              "      <th>product_size</th>\n",
              "      <th>list_price</th>\n",
              "      <th>standard_cost</th>\n",
              "      <th>product_first_sold_date</th>\n",
              "    </tr>\n",
              "  </thead>\n",
              "  <tbody>\n",
              "    <tr>\n",
              "      <th>2</th>\n",
              "      <td>3</td>\n",
              "      <td>37</td>\n",
              "      <td>402</td>\n",
              "      <td>2017-10-16</td>\n",
              "      <td>0</td>\n",
              "      <td>OHM Cycles</td>\n",
              "      <td>Standard</td>\n",
              "      <td>low</td>\n",
              "      <td>medium</td>\n",
              "      <td>1793</td>\n",
              "      <td>248</td>\n",
              "      <td>1999-07-22</td>\n",
              "    </tr>\n",
              "    <tr>\n",
              "      <th>4</th>\n",
              "      <td>5</td>\n",
              "      <td>78</td>\n",
              "      <td>787</td>\n",
              "      <td>2017-10-01</td>\n",
              "      <td>1</td>\n",
              "      <td>Giant Bicycles</td>\n",
              "      <td>Standard</td>\n",
              "      <td>medium</td>\n",
              "      <td>large</td>\n",
              "      <td>1765</td>\n",
              "      <td>709</td>\n",
              "      <td>2015-08-12</td>\n",
              "    </tr>\n",
              "    <tr>\n",
              "      <th>15</th>\n",
              "      <td>16</td>\n",
              "      <td>3</td>\n",
              "      <td>2961</td>\n",
              "      <td>2017-10-10</td>\n",
              "      <td>0</td>\n",
              "      <td>Trek Bicycles</td>\n",
              "      <td>Standard</td>\n",
              "      <td>medium</td>\n",
              "      <td>large</td>\n",
              "      <td>2091</td>\n",
              "      <td>388</td>\n",
              "      <td>2003-09-11</td>\n",
              "    </tr>\n",
              "    <tr>\n",
              "      <th>20</th>\n",
              "      <td>21</td>\n",
              "      <td>27</td>\n",
              "      <td>1582</td>\n",
              "      <td>2017-10-09</td>\n",
              "      <td>0</td>\n",
              "      <td>Trek Bicycles</td>\n",
              "      <td>Standard</td>\n",
              "      <td>medium</td>\n",
              "      <td>medium</td>\n",
              "      <td>499</td>\n",
              "      <td>388</td>\n",
              "      <td>1999-06-25</td>\n",
              "    </tr>\n",
              "    <tr>\n",
              "      <th>23</th>\n",
              "      <td>24</td>\n",
              "      <td>82</td>\n",
              "      <td>515</td>\n",
              "      <td>2017-10-18</td>\n",
              "      <td>0</td>\n",
              "      <td>Giant Bicycles</td>\n",
              "      <td>Road</td>\n",
              "      <td>medium</td>\n",
              "      <td>medium</td>\n",
              "      <td>1538</td>\n",
              "      <td>829</td>\n",
              "      <td>2016-02-06</td>\n",
              "    </tr>\n",
              "  </tbody>\n",
              "</table>\n",
              "</div>\n",
              "      <button class=\"colab-df-convert\" onclick=\"convertToInteractive('df-68daca6e-05bd-41b4-83fa-5eceb9447e2a')\"\n",
              "              title=\"Convert this dataframe to an interactive table.\"\n",
              "              style=\"display:none;\">\n",
              "        \n",
              "  <svg xmlns=\"http://www.w3.org/2000/svg\" height=\"24px\"viewBox=\"0 0 24 24\"\n",
              "       width=\"24px\">\n",
              "    <path d=\"M0 0h24v24H0V0z\" fill=\"none\"/>\n",
              "    <path d=\"M18.56 5.44l.94 2.06.94-2.06 2.06-.94-2.06-.94-.94-2.06-.94 2.06-2.06.94zm-11 1L8.5 8.5l.94-2.06 2.06-.94-2.06-.94L8.5 2.5l-.94 2.06-2.06.94zm10 10l.94 2.06.94-2.06 2.06-.94-2.06-.94-.94-2.06-.94 2.06-2.06.94z\"/><path d=\"M17.41 7.96l-1.37-1.37c-.4-.4-.92-.59-1.43-.59-.52 0-1.04.2-1.43.59L10.3 9.45l-7.72 7.72c-.78.78-.78 2.05 0 2.83L4 21.41c.39.39.9.59 1.41.59.51 0 1.02-.2 1.41-.59l7.78-7.78 2.81-2.81c.8-.78.8-2.07 0-2.86zM5.41 20L4 18.59l7.72-7.72 1.47 1.35L5.41 20z\"/>\n",
              "  </svg>\n",
              "      </button>\n",
              "      \n",
              "  <style>\n",
              "    .colab-df-container {\n",
              "      display:flex;\n",
              "      flex-wrap:wrap;\n",
              "      gap: 12px;\n",
              "    }\n",
              "\n",
              "    .colab-df-convert {\n",
              "      background-color: #E8F0FE;\n",
              "      border: none;\n",
              "      border-radius: 50%;\n",
              "      cursor: pointer;\n",
              "      display: none;\n",
              "      fill: #1967D2;\n",
              "      height: 32px;\n",
              "      padding: 0 0 0 0;\n",
              "      width: 32px;\n",
              "    }\n",
              "\n",
              "    .colab-df-convert:hover {\n",
              "      background-color: #E2EBFA;\n",
              "      box-shadow: 0px 1px 2px rgba(60, 64, 67, 0.3), 0px 1px 3px 1px rgba(60, 64, 67, 0.15);\n",
              "      fill: #174EA6;\n",
              "    }\n",
              "\n",
              "    [theme=dark] .colab-df-convert {\n",
              "      background-color: #3B4455;\n",
              "      fill: #D2E3FC;\n",
              "    }\n",
              "\n",
              "    [theme=dark] .colab-df-convert:hover {\n",
              "      background-color: #434B5C;\n",
              "      box-shadow: 0px 1px 3px 1px rgba(0, 0, 0, 0.15);\n",
              "      filter: drop-shadow(0px 1px 2px rgba(0, 0, 0, 0.3));\n",
              "      fill: #FFFFFF;\n",
              "    }\n",
              "  </style>\n",
              "\n",
              "      <script>\n",
              "        const buttonEl =\n",
              "          document.querySelector('#df-68daca6e-05bd-41b4-83fa-5eceb9447e2a button.colab-df-convert');\n",
              "        buttonEl.style.display =\n",
              "          google.colab.kernel.accessAllowed ? 'block' : 'none';\n",
              "\n",
              "        async function convertToInteractive(key) {\n",
              "          const element = document.querySelector('#df-68daca6e-05bd-41b4-83fa-5eceb9447e2a');\n",
              "          const dataTable =\n",
              "            await google.colab.kernel.invokeFunction('convertToInteractive',\n",
              "                                                     [key], {});\n",
              "          if (!dataTable) return;\n",
              "\n",
              "          const docLinkHtml = 'Like what you see? Visit the ' +\n",
              "            '<a target=\"_blank\" href=https://colab.research.google.com/notebooks/data_table.ipynb>data table notebook</a>'\n",
              "            + ' to learn more about interactive tables.';\n",
              "          element.innerHTML = '';\n",
              "          dataTable['output_type'] = 'display_data';\n",
              "          await google.colab.output.renderOutput(dataTable, element);\n",
              "          const docLink = document.createElement('div');\n",
              "          docLink.innerHTML = docLinkHtml;\n",
              "          element.appendChild(docLink);\n",
              "        }\n",
              "      </script>\n",
              "    </div>\n",
              "  </div>\n",
              "  "
            ]
          },
          "metadata": {},
          "execution_count": 38
        }
      ]
    },
    {
      "cell_type": "code",
      "source": [
        "# cheking date\n",
        "df_tran_latest['transaction_date']"
      ],
      "metadata": {
        "colab": {
          "base_uri": "https://localhost:8080/"
        },
        "id": "mvowmsL9SOcj",
        "outputId": "8d4ee6cf-160d-4cd3-d48d-cba7e9a9b4b4"
      },
      "execution_count": null,
      "outputs": [
        {
          "output_type": "execute_result",
          "data": {
            "text/plain": [
              "2       2017-10-16\n",
              "4       2017-10-01\n",
              "15      2017-10-10\n",
              "20      2017-10-09\n",
              "23      2017-10-18\n",
              "           ...    \n",
              "19984   2017-11-15\n",
              "19985   2017-11-09\n",
              "19986   2017-11-01\n",
              "19993   2017-12-23\n",
              "19996   2017-11-09\n",
              "Name: transaction_date, Length: 4938, dtype: datetime64[ns]"
            ]
          },
          "metadata": {},
          "execution_count": 39
        }
      ]
    },
    {
      "cell_type": "code",
      "source": [
        "# saving dataset\n",
        "df_tran_latest.to_csv('Transaction_3months_CLEAN.csv', index=False)"
      ],
      "metadata": {
        "id": "CqGb9dnlUStt"
      },
      "execution_count": null,
      "outputs": []
    },
    {
      "cell_type": "code",
      "source": [
        "df_tran_latest.info()"
      ],
      "metadata": {
        "colab": {
          "base_uri": "https://localhost:8080/"
        },
        "id": "8H-AH36KUSVT",
        "outputId": "5f18ec52-6f26-4efe-8fcf-6d15b3033a3f"
      },
      "execution_count": null,
      "outputs": [
        {
          "output_type": "stream",
          "name": "stdout",
          "text": [
            "<class 'pandas.core.frame.DataFrame'>\n",
            "Int64Index: 4938 entries, 2 to 19996\n",
            "Data columns (total 12 columns):\n",
            " #   Column                   Non-Null Count  Dtype         \n",
            "---  ------                   --------------  -----         \n",
            " 0   transaction_id           4938 non-null   int64         \n",
            " 1   product_id               4938 non-null   int64         \n",
            " 2   customer_id              4938 non-null   int64         \n",
            " 3   transaction_date         4938 non-null   datetime64[ns]\n",
            " 4   online_order             4938 non-null   int64         \n",
            " 5   brand                    4938 non-null   object        \n",
            " 6   product_line             4938 non-null   object        \n",
            " 7   product_class            4938 non-null   object        \n",
            " 8   product_size             4938 non-null   object        \n",
            " 9   list_price               4938 non-null   int64         \n",
            " 10  standard_cost            4938 non-null   int64         \n",
            " 11  product_first_sold_date  4938 non-null   datetime64[ns]\n",
            "dtypes: datetime64[ns](2), int64(6), object(4)\n",
            "memory usage: 501.5+ KB\n"
          ]
        }
      ]
    },
    {
      "cell_type": "code",
      "source": [],
      "metadata": {
        "id": "V9XQ0QS7UR1z"
      },
      "execution_count": null,
      "outputs": []
    }
  ],
  "metadata": {
    "colab": {
      "provenance": []
    },
    "kernelspec": {
      "display_name": "Python 3",
      "name": "python3"
    },
    "language_info": {
      "name": "python"
    }
  },
  "nbformat": 4,
  "nbformat_minor": 0
}